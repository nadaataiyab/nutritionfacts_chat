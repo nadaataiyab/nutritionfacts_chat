{
 "cells": [
  {
   "cell_type": "code",
   "execution_count": null,
   "metadata": {},
   "outputs": [],
   "source": [
    "import pandas as pd\n",
    "import numpy as np\n",
    "import os\n",
    "import gradio as gr\n",
    "from dotenv import load_dotenv\n",
    "\n",
    "from langchain_openai import ChatOpenAI, OpenAIEmbeddings\n",
    "from langchain.prompts import ChatPromptTemplate, MessagesPlaceholder\n",
    "from langchain.vectorstores import Chroma\n",
    "from langchain_core.output_parsers import StrOutputParser\n",
    "from langchain.schema import AIMessage, HumanMessage\n",
    "\n",
    "\n",
    "\n",
    "pd.set_option('display.max_colwidth', 300)  # Or use a large number if 'None' does not work in some environments\n",
    "pd.set_option('display.max_columns', 300)  # Show all columns\n",
    "pd.set_option('display.max_rows', 20)  # Show all row\n",
    "\n",
    "load_dotenv()\n",
    "OPENAI_APIKEY = os.environ['OPENAI_APIKEY']"
   ]
  },
  {
   "cell_type": "markdown",
   "metadata": {},
   "source": [
    "# Set up Chain"
   ]
  },
  {
   "cell_type": "code",
   "execution_count": null,
   "metadata": {},
   "outputs": [],
   "source": [
    "# Instantiate models\n",
    "embeddings_model = OpenAIEmbeddings(api_key=OPENAI_APIKEY, model='text-embedding-3-large', max_retries=100, chunk_size=16, show_progress_bar=False)\n",
    "chat_model_4 = ChatOpenAI(api_key=OPENAI_APIKEY, temperature=0.5, model='gpt-4-turbo-2024-04-09')\n",
    "# Load chroma from disk\n",
    "vectorstore = Chroma(persist_directory=\"../chroma_db\", embedding_function=embeddings_model)\n",
    "# Set up the vectorstore to be the retriever\n",
    "num_results = 5\n",
    "retriever = vectorstore.as_retriever(search_kwargs={'k': num_results})"
   ]
  },
  {
   "cell_type": "code",
   "execution_count": 21,
   "metadata": {},
   "outputs": [],
   "source": [
    "contextualize_q_system_prompt = \"\"\"Given a chat history and the latest user question \\\n",
    "which might reference context in the chat history, formulate a standalone question \\\n",
    "which can be understood without the chat history. Do NOT answer the question, \\\n",
    "just reformulate it if needed and otherwise return it as is. Be sure to include relevant context that might\n",
    "be in chat history, such as the health conditions, demographic information, etc.\"\"\"\n",
    "\n",
    "contextualize_q_prompt = ChatPromptTemplate.from_messages(\n",
    "    [\n",
    "        (\"system\", contextualize_q_system_prompt),\n",
    "        MessagesPlaceholder(\"chat_history\", optional=True),\n",
    "        (\"human\", \"{question}\"),\n",
    "    ]\n",
    ")\n",
    "\n",
    "contextualize_chain = contextualize_q_prompt | chat_model_4 | StrOutputParser()\n",
    "\n"
   ]
  },
  {
   "cell_type": "code",
   "execution_count": 22,
   "metadata": {},
   "outputs": [],
   "source": [
    "chat_history = [[\"Is juice bad for me?\", \"It's better to avoid juice and drink water\"],\n",
    "                [\"Should I drink filtered water?\", \"Filtered water is usually safer\"],\n",
    "                [\"How much water should I drink a day?\", \"5-7 cups\"]]\n",
    "question = \"But how much for children?.\""
   ]
  },
  {
   "cell_type": "code",
   "execution_count": 23,
   "metadata": {},
   "outputs": [],
   "source": [
    "def format_chat_history(chat_history):\n",
    "    chat_history_langchain_format = []\n",
    "    for human, ai in chat_history:\n",
    "        chat_history_langchain_format.append(HumanMessage(content=human))\n",
    "        chat_history_langchain_format.append(AIMessage(content=ai))\n",
    "    \n",
    "    return chat_history_langchain_format"
   ]
  },
  {
   "cell_type": "code",
   "execution_count": 24,
   "metadata": {},
   "outputs": [
    {
     "data": {
      "text/plain": [
       "[HumanMessage(content='Is juice bad for me?'),\n",
       " AIMessage(content=\"It's better to avoid juice and drink water\"),\n",
       " HumanMessage(content='Should I drink filtered water?'),\n",
       " AIMessage(content='Filtered water is usually safer'),\n",
       " HumanMessage(content='How much water should I drink a day?'),\n",
       " AIMessage(content='5-7 cups')]"
      ]
     },
     "execution_count": 24,
     "metadata": {},
     "output_type": "execute_result"
    }
   ],
   "source": [
    "langchain_chat_history = format_chat_history(chat_history)\n",
    "langchain_chat_history"
   ]
  },
  {
   "cell_type": "code",
   "execution_count": 25,
   "metadata": {},
   "outputs": [
    {
     "data": {
      "text/plain": [
       "'How much water should children drink per day?'"
      ]
     },
     "execution_count": 25,
     "metadata": {},
     "output_type": "execute_result"
    }
   ],
   "source": [
    "\n",
    "contextualized_question = contextualize_chain.invoke({'chat_history': langchain_chat_history, 'question': question})\n",
    "contextualized_question\n"
   ]
  },
  {
   "cell_type": "code",
   "execution_count": 26,
   "metadata": {},
   "outputs": [
    {
     "data": {
      "text/plain": [
       "['What Is the Safest Metabolism Booster?',\n",
       " 'What Is the Safest Metabolism Booster?',\n",
       " 'How Many Glasses of Water Should We Drink a Day?',\n",
       " 'How Many Glasses of Water Should We Drink a Day?',\n",
       " 'Podcast: Boosting Our Metabolism']"
      ]
     },
     "execution_count": 26,
     "metadata": {},
     "output_type": "execute_result"
    }
   ],
   "source": [
    "context = retriever.invoke(contextualized_question)\n",
    "[c.metadata['title'] for c in context]"
   ]
  },
  {
   "cell_type": "code",
   "execution_count": 27,
   "metadata": {},
   "outputs": [],
   "source": [
    "template = \"\"\"You are an assistant for question-answering tasks regarding\n",
    "plant-based nutrition to prevent and reverse disease and nutrition science. \n",
    "The following are snippets of transcripts from Dr Michael Greger's nutrition facts\n",
    "videos that you are going to use to to answer the question.\n",
    "\n",
    "If you don't know the answer, just say that you don't know.\n",
    "Ask follow-up questions if appropriate. \n",
    "\n",
    "Context: {context}\n",
    "\n",
    "Question: {contextualized_question}\n",
    "\n",
    "Answer: \n",
    "\n",
    "\"\"\"\n",
    "\n",
    "answer_prompt = ChatPromptTemplate.from_template(template)\n",
    "\n",
    "qa_chain = answer_prompt | chat_model_4 | StrOutputParser()"
   ]
  },
  {
   "cell_type": "code",
   "execution_count": 28,
   "metadata": {},
   "outputs": [
    {
     "data": {
      "text/plain": [
       "'For children ages 4 through 8, the recommended daily adequate intake of water is about 7 cups a day. For ages 9 through 13, it is recommended that girls drink 8 cups a day and boys drink 10 cups a day. These recommendations may offer more than just hydration benefits, including potential increases in metabolic rate.'"
      ]
     },
     "execution_count": 28,
     "metadata": {},
     "output_type": "execute_result"
    }
   ],
   "source": [
    "answer = qa_chain.invoke({ 'context': context, 'contextualized_question': contextualized_question})\n",
    "answer"
   ]
  },
  {
   "cell_type": "code",
   "execution_count": 29,
   "metadata": {},
   "outputs": [],
   "source": [
    "def format_result(answer, context):\n",
    "    # Extract unique pairs of titles and video IDs from the context\n",
    "    unique_videos = set((doc.metadata['title'], doc.metadata['videoId']) for doc in context)\n",
    "    \n",
    "    # Create a plain text string where each title is followed by its URL\n",
    "    titles_with_links = [\n",
    "        f\"{title}: https://www.youtube.com/watch?v={video_id}\" for title, video_id in unique_videos\n",
    "    ]\n",
    "    \n",
    "    # Join these entries with line breaks to form a clear list\n",
    "    titles_string = '\\n'.join(titles_with_links)\n",
    "    titles_formatted = f\"Relevant Videos:\\n{titles_string}\"\n",
    "    \n",
    "    # Combine the answer from the result with the formatted list of video links\n",
    "    response = f\"{answer}\\n\\n{titles_formatted}\"\n",
    "\n",
    "    return response"
   ]
  },
  {
   "cell_type": "code",
   "execution_count": 30,
   "metadata": {},
   "outputs": [
    {
     "name": "stdout",
     "output_type": "stream",
     "text": [
      "For children ages 4 through 8, the recommended daily adequate intake of water is about 7 cups a day. For ages 9 through 13, it is recommended that girls drink 8 cups a day and boys drink 10 cups a day. These recommendations may offer more than just hydration benefits, including potential increases in metabolic rate.\n",
      "\n",
      "Relevant Videos:\n",
      "What Is the Safest Metabolism Booster?: https://www.youtube.com/watch?v=WGlENiyN4Dw\n",
      "How Many Glasses of Water Should We Drink a Day?: https://www.youtube.com/watch?v=qrzSLIBOauM\n",
      "Podcast: Boosting Our Metabolism: https://www.youtube.com/watch?v=HyuXNzLzKYM\n"
     ]
    }
   ],
   "source": [
    "print(format_result(answer, context))"
   ]
  },
  {
   "cell_type": "markdown",
   "metadata": {},
   "source": [
    "# Put the Code Together"
   ]
  },
  {
   "cell_type": "code",
   "execution_count": null,
   "metadata": {},
   "outputs": [],
   "source": [
    "\n",
    "class ContextRetriever:\n",
    "    def __init__(self, embeddings_model, persist_directory, num_results):\n",
    "        self.persist_directory = persist_directory\n",
    "        self.num_results = num_results\n",
    "        self.vectorstore = Chroma(persist_directory=self.persist_directory, embedding_function=embeddings_model)\n",
    "        self.retriever = self.vectorstore.as_retriever(search_kwargs={'k': self.num_results})\n",
    "    \n",
    "    def get_context(self, question):\n",
    "        self.context = self.retriever.invoke(question)\n",
    "        return self.context\n",
    "\n",
    "class ChatHistoryFormatter:\n",
    "    @staticmethod\n",
    "    def format_chat_history(chat_history, len_history=10):\n",
    "        formatted_history = []\n",
    "        if len(chat_history) >0:\n",
    "            for human, ai in chat_history[-len_history:]:\n",
    "                formatted_history.append(HumanMessage(content=human))\n",
    "                formatted_history.append(AIMessage(content=ai))\n",
    "            return formatted_history\n",
    "        else:\n",
    "            return chat_history\n",
    "\n",
    "class QuestionContextualizer:\n",
    "    def __init__(self, chat_model):\n",
    "        self.chat_model = chat_model\n",
    "        self.contextualize_q_system_prompt = \"\"\"Given a chat history and the latest user question \\\n",
    "                                                which might reference context in the chat history, formulate a standalone question \\\n",
    "                                                which can be understood without the chat history. Do NOT answer the question, \\\n",
    "                                                just reformulate it if needed and otherwise return it as is.\"\"\"\n",
    "        self.prompt_template = ChatPromptTemplate.from_messages([\n",
    "            (\"system\", self.contextualize_q_system_prompt),\n",
    "            MessagesPlaceholder(\"chat_history\", optional=True),\n",
    "            (\"human\", \"{question}\")\n",
    "        ])\n",
    "        self.contextualize_chain = contextualize_q_prompt | chat_model | StrOutputParser()\n",
    "\n",
    "    def contextualize_question(self, formatted_chat_history, question):\n",
    "        self.question = question\n",
    "        self.formatted_chat_history = formatted_chat_history\n",
    "        self.contextualized_question = self.contextualize_chain.invoke({'chat_history': formatted_chat_history, 'question': question})\n",
    "        return self.contextualized_question \n",
    "\n",
    "class AnswerGenerator:\n",
    "    def __init__(self, chat_model):\n",
    "        self.chat_model = chat_model\n",
    "        # Create the prompt template\n",
    "        self.prompt_template = \"\"\"You are an assistant for question-answering tasks regarding\n",
    "                                    plant-based nutrition to prevent and reverse disease and nutrition science in general. \n",
    "                                    The following are snippets of transcripts from Dr Michael Greger's nutrition facts\n",
    "                                    videos that you are going to use to to answer the question. If you don't know the answer, just say that you don't know.\n",
    "                                    Ask follow-up questions if appropriate. \n",
    "\n",
    "                                    Context: {context}\n",
    "\n",
    "                                    Question: {contextualized_question}\n",
    "\n",
    "                                    Answer: \n",
    "                                    \"\"\"\n",
    "        self.prompt_template = ChatPromptTemplate.from_template(self.prompt_template)\n",
    "        # Question and answer chain that takes in the context and contextualized question and spits out the answer\n",
    "        self.qa_chain = self.prompt_template | self.chat_model | StrOutputParser()\n",
    "\n",
    "    def generate_answer(self, context, question):\n",
    "        self.context = context\n",
    "        self.question = question\n",
    "        # Invoke the question and answer chain\n",
    "        self.answer = self.qa_chain.invoke({'context': self.context, 'contextualized_question': self.question})\n",
    "        \n",
    "        return self.answer\n",
    "\n",
    "\n",
    "class ResultFormatter:\n",
    "    @staticmethod\n",
    "    def format_result(answer, context):\n",
    "        # Extract unique pairs of titles and video IDs from the context\n",
    "        unique_videos = set((doc.metadata['title'], doc.metadata['videoId']) for doc in context)        \n",
    "        # Create a plain text string where each title is followed by its URL\n",
    "        titles_with_links = [f\"{title}: https://www.youtube.com/watch?v={video_id}\" for title, video_id in unique_videos]\n",
    "        # Join these entries with line breaks to form a clear list\n",
    "        titles_string = '\\n'.join(titles_with_links)\n",
    "        titles_formatted = f\"Relevant Videos:\\n{titles_string}\"\n",
    "        # Combine the answer from the result with the formatted list of video links\n",
    "        response = f\"{answer}\\n\\n{titles_formatted}\"\n",
    "\n",
    "        return response\n",
    "\n",
    "\n",
    "class NutritionBot:\n",
    "    def __init__(self, temp=0.5, \n",
    "                       chat_model_name='gpt-4-turbo-2024-04-09', \n",
    "                       embeddings_model_name='text-embedding-3-large',\n",
    "                       num_results=10,\n",
    "                       persist_directory='../chroma_db',\n",
    "                       ):\n",
    "        # Load environment and API keys\n",
    "        load_dotenv()\n",
    "        api_key = os.getenv('OPENAI_APIKEY')\n",
    "\n",
    "        self.embeddings_model_name = embeddings_model_name\n",
    "        self.temp = temp\n",
    "        self.chat_model_name = chat_model_name\n",
    "        self.num_results = num_results\n",
    "        self.persist_directory = persist_directory\n",
    "\n",
    "        # Embeddings Model\n",
    "        self.embeddings_model = OpenAIEmbeddings(api_key=api_key, model=self.embeddings_model_name, max_retries=100, chunk_size=16, show_progress_bar=False)\n",
    "\n",
    "        # Initialize Chat Model\n",
    "        self.chat_model = ChatOpenAI(api_key=api_key, temperature=self.temp, model=self.chat_model_name)\n",
    "\n",
    "        # Set up vector store and other components\n",
    "        self.context_retriever = ContextRetriever(embeddings_model=self.embeddings_model, persist_directory=self.persist_directory, num_results=self.num_results)\n",
    "        self.chat_history_formatter = ChatHistoryFormatter()\n",
    "        self.question_contextualizer = QuestionContextualizer(self.chat_model)\n",
    "        self.answer_generator = AnswerGenerator(self.chat_model)\n",
    "        self.result_formatter = ResultFormatter()\n",
    "\n",
    "    def process_chat(self, new_question, chat_history):\n",
    "        formatted_chat_history = self.chat_history_formatter.format_chat_history(chat_history)\n",
    "        contextualized_question = self.question_contextualizer.contextualize_question(formatted_chat_history, new_question)\n",
    "        context = self.context_retriever.get_context(contextualized_question)\n",
    "        answer = self.answer_generator.generate_answer(context=context, question=contextualized_question)\n",
    "        final_result = self.result_formatter.format_result(answer, context)\n",
    "        return final_result\n"
   ]
  },
  {
   "cell_type": "code",
   "execution_count": null,
   "metadata": {},
   "outputs": [],
   "source": [
    "nutrition_bot = NutritionBot()"
   ]
  },
  {
   "cell_type": "code",
   "execution_count": null,
   "metadata": {},
   "outputs": [],
   "source": [
    "history = []\n",
    "question = 'eggs and diabetes'\n",
    "print(nutrition_bot.process_chat(chat_history=history, new_question=question))"
   ]
  },
  {
   "cell_type": "code",
   "execution_count": null,
   "metadata": {},
   "outputs": [],
   "source": [
    "history = [[\"Is juice bad for me?\", \"It's better to avoid juice and drink water\"],\n",
    "                [\"Should I drink filtered water?\", \"Filtered water is usually saafer\"],\n",
    "                [\"How much water should I drink a day?\", \"5-7 cups\"]]\n",
    "question = \"But how much for children?.\"\n",
    "print(nutrition_bot.process_chat(chat_history=history, new_question=question))"
   ]
  },
  {
   "cell_type": "code",
   "execution_count": null,
   "metadata": {},
   "outputs": [],
   "source": [
    "nutrition_bot = NutritionBot()\n"
   ]
  },
  {
   "cell_type": "code",
   "execution_count": 19,
   "metadata": {},
   "outputs": [],
   "source": [
    "# Set up chat bot interface\n",
    "answer_bot = gr.ChatInterface(\n",
    "                            nutrition_bot.process_chat,\n",
    "                            chatbot=gr.Chatbot(height=300),\n",
    "                            textbox=gr.Textbox(placeholder=\"Ask me a question about nutrition and health\", container=False, scale=7),\n",
    "                            title=\"Nutrition Facts ChatBot\",\n",
    "                            description=\"Ask Dr Michael McGregor's Nutrition Facts videos any questions!\",\n",
    "                            theme=\"soft\",\n",
    "                            examples=[\"diverticulosis\", \"heart disease\", \"low carb diets\", \"diabetes\", \"green tea\"],\n",
    "                            cache_examples=False,\n",
    "                            retry_btn=None,\n",
    "                            undo_btn=None,\n",
    "                            clear_btn=None,\n",
    "                            stop_btn=\"Interrupt\",\n",
    "                            submit_btn=\"Ask\"\n",
    "                        )"
   ]
  },
  {
   "cell_type": "code",
   "execution_count": 20,
   "metadata": {},
   "outputs": [
    {
     "name": "stdout",
     "output_type": "stream",
     "text": [
      "Running on local URL:  http://127.0.0.1:7860\n",
      "Running on public URL: https://a8156e04ed00dda148.gradio.live\n",
      "\n",
      "This share link expires in 72 hours. For free permanent hosting and GPU upgrades, run `gradio deploy` from Terminal to deploy to Spaces (https://huggingface.co/spaces)\n"
     ]
    },
    {
     "data": {
      "text/html": [
       "<div><iframe src=\"https://a8156e04ed00dda148.gradio.live\" width=\"100%\" height=\"500\" allow=\"autoplay; camera; microphone; clipboard-read; clipboard-write;\" frameborder=\"0\" allowfullscreen></iframe></div>"
      ],
      "text/plain": [
       "<IPython.core.display.HTML object>"
      ]
     },
     "metadata": {},
     "output_type": "display_data"
    },
    {
     "data": {
      "text/plain": []
     },
     "execution_count": 20,
     "metadata": {},
     "output_type": "execute_result"
    }
   ],
   "source": [
    "answer_bot.launch(share=True)"
   ]
  },
  {
   "cell_type": "code",
   "execution_count": null,
   "metadata": {},
   "outputs": [],
   "source": []
  }
 ],
 "metadata": {
  "kernelspec": {
   "display_name": "nutritionfacts_chat-G3oMJuqJ",
   "language": "python",
   "name": "python3"
  },
  "language_info": {
   "codemirror_mode": {
    "name": "ipython",
    "version": 3
   },
   "file_extension": ".py",
   "mimetype": "text/x-python",
   "name": "python",
   "nbconvert_exporter": "python",
   "pygments_lexer": "ipython3",
   "version": "3.12.1"
  }
 },
 "nbformat": 4,
 "nbformat_minor": 2
}

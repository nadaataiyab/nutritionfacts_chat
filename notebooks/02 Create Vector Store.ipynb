{
 "cells": [
  {
   "cell_type": "markdown",
   "metadata": {},
   "source": [
    "# About\n",
    "- Load transcript data\n",
    "- Create and persist a chromadb"
   ]
  },
  {
   "cell_type": "markdown",
   "metadata": {},
   "source": [
    "# Imports and Settings"
   ]
  },
  {
   "cell_type": "code",
   "execution_count": 49,
   "metadata": {},
   "outputs": [],
   "source": [
    "import pandas as pd\n",
    "import os\n",
    "from dotenv import load_dotenv\n",
    "\n",
    "from langchain_openai.embeddings import OpenAIEmbeddings\n",
    "from langchain.vectorstores import Chroma\n",
    "from langchain.document_loaders import DataFrameLoader\n",
    "from langchain.text_splitter import RecursiveCharacterTextSplitter\n",
    "\n",
    "\n",
    "load_dotenv()\n",
    "OPENAI_APIKEY = os.environ['OPENAI_APIKEY']"
   ]
  },
  {
   "cell_type": "markdown",
   "metadata": {},
   "source": [
    "# Create Vector Store"
   ]
  },
  {
   "cell_type": "code",
   "execution_count": 50,
   "metadata": {},
   "outputs": [],
   "source": [
    "\n",
    "# Instantiate the embeddings model\n",
    "# OpenAI embeddings models: \n",
    "# OpenAI pricing: \n",
    "# Documentation on LangChain: https://python.langchain.com/docs/modules/data_connection/text_embedding/ ; https://python.langchain.com/docs/integrations/text_embedding/openai/\n",
    "embeddings_model = OpenAIEmbeddings(api_key=OPENAI_APIKEY, model='text-embedding-3-large', max_retries=100, chunk_size=16, show_progress_bar=False)\n"
   ]
  },
  {
   "cell_type": "code",
   "execution_count": 51,
   "metadata": {},
   "outputs": [
    {
     "data": {
      "text/html": [
       "<div>\n",
       "<style scoped>\n",
       "    .dataframe tbody tr th:only-of-type {\n",
       "        vertical-align: middle;\n",
       "    }\n",
       "\n",
       "    .dataframe tbody tr th {\n",
       "        vertical-align: top;\n",
       "    }\n",
       "\n",
       "    .dataframe thead th {\n",
       "        text-align: right;\n",
       "    }\n",
       "</style>\n",
       "<table border=\"1\" class=\"dataframe\">\n",
       "  <thead>\n",
       "    <tr style=\"text-align: right;\">\n",
       "      <th></th>\n",
       "      <th>Unnamed: 0.1</th>\n",
       "      <th>Unnamed: 0</th>\n",
       "      <th>videoId</th>\n",
       "      <th>title</th>\n",
       "      <th>description</th>\n",
       "      <th>publishedAt</th>\n",
       "      <th>date</th>\n",
       "      <th>year</th>\n",
       "      <th>transcript</th>\n",
       "    </tr>\n",
       "  </thead>\n",
       "  <tbody>\n",
       "    <tr>\n",
       "      <th>0</th>\n",
       "      <td>0</td>\n",
       "      <td>0</td>\n",
       "      <td>r3PuCQ8CxTc</td>\n",
       "      <td>Benefits and Side Effects of the Pneumonia Vac...</td>\n",
       "      <td>Randomized controlled trials have found that p...</td>\n",
       "      <td>2024-04-10T11:59:52Z</td>\n",
       "      <td>2024-04-10</td>\n",
       "      <td>2024</td>\n",
       "      <td>\"Benefits and Side Effects of the Pneumonia Va...</td>\n",
       "    </tr>\n",
       "    <tr>\n",
       "      <th>1</th>\n",
       "      <td>2</td>\n",
       "      <td>2</td>\n",
       "      <td>oa6UtySJKFE</td>\n",
       "      <td>Benefits and Side Effects of the Flu Vaccine</td>\n",
       "      <td>Flu shots can prevent more than just the flu. ...</td>\n",
       "      <td>2024-04-08T11:59:55Z</td>\n",
       "      <td>2024-04-08</td>\n",
       "      <td>2024</td>\n",
       "      <td>In this 3-video series, I show the science beh...</td>\n",
       "    </tr>\n",
       "    <tr>\n",
       "      <th>2</th>\n",
       "      <td>3</td>\n",
       "      <td>3</td>\n",
       "      <td>wZLgy4dvM1Y</td>\n",
       "      <td>New Sponsorship: Big Broccoli</td>\n",
       "      <td>Help keep us ad- and sponsorship-free by makin...</td>\n",
       "      <td>2024-04-07T15:59:56Z</td>\n",
       "      <td>2024-04-07</td>\n",
       "      <td>2024</td>\n",
       "      <td>I’m Dr. Michael Greger and ever since I starte...</td>\n",
       "    </tr>\n",
       "  </tbody>\n",
       "</table>\n",
       "</div>"
      ],
      "text/plain": [
       "   Unnamed: 0.1  Unnamed: 0      videoId  \\\n",
       "0             0           0  r3PuCQ8CxTc   \n",
       "1             2           2  oa6UtySJKFE   \n",
       "2             3           3  wZLgy4dvM1Y   \n",
       "\n",
       "                                               title  \\\n",
       "0  Benefits and Side Effects of the Pneumonia Vac...   \n",
       "1       Benefits and Side Effects of the Flu Vaccine   \n",
       "2                      New Sponsorship: Big Broccoli   \n",
       "\n",
       "                                         description           publishedAt  \\\n",
       "0  Randomized controlled trials have found that p...  2024-04-10T11:59:52Z   \n",
       "1  Flu shots can prevent more than just the flu. ...  2024-04-08T11:59:55Z   \n",
       "2  Help keep us ad- and sponsorship-free by makin...  2024-04-07T15:59:56Z   \n",
       "\n",
       "         date  year                                         transcript  \n",
       "0  2024-04-10  2024  \"Benefits and Side Effects of the Pneumonia Va...  \n",
       "1  2024-04-08  2024  In this 3-video series, I show the science beh...  \n",
       "2  2024-04-07  2024  I’m Dr. Michael Greger and ever since I starte...  "
      ]
     },
     "execution_count": 51,
     "metadata": {},
     "output_type": "execute_result"
    }
   ],
   "source": [
    "# Load the data\n",
    "df_transcripts = pd.read_csv('../data/transcripts_all_2024-04-10_cleaned')\n",
    "df_transcripts.head(3)"
   ]
  },
  {
   "cell_type": "code",
   "execution_count": 52,
   "metadata": {},
   "outputs": [
    {
     "data": {
      "text/html": [
       "<div>\n",
       "<style scoped>\n",
       "    .dataframe tbody tr th:only-of-type {\n",
       "        vertical-align: middle;\n",
       "    }\n",
       "\n",
       "    .dataframe tbody tr th {\n",
       "        vertical-align: top;\n",
       "    }\n",
       "\n",
       "    .dataframe thead th {\n",
       "        text-align: right;\n",
       "    }\n",
       "</style>\n",
       "<table border=\"1\" class=\"dataframe\">\n",
       "  <thead>\n",
       "    <tr style=\"text-align: right;\">\n",
       "      <th></th>\n",
       "      <th>videoId</th>\n",
       "      <th>title</th>\n",
       "      <th>description</th>\n",
       "      <th>publishedAt</th>\n",
       "      <th>date</th>\n",
       "      <th>year</th>\n",
       "      <th>transcript</th>\n",
       "    </tr>\n",
       "  </thead>\n",
       "  <tbody>\n",
       "    <tr>\n",
       "      <th>0</th>\n",
       "      <td>r3PuCQ8CxTc</td>\n",
       "      <td>Benefits and Side Effects of the Pneumonia Vac...</td>\n",
       "      <td>Randomized controlled trials have found that p...</td>\n",
       "      <td>2024-04-10T11:59:52Z</td>\n",
       "      <td>2024-04-10</td>\n",
       "      <td>2024</td>\n",
       "      <td>\"Benefits and Side Effects of the Pneumonia Va...</td>\n",
       "    </tr>\n",
       "    <tr>\n",
       "      <th>1</th>\n",
       "      <td>oa6UtySJKFE</td>\n",
       "      <td>Benefits and Side Effects of the Flu Vaccine</td>\n",
       "      <td>Flu shots can prevent more than just the flu. ...</td>\n",
       "      <td>2024-04-08T11:59:55Z</td>\n",
       "      <td>2024-04-08</td>\n",
       "      <td>2024</td>\n",
       "      <td>In this 3-video series, I show the science beh...</td>\n",
       "    </tr>\n",
       "    <tr>\n",
       "      <th>2</th>\n",
       "      <td>wZLgy4dvM1Y</td>\n",
       "      <td>New Sponsorship: Big Broccoli</td>\n",
       "      <td>Help keep us ad- and sponsorship-free by makin...</td>\n",
       "      <td>2024-04-07T15:59:56Z</td>\n",
       "      <td>2024-04-07</td>\n",
       "      <td>2024</td>\n",
       "      <td>I’m Dr. Michael Greger and ever since I starte...</td>\n",
       "    </tr>\n",
       "  </tbody>\n",
       "</table>\n",
       "</div>"
      ],
      "text/plain": [
       "       videoId                                              title  \\\n",
       "0  r3PuCQ8CxTc  Benefits and Side Effects of the Pneumonia Vac...   \n",
       "1  oa6UtySJKFE       Benefits and Side Effects of the Flu Vaccine   \n",
       "2  wZLgy4dvM1Y                      New Sponsorship: Big Broccoli   \n",
       "\n",
       "                                         description           publishedAt  \\\n",
       "0  Randomized controlled trials have found that p...  2024-04-10T11:59:52Z   \n",
       "1  Flu shots can prevent more than just the flu. ...  2024-04-08T11:59:55Z   \n",
       "2  Help keep us ad- and sponsorship-free by makin...  2024-04-07T15:59:56Z   \n",
       "\n",
       "         date  year                                         transcript  \n",
       "0  2024-04-10  2024  \"Benefits and Side Effects of the Pneumonia Va...  \n",
       "1  2024-04-08  2024  In this 3-video series, I show the science beh...  \n",
       "2  2024-04-07  2024  I’m Dr. Michael Greger and ever since I starte...  "
      ]
     },
     "execution_count": 52,
     "metadata": {},
     "output_type": "execute_result"
    }
   ],
   "source": [
    "# Let's keep the columns we want to include in the metadata\n",
    "cols_keep = ['videoId', 'title', 'description', 'publishedAt', 'date', 'year', 'transcript']\n",
    "df_transcripts = df_transcripts[cols_keep]\n",
    "df_transcripts.head(3)"
   ]
  },
  {
   "cell_type": "code",
   "execution_count": 55,
   "metadata": {},
   "outputs": [],
   "source": [
    "# Langchain documentation: \n",
    "# Intanstiate and run the dataframe loader to load the documents. You must include the column name that has the text\n",
    "#https://python.langchain.com/docs/modules/data_connection/document_loaders/\n",
    "loader = DataFrameLoader(df_transcripts, 'transcript')\n",
    "docs = loader.load()\n",
    "# Split the transcripts into smaller chunks\n",
    "# https://python.langchain.com/docs/modules/data_connection/document_transformers/\n",
    "text_splitter = RecursiveCharacterTextSplitter(chunk_size=1000, chunk_overlap=200)\n",
    "splits = text_splitter.split_documents(docs)\n",
    "# Create and persist a Chroma vector store\n",
    "# https://python.langchain.com/docs/modules/data_connection/vectorstores/\n",
    "vectorstore = Chroma.from_documents(documents=splits, embedding=embeddings_model, persist_directory=\"../chroma_db\")\n",
    "\n"
   ]
  },
  {
   "cell_type": "markdown",
   "metadata": {},
   "source": [
    "# Test it out with some queries!"
   ]
  },
  {
   "cell_type": "code",
   "execution_count": 60,
   "metadata": {},
   "outputs": [],
   "source": [
    "# Read it back from disk just to make sure it is working properly\n",
    "vectorstore2 = Chroma(persist_directory=\"../chroma_db\", embedding_function=embeddings_model)\n"
   ]
  },
  {
   "cell_type": "code",
   "execution_count": 75,
   "metadata": {},
   "outputs": [
    {
     "data": {
      "text/plain": [
       "[('Eggs and Diabetes', 0.6322850575728234),\n",
       " ('Eggs and Diabetes', 0.5619138976070329),\n",
       " ('Bacon, Eggs, and Gestational Diabetes During Pregnancy',\n",
       "  0.4246064193885445),\n",
       " ('Debunking Egg Industry Myths', 0.41186146527994116),\n",
       " ('Bacon, Eggs, and Gestational Diabetes During Pregnancy',\n",
       "  0.40046226004429075),\n",
       " ('Bacon, Eggs, and Gestational Diabetes During Pregnancy', 0.397414874309559),\n",
       " ('Whose Health Unaffected by Eggs', 0.39514518222355044),\n",
       " ('Debunking Egg Industry Myths', 0.38059743881674213),\n",
       " ('How Not To Die: The Role of Diet in Preventing, Arresting, and Reversing Our Top 15 Killers',\n",
       "  0.3653613530800539),\n",
       " ('Flashback Friday: How Not to Die', 0.3652545951127758)]"
      ]
     },
     "execution_count": 75,
     "metadata": {},
     "output_type": "execute_result"
    }
   ],
   "source": [
    "# Create a test query\n",
    "query = \"eggs and diabetes\"\n",
    "k = 10\n",
    "results = vectorstore2.similarity_search_with_relevance_scores(query, k=k)\n",
    "# Print out just the video titles\n",
    "[(r[0].metadata['title'], r[1]) for r in results]"
   ]
  },
  {
   "cell_type": "code",
   "execution_count": 80,
   "metadata": {},
   "outputs": [],
   "source": [
    "# Create the \"retreiver\", including how many results you want it to produce\n",
    "# Will be using this in the rag \"chain\" we are going to create so let's just make sure it is working as expected\n",
    "# https://python.langchain.com/docs/modules/data_connection/retrievers/vectorstore/\n",
    "retriever = vectorstore2.as_retriever(search_kwargs={\"k\":k})"
   ]
  },
  {
   "cell_type": "code",
   "execution_count": 81,
   "metadata": {},
   "outputs": [
    {
     "data": {
      "text/plain": [
       "['Eggs and Diabetes',\n",
       " 'Eggs and Diabetes',\n",
       " 'Bacon, Eggs, and Gestational Diabetes During Pregnancy',\n",
       " 'Debunking Egg Industry Myths',\n",
       " 'Bacon, Eggs, and Gestational Diabetes During Pregnancy',\n",
       " 'Bacon, Eggs, and Gestational Diabetes During Pregnancy',\n",
       " 'Whose Health Unaffected by Eggs',\n",
       " 'Debunking Egg Industry Myths',\n",
       " 'How Not To Die: The Role of Diet in Preventing, Arresting, and Reversing Our Top 15 Killers',\n",
       " 'Flashback Friday: How Not to Die']"
      ]
     },
     "execution_count": 81,
     "metadata": {},
     "output_type": "execute_result"
    }
   ],
   "source": [
    "# Run a test\n",
    "results = retriever.invoke(query)\n",
    "[r.metadata['title'] for r in results]\n"
   ]
  },
  {
   "cell_type": "markdown",
   "metadata": {},
   "source": [
    "# Discussion"
   ]
  },
  {
   "cell_type": "markdown",
   "metadata": {},
   "source": [
    "This is very, very basic! You may also want to do the following (which we will cover in the future):\n",
    "- Search on the small chunks but retrieve the full \"parent\" document to include in the context of the LLM query\n",
    "- Vectorize summaries of each document and the retrieve the summary or the full parent document\n",
    "- Vectorize questions a person might have about the documents and then retrieve the full parent document\n",
    "- Optimize the chunk size\n",
    "- Use different types of retrievers\n",
    "- ...and more!!"
   ]
  },
  {
   "cell_type": "code",
   "execution_count": null,
   "metadata": {},
   "outputs": [],
   "source": []
  }
 ],
 "metadata": {
  "kernelspec": {
   "display_name": "nutritionfacts_chat-G3oMJuqJ",
   "language": "python",
   "name": "python3"
  },
  "language_info": {
   "codemirror_mode": {
    "name": "ipython",
    "version": 3
   },
   "file_extension": ".py",
   "mimetype": "text/x-python",
   "name": "python",
   "nbconvert_exporter": "python",
   "pygments_lexer": "ipython3",
   "version": "3.12.1"
  }
 },
 "nbformat": 4,
 "nbformat_minor": 2
}

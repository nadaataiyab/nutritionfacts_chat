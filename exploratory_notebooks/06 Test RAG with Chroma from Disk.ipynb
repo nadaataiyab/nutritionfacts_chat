{
 "cells": [
  {
   "cell_type": "code",
   "execution_count": 20,
   "metadata": {},
   "outputs": [],
   "source": [
    "import pandas as pd\n",
    "import numpy as np\n",
    "import os\n",
    "import gradio as gr\n",
    "from dotenv import load_dotenv\n",
    "\n",
    "\n",
    "from langchain_openai import ChatOpenAI, OpenAIEmbeddings\n",
    "from langchain.chains import LLMChain\n",
    "from langchain.prompts import ChatPromptTemplate\n",
    "from langchain.vectorstores import FAISS, Chroma\n",
    "from langchain_core.output_parsers import StrOutputParser\n",
    "from langchain.document_loaders import DataFrameLoader\n",
    "from langchain.text_splitter import RecursiveCharacterTextSplitter\n",
    "from langchain import hub\n",
    "\n",
    "\n",
    "\n",
    "from langchain_core.runnables import (\n",
    "    ConfigurableField,\n",
    "    RunnableBinding,\n",
    "    RunnableLambda,\n",
    "    RunnablePassthrough,\n",
    "    RunnableParallel\n",
    ")\n",
    "\n",
    "pd.set_option('display.max_colwidth', 300)  # Or use a large number if 'None' does not work in some environments\n",
    "pd.set_option('display.max_columns', 300)  # Show all columns\n",
    "pd.set_option('display.max_rows', 20)  # Show all row\n",
    "\n",
    "load_dotenv()\n",
    "OPENAI_APIKEY = os.environ['OPENAI_APIKEY']"
   ]
  },
  {
   "cell_type": "markdown",
   "metadata": {},
   "source": [
    "# Set up RAG Chain"
   ]
  },
  {
   "cell_type": "code",
   "execution_count": 11,
   "metadata": {},
   "outputs": [],
   "source": [
    "# Instantiate models\n",
    "embeddings_model = OpenAIEmbeddings(api_key=OPENAI_APIKEY, model='text-embedding-3-large', max_retries=100, chunk_size=16, show_progress_bar=False)\n",
    "chat_model_4 = ChatOpenAI(api_key=OPENAI_APIKEY, temperature=0.5, model='gpt-4-turbo-2024-04-09')\n",
    "# # load chroma from disk\n",
    "vectorstore = Chroma(persist_directory=\"./chroma_db\", embedding_function=embeddings_model)\n",
    "# Set up the vectorstore to be the retriever\n",
    "retriever = vectorstore.as_retriever(k=5)\n",
    "# Get pre-written rag prompt\n",
    "prompt = hub.pull(\"rlm/rag-prompt\")\n",
    "# Format docs function\n",
    "def format_docs(docs):\n",
    "    return \"\\n\\n\".join(doc.page_content for doc in docs)\n",
    "# Create RAG Chain\n",
    "rag_chain = (\n",
    "    {\"context\": retriever | format_docs, \"question\": RunnablePassthrough()}\n",
    "    | prompt\n",
    "    | chat_model_4\n",
    "    | StrOutputParser()\n",
    ")"
   ]
  },
  {
   "cell_type": "markdown",
   "metadata": {},
   "source": [
    "# Test the RAG Chain"
   ]
  },
  {
   "cell_type": "code",
   "execution_count": 16,
   "metadata": {},
   "outputs": [
    {
     "data": {
      "text/plain": [
       "ChatPromptTemplate(input_variables=['context', 'question'], metadata={'lc_hub_owner': 'rlm', 'lc_hub_repo': 'rag-prompt', 'lc_hub_commit_hash': '50442af133e61576e74536c6556cefe1fac147cad032f4377b60c436e6cdcb6e'}, messages=[HumanMessagePromptTemplate(prompt=PromptTemplate(input_variables=['context', 'question'], template=\"You are an assistant for question-answering tasks. Use the following pieces of retrieved context to answer the question. If you don't know the answer, just say that you don't know. Use three sentences maximum and keep the answer concise.\\nQuestion: {question} \\nContext: {context} \\nAnswer:\"))])"
      ]
     },
     "execution_count": 16,
     "metadata": {},
     "output_type": "execute_result"
    }
   ],
   "source": [
    "prompt"
   ]
  },
  {
   "cell_type": "code",
   "execution_count": 13,
   "metadata": {},
   "outputs": [
    {
     "data": {
      "text/plain": [
       "'Eating eggs has been associated with an increased risk of developing type 2 diabetes. Studies indicate that consuming as little as one egg per week can significantly increase the likelihood of diabetes, with higher consumption leading to even greater risks. This association has been confirmed across various studies and populations, suggesting that high egg intake before and during pregnancy can also increase the risk of gestational diabetes.'"
      ]
     },
     "execution_count": 13,
     "metadata": {},
     "output_type": "execute_result"
    }
   ],
   "source": [
    "# Test the RAG chain\n",
    "rag_chain.invoke(\"Diabetes and eggs\")"
   ]
  },
  {
   "cell_type": "code",
   "execution_count": 15,
   "metadata": {},
   "outputs": [
    {
     "data": {
      "text/plain": [
       "Document(page_content='\"Eggs and Diabetes\" Type 2 diabetes is becoming  a world pandemic. We know the consumption  of eggs is related to the development of some  other chronic diseases... what about diabetes? Researchers found a stepwise  increase in risk the more and more  eggs people ate. Eating just a single  egg a week appeared to increase the odds  of diabetes by 76%. Two eggs a week appeared  to double the odds, and just a single egg  a day tripled the odds. Three times greater  risk of type 2 diabetes, one of the leading causes  of death and amputation, blindness, and kidney failure. This is not the  first time a link between eggs and diabetes  has been reported. In 2009, Harvard researchers found  that a single egg a day or more was associated with  an increased risk of type 2 diabetes  in men and women, and that finding has since  also been confirmed in other populations:  Asia in 2011 and Europe in 2012. And the \"high\" consumption of eggs associated with diabetes risk  was less than one a day, though it appears you  have to start early— once you get into your 70s  avoiding eggs may not help. Once we then have diabetes,  eggs may hasten our death. Eating one egg  a day or more appears to shorten  anyone\\'s lifespan, but may double the  all-cause mortality for those with diabetes. Not good news for  the egg industry. From a transcript  of a closed meeting I got through the Freedom  of Information Act: \"Given the rate at which obesity  and incidence of type II diabetes is growing in the US, any association between dietary  cholesterol and type II diabetes could be a \\'showstopper\\'  that could overshadow the positive attributes (of) eggs.”', metadata={'date': '2013-12-09', 'description': 'Even just a single egg a week may increase the risk of diabetes, the leading cause of lower-limb amputations, kidney failure, and new cases of blindness.\\n\\nNew subscribers to our e-newsletter always receive a free gift. Get yours here: https://nutritionfacts.org/subscribe/\\n\\nMore Freedom of Information Act insights into the egg industry can be found in:\\n\\n• Eggs and Cholesterol: Patently False and Misleading Claims (http://nutritionfacts.org/video/eggs-and-cholesterol-patently-false-and-misleading-claims/)\\n• Eggs and Choline: Something Fishy (http://nutritionfacts.org/video/eggs-and-choline-something-fishy/)\\n• Eggs vs. Cigarettes in Atherosclerosis (http://nutritionfacts.org/video/eggs-vs-cigarettes-in-atherosclerosis/)\\n• More Than an Apple a Day: Combating Common Diseases (http://nutritionfacts.org/video/more-than-an-apple-a-day-preventing-our-most-common-diseases/)\\n\\nFlax seeds may help control blood sugars (Flaxseeds for Diabetes, http://nutritionfacts.org/2013/10/08/flaxseeds-for-diabetes/) as well as Indian gooseberries (Amla Versus Diabetes, http://nutritionfacts.org/video/amla-versus-diabetes/), but our best bet may be a diet composed entirely of plants (How to Prevent Diabetes, http://nutritionfacts.org/video/how-to-prevent-diabetes/ and How to Treat Diabetes, http://nutritionfacts.org/video/how-to-treat-diabetes/).\\n\\nhttps://NutritionFacts.org\\n• Subscribe: https://nutritionfacts.org/subscribe\\n• Donate: https://nutritionfacts.org/donate\\n• Podcast : https://nutritionfacts.org/audio\\n• Facebook: www.facebook.com/NutritionFacts.org\\n• Twitter: www.twitter.com/nutrition_facts\\n• Instagram: www.instagram.com/nutrition_facts_org\\n• Books: https://nutritionfacts.org/books\\n• Shop: https://drgreger.org', 'publishedAt': '2013-12-09T12:34:54Z', 'title': 'Eggs and Diabetes', 'videoId': 'y96iiU31ySs', 'year': 2013})"
      ]
     },
     "execution_count": 15,
     "metadata": {},
     "output_type": "execute_result"
    }
   ],
   "source": [
    "# Test the vector store search\n",
    "docs = vectorstore.similarity_search(\"eggs and diabetes\", k=5)\n",
    "docs[0]"
   ]
  },
  {
   "cell_type": "code",
   "execution_count": 17,
   "metadata": {},
   "outputs": [],
   "source": [
    "def generate_answer(message, history):\n",
    "    answer = rag_chain.invoke(message)\n",
    "\n",
    "    return answer"
   ]
  },
  {
   "cell_type": "code",
   "execution_count": 21,
   "metadata": {},
   "outputs": [
    {
     "name": "stdout",
     "output_type": "stream",
     "text": [
      "Running on local URL:  http://127.0.0.1:7860\n",
      "\n",
      "To create a public link, set `share=True` in `launch()`.\n"
     ]
    },
    {
     "data": {
      "text/html": [
       "<div><iframe src=\"http://127.0.0.1:7860/\" width=\"100%\" height=\"500\" allow=\"autoplay; camera; microphone; clipboard-read; clipboard-write;\" frameborder=\"0\" allowfullscreen></iframe></div>"
      ],
      "text/plain": [
       "<IPython.core.display.HTML object>"
      ]
     },
     "metadata": {},
     "output_type": "display_data"
    },
    {
     "name": "stdout",
     "output_type": "stream",
     "text": [
      "Keyboard interruption in main thread... closing server.\n"
     ]
    },
    {
     "data": {
      "text/plain": []
     },
     "execution_count": 21,
     "metadata": {},
     "output_type": "execute_result"
    }
   ],
   "source": [
    "gr.ChatInterface(\n",
    "    generate_answer,\n",
    "    chatbot=gr.Chatbot(height=300),\n",
    "    textbox=gr.Textbox(placeholder=\"Ask me a question about nutrition and health\", container=False, scale=7),\n",
    "    title=\"Nutrition Facts ChatBot\",\n",
    "    description=\"Ask Dr Michael McGregor's Nutrition Facts videos any questions!\",\n",
    "    theme=\"soft\",\n",
    "    examples=[\"diverticulosis\", \"heart disease\", \"low carb diets\"],\n",
    "    cache_examples=False,\n",
    "    retry_btn=None,\n",
    "    undo_btn=\"Delete Previous\",\n",
    "    clear_btn=\"Clear\",\n",
    ").launch(debug=True)"
   ]
  },
  {
   "cell_type": "code",
   "execution_count": null,
   "metadata": {},
   "outputs": [],
   "source": []
  }
 ],
 "metadata": {
  "kernelspec": {
   "display_name": "nutritionfacts_chat-G3oMJuqJ",
   "language": "python",
   "name": "python3"
  },
  "language_info": {
   "codemirror_mode": {
    "name": "ipython",
    "version": 3
   },
   "file_extension": ".py",
   "mimetype": "text/x-python",
   "name": "python",
   "nbconvert_exporter": "python",
   "pygments_lexer": "ipython3",
   "version": "3.12.1"
  }
 },
 "nbformat": 4,
 "nbformat_minor": 2
}

{
 "cells": [
  {
   "cell_type": "code",
   "execution_count": 1,
   "id": "9bc45817-a3b8-428b-bfcf-4d858838d5dd",
   "metadata": {},
   "outputs": [
    {
     "data": {
      "text/plain": [
       "{'TERM_SESSION_ID': 'w1t0p0:B12CD9A0-FD84-4C30-BF36-6C10A5247E09',\n",
       " 'SSH_AUTH_SOCK': '/private/tmp/com.apple.launchd.9UCZPDGGun/Listeners',\n",
       " 'LC_TERMINAL_VERSION': '3.4.23',\n",
       " 'COLORFGBG': '7;0',\n",
       " 'ITERM_PROFILE': 'Default',\n",
       " 'XPC_FLAGS': '0x0',\n",
       " 'LANG': 'en_US.UTF-8',\n",
       " 'PWD': '/Users/nadaa/Documents/code/nutritionfacts_chat',\n",
       " 'SHELL': '/bin/zsh',\n",
       " '__CFBundleIdentifier': 'com.googlecode.iterm2',\n",
       " 'TERM_PROGRAM_VERSION': '3.4.23',\n",
       " 'TERM_PROGRAM': 'iTerm.app',\n",
       " 'PATH': '/Users/nadaa/.local/share/virtualenvs/nutritionfacts_chat-4EbWQ0eg/bin:/usr/local/bin:/Users/nadaa/opt/anaconda3/bin:/Users/nadaa/opt/anaconda3/condabin:/usr/local/bin:/Library/Frameworks/Python.framework/Versions/3.12/bin:/usr/local/bin:/System/Cryptexes/App/usr/bin:/usr/bin:/bin:/usr/sbin:/sbin:/var/run/com.apple.security.cryptexd/codex.system/bootstrap/usr/local/bin:/var/run/com.apple.security.cryptexd/codex.system/bootstrap/usr/bin:/var/run/com.apple.security.cryptexd/codex.system/bootstrap/usr/appleinternal/bin',\n",
       " 'LC_TERMINAL': 'iTerm2',\n",
       " 'COLORTERM': 'truecolor',\n",
       " 'COMMAND_MODE': 'unix2003',\n",
       " 'TERM': 'xterm-color',\n",
       " 'HOME': '/Users/nadaa',\n",
       " 'TMPDIR': '/var/folders/wm/nll4dzqx2_n5zxq0y2h84cs40000gn/T/',\n",
       " 'USER': 'nadaa',\n",
       " 'XPC_SERVICE_NAME': '0',\n",
       " 'LOGNAME': 'nadaa',\n",
       " 'ITERM_SESSION_ID': 'w1t0p0:B12CD9A0-FD84-4C30-BF36-6C10A5247E09',\n",
       " '__CF_USER_TEXT_ENCODING': '0x1F5:0x0:0x0',\n",
       " 'SHLVL': '2',\n",
       " 'OLDPWD': '/Users/nadaa/Documents/code/nutritionfacts_chat',\n",
       " 'CONDA_EXE': '/Users/nadaa/opt/anaconda3/bin/conda',\n",
       " '_CE_M': '',\n",
       " '_CE_CONDA': '',\n",
       " 'CONDA_PYTHON_EXE': '/Users/nadaa/opt/anaconda3/bin/python',\n",
       " 'CONDA_SHLVL': '1',\n",
       " 'CONDA_PREFIX': '/Users/nadaa/opt/anaconda3',\n",
       " 'CONDA_DEFAULT_ENV': 'base',\n",
       " 'CONDA_PROMPT_MODIFIER': '(base) ',\n",
       " 'PIP_DISABLE_PIP_VERSION_CHECK': '1',\n",
       " 'PIP_PYTHON_PATH': '/Users/nadaa/opt/anaconda3/bin/python',\n",
       " 'PYTHONDONTWRITEBYTECODE': '1',\n",
       " 'PIPENV_ACTIVE': '1',\n",
       " 'VIRTUAL_ENV': '/Users/nadaa/.local/share/virtualenvs/nutritionfacts_chat-4EbWQ0eg',\n",
       " 'PS1': '(nutritionfacts_chat) (base) %n@%m %1~ %# ',\n",
       " '_': '/Users/nadaa/.local/share/virtualenvs/nutritionfacts_chat-4EbWQ0eg/bin/jupyter',\n",
       " 'JPY_SESSION_NAME': '/Users/nadaa/Dropbox/My Mac (Nadaas-MacBook-Pro.local)/Documents/code/nutritionfacts_chat/Untitled.ipynb',\n",
       " 'JPY_PARENT_PID': '39423',\n",
       " 'PYDEVD_USE_FRAME_EVAL': 'NO',\n",
       " 'CLICOLOR': '1',\n",
       " 'FORCE_COLOR': '1',\n",
       " 'CLICOLOR_FORCE': '1',\n",
       " 'PAGER': 'cat',\n",
       " 'GIT_PAGER': 'cat',\n",
       " 'MPLBACKEND': 'module://matplotlib_inline.backend_inline'}"
      ]
     },
     "execution_count": 1,
     "metadata": {},
     "output_type": "execute_result"
    }
   ],
   "source": [
    "%env"
   ]
  },
  {
   "cell_type": "code",
   "execution_count": null,
   "id": "585b62e2-1425-4920-b961-b527ea410cb2",
   "metadata": {},
   "outputs": [],
   "source": []
  }
 ],
 "metadata": {
  "kernelspec": {
   "display_name": "Python 3 (ipykernel)",
   "language": "python",
   "name": "python3"
  },
  "language_info": {
   "codemirror_mode": {
    "name": "ipython",
    "version": 3
   },
   "file_extension": ".py",
   "mimetype": "text/x-python",
   "name": "python",
   "nbconvert_exporter": "python",
   "pygments_lexer": "ipython3",
   "version": "3.12.1"
  }
 },
 "nbformat": 4,
 "nbformat_minor": 5
}

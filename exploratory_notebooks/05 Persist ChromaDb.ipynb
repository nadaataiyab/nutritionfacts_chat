{
 "cells": [
  {
   "cell_type": "code",
   "execution_count": 11,
   "metadata": {},
   "outputs": [],
   "source": [
    "import pandas as pd\n",
    "import numpy as np\n",
    "import os\n",
    "from dotenv import load_dotenv\n",
    "\n",
    "\n",
    "from langchain_openai import ChatOpenAI, OpenAIEmbeddings\n",
    "from langchain.chains import LLMChain\n",
    "from langchain.prompts import ChatPromptTemplate\n",
    "from langchain.vectorstores import FAISS, Chroma\n",
    "from langchain_core.output_parsers import StrOutputParser\n",
    "from langchain.document_loaders import DataFrameLoader\n",
    "from langchain.text_splitter import RecursiveCharacterTextSplitter\n",
    "from langchain import hub\n",
    "\n",
    "\n",
    "\n",
    "from langchain_core.runnables import (\n",
    "    ConfigurableField,\n",
    "    RunnableBinding,\n",
    "    RunnableLambda,\n",
    "    RunnablePassthrough,\n",
    "    RunnableParallel\n",
    ")\n",
    "\n",
    "pd.set_option('display.max_colwidth', 300)  # Or use a large number if 'None' does not work in some environments\n",
    "pd.set_option('display.max_columns', 300)  # Show all columns\n",
    "pd.set_option('display.max_rows', 20)  # Show all row\n",
    "\n",
    "load_dotenv()\n",
    "OPENAI_APIKEY = os.environ['OPENAI_APIKEY']"
   ]
  },
  {
   "cell_type": "markdown",
   "metadata": {},
   "source": [
    "# Instantiate Models"
   ]
  },
  {
   "cell_type": "code",
   "execution_count": 12,
   "metadata": {},
   "outputs": [],
   "source": [
    "embeddings_model = OpenAIEmbeddings(api_key=OPENAI_APIKEY, model='text-embedding-3-large', max_retries=100, chunk_size=16, show_progress_bar=False)\n"
   ]
  },
  {
   "cell_type": "markdown",
   "metadata": {},
   "source": [
    "# Load Data"
   ]
  },
  {
   "cell_type": "code",
   "execution_count": 17,
   "metadata": {},
   "outputs": [
    {
     "data": {
      "text/html": [
       "<div>\n",
       "<style scoped>\n",
       "    .dataframe tbody tr th:only-of-type {\n",
       "        vertical-align: middle;\n",
       "    }\n",
       "\n",
       "    .dataframe tbody tr th {\n",
       "        vertical-align: top;\n",
       "    }\n",
       "\n",
       "    .dataframe thead th {\n",
       "        text-align: right;\n",
       "    }\n",
       "</style>\n",
       "<table border=\"1\" class=\"dataframe\">\n",
       "  <thead>\n",
       "    <tr style=\"text-align: right;\">\n",
       "      <th></th>\n",
       "      <th>videoId</th>\n",
       "      <th>title</th>\n",
       "      <th>description</th>\n",
       "      <th>publishedAt</th>\n",
       "      <th>date</th>\n",
       "      <th>year</th>\n",
       "      <th>transcript</th>\n",
       "    </tr>\n",
       "  </thead>\n",
       "  <tbody>\n",
       "    <tr>\n",
       "      <th>0</th>\n",
       "      <td>r3PuCQ8CxTc</td>\n",
       "      <td>Benefits and Side Effects of the Pneumonia Vaccine</td>\n",
       "      <td>Randomized controlled trials have found that pneumonia vaccines significantly reduce the risk of pneumococcal pneumonia in people 65 and older.\\n\\nIf you missed it, check out the previous video: Benefits and Side Effects of the Flu Vaccine (https://nutritionfacts.org/video/benefits-and-side-effe...</td>\n",
       "      <td>2024-04-10T11:59:52Z</td>\n",
       "      <td>2024-04-10</td>\n",
       "      <td>2024</td>\n",
       "      <td>\"Benefits and Side Effects of the Pneumonia Vaccine\" Vaccines are considered one of the greatest public health achievements of the last century, having eradicated smallpox, a scourge that killed hundreds of millions of people, and greatly reducing other major diseases, such as measles and polio....</td>\n",
       "    </tr>\n",
       "    <tr>\n",
       "      <th>1</th>\n",
       "      <td>oa6UtySJKFE</td>\n",
       "      <td>Benefits and Side Effects of the Flu Vaccine</td>\n",
       "      <td>Flu shots can prevent more than just the flu. Randomized placebo-controlled trials show that they can be extraordinary lifesavers.\\n\\nStay tuned for the next two videos, which examine the benefits and side effects of the pneumonia (https://nutritionfacts.org/video/benefits-and-side-effects-of-th...</td>\n",
       "      <td>2024-04-08T11:59:55Z</td>\n",
       "      <td>2024-04-08</td>\n",
       "      <td>2024</td>\n",
       "      <td>In this 3-video series, I show the science behind the pros and cons of the flu vaccine, pneumonia vaccine, and shingles vaccine. \"Benefits and Side Effects of the Flu Vaccine\" Every year, influenza typically kills between 4,000 and 20,000 Americans, though the death toll for the 2017 to 2018 sea...</td>\n",
       "    </tr>\n",
       "    <tr>\n",
       "      <th>2</th>\n",
       "      <td>wZLgy4dvM1Y</td>\n",
       "      <td>New Sponsorship: Big Broccoli</td>\n",
       "      <td>Help keep us ad- and sponsorship-free by making a donation today: https://nutritionfacts.app.neoncrm.com/forms/2024-spread-the-health\\n\\nNutritionFacts.org is an online health and nutrition hub, and our work is focused in the digital arena where we aim to reach as many people as possible with po...</td>\n",
       "      <td>2024-04-07T15:59:56Z</td>\n",
       "      <td>2024-04-07</td>\n",
       "      <td>2024</td>\n",
       "      <td>I’m Dr. Michael Greger and ever since I started prescribing my patients broccoli, they’ve seen incredible results… More energy. Better bowling. Better budgeting at the grocery store. More social media followers. Better dance moves. Ask your doctor if broccoli is right for you. Side effects inclu...</td>\n",
       "    </tr>\n",
       "    <tr>\n",
       "      <th>3</th>\n",
       "      <td>Et0lozAIbI8</td>\n",
       "      <td>Friday Favorites: Removing Warts with Duct Tape</td>\n",
       "      <td>Duct tape beat out cryotherapy (freezing) and ten other treatments for removal of warts in a randomized, controlled, head-to-head trial. Why isn’t it standard practice?\\n\\nThis includes the first and second videos in a three-part series on duct tape for wart removal. Check out the last one: Whic...</td>\n",
       "      <td>2024-04-05T11:59:52Z</td>\n",
       "      <td>2024-04-05</td>\n",
       "      <td>2024</td>\n",
       "      <td>You can find home remedies for all sorts of ailments, but the science doesn’t always back them up. What does it have to say about using a common household product on warts? \"Removing Warts with Duct Tape\" When I was reviewing the science behind common over-the-counter remedies used in dermatolog...</td>\n",
       "    </tr>\n",
       "    <tr>\n",
       "      <th>4</th>\n",
       "      <td>EoAaCdlK6CU</td>\n",
       "      <td>Podcast: Hot Flashes</td>\n",
       "      <td>Turns out that hot flashes are not inevitable. This episode features audio from:\\nhttps://nutritionfacts.org/video/menopausal-hot-flashes-are-not-inevitable/\\nhttps://nutritionfacts.org/video/soy-foods-for-menopause-hot-flash-symptoms/\\nVisit the video pages for all sources and doctor's notes re...</td>\n",
       "      <td>2024-04-04T12:59:57Z</td>\n",
       "      <td>2024-04-04</td>\n",
       "      <td>2024</td>\n",
       "      <td>I hear from lots of people every day who are concerned about how their diet is affecting their health. They need answers based on facts. In other words, in the peer-reviewed medical literature, and that is what I’m here for. Welcome to the Nutrition Facts Podcast. I’m your host, Dr. Michael Greg...</td>\n",
       "    </tr>\n",
       "    <tr>\n",
       "      <th>...</th>\n",
       "      <td>...</td>\n",
       "      <td>...</td>\n",
       "      <td>...</td>\n",
       "      <td>...</td>\n",
       "      <td>...</td>\n",
       "      <td>...</td>\n",
       "      <td>...</td>\n",
       "    </tr>\n",
       "    <tr>\n",
       "      <th>2564</th>\n",
       "      <td>P_X3exQtuGA</td>\n",
       "      <td>The Healthiest Herbal Tea</td>\n",
       "      <td>New subscribers to our e-newsletter always receive a free gift. Get yours here: https://nutritionfacts.org/subscribe/\\n\\n\\n \\n\\n\\nDonate at \\nDESCRIPTION: More than a dozen herbal teas were compared for their antioxidant activity. Have a question about this video? Leave it in the comment section...</td>\n",
       "      <td>2011-02-08T14:59:42Z</td>\n",
       "      <td>2011-02-08</td>\n",
       "      <td>2011</td>\n",
       "      <td>\"The Healthiest Herbal Tea\" Walking through the herbal  tea aisle can be daunting. Thankfully, last year,  this study was published, comparing the antioxidant activity of more than a dozen  different types of herbal tea. They’re all good for you, so the healthiest one is probably  the one you’ll...</td>\n",
       "    </tr>\n",
       "    <tr>\n",
       "      <th>2565</th>\n",
       "      <td>ce-pvksbiwM</td>\n",
       "      <td>Update on Yerba Maté</td>\n",
       "      <td>New subscribers to our e-newsletter always receive a free gift. Get yours here: https://nutritionfacts.org/subscribe/\\n\\n\\n \\n\\nDESCRIPTION: Why this herbal tea may increase cancer risk. Have a question about this video? Leave it in the comment section at http://nutritionfacts.org/videos/update-...</td>\n",
       "      <td>2011-02-08T14:57:18Z</td>\n",
       "      <td>2011-02-08</td>\n",
       "      <td>2011</td>\n",
       "      <td>\"Update on Yerba Maté\" And finally, what about yerba maté, a Latin American herbal tea  that’s been linked to cancer? Should we continue to avoid it? Yes, an evaluation of the cytotoxic  and genotoxic activity of yerba maté on human white blood cells found it caused a significant  increase in th...</td>\n",
       "    </tr>\n",
       "    <tr>\n",
       "      <th>2566</th>\n",
       "      <td>1Yb5MjU38ng</td>\n",
       "      <td>Update on MSG</td>\n",
       "      <td>New subscribers to our e-newsletter always receive a free gift. Get yours here: https://nutritionfacts.org/subscribe/\\n\\n\\n \\n\\n\\nDonate at \\nDESCRIPTION: The reactions attributed to monosodium glutamate do not appear to hold up to scientific scrutiny. Have a question about this video? Leave it ...</td>\n",
       "      <td>2011-02-08T14:48:31Z</td>\n",
       "      <td>2011-02-08</td>\n",
       "      <td>2011</td>\n",
       "      <td>\"Update on MSG\" What about MSG? The scientific consensus has been that MSG is generally harmless. But what’s the latest? Monosodium glutamate allergy— menace or myth? Myth. Despite concerns raised in the 1960s, “decades of research have failed to demonstrate a clear and consistent relationship b...</td>\n",
       "    </tr>\n",
       "    <tr>\n",
       "      <th>2567</th>\n",
       "      <td>lD2RzNJYGxQ</td>\n",
       "      <td>Update on Juice Plus+®</td>\n",
       "      <td>New subscribers to our e-newsletter always receive a free gift. Get yours here: https://nutritionfacts.org/subscribe/\\n\\n\\n \\n\\n\\nDonate at \\nDESCRIPTION: More evidence linking Juice Plus+® supplements with liver inflammation. Have a question about this video? Leave it in the comment section at ...</td>\n",
       "      <td>2011-02-08T05:41:12Z</td>\n",
       "      <td>2011-02-08</td>\n",
       "      <td>2011</td>\n",
       "      <td>\"Update on Juice Plus+\" What about Juice Plus+ supplements (dubbed in the American Journal of Medicine as “toxicity plus”)? Here are indicators of liver inflammation before Juice Plus+, the huge spike, and then, coming down after stopping it.</td>\n",
       "    </tr>\n",
       "    <tr>\n",
       "      <th>2568</th>\n",
       "      <td>yEDHcD1DnCQ</td>\n",
       "      <td>Update on Herbalife®</td>\n",
       "      <td>New subscribers to our e-newsletter always receive a free gift. Get yours here: https://nutritionfacts.org/subscribe/\\n\\n\\n \\n\\n\\nDonate at \\nDESCRIPTION: The liver toxicity associated with Herbalife® supplements may be due to vitamin A toxicity. Have a question about this video? Leave it in the...</td>\n",
       "      <td>2011-02-08T05:38:58Z</td>\n",
       "      <td>2011-02-08</td>\n",
       "      <td>2011</td>\n",
       "      <td>\"Update on Herbalife\" What about Herbalife supplements? We were concerned about liver toxicity, and we’re still concerned about liver toxicity. We think it may be because it has too much vitamin A. In fact, there have even been calls to have all animal-based vitamin A supplements just pulled fro...</td>\n",
       "    </tr>\n",
       "  </tbody>\n",
       "</table>\n",
       "<p>2569 rows × 7 columns</p>\n",
       "</div>"
      ],
      "text/plain": [
       "          videoId                                               title  \\\n",
       "0     r3PuCQ8CxTc  Benefits and Side Effects of the Pneumonia Vaccine   \n",
       "1     oa6UtySJKFE        Benefits and Side Effects of the Flu Vaccine   \n",
       "2     wZLgy4dvM1Y                       New Sponsorship: Big Broccoli   \n",
       "3     Et0lozAIbI8     Friday Favorites: Removing Warts with Duct Tape   \n",
       "4     EoAaCdlK6CU                                Podcast: Hot Flashes   \n",
       "...           ...                                                 ...   \n",
       "2564  P_X3exQtuGA                           The Healthiest Herbal Tea   \n",
       "2565  ce-pvksbiwM                                Update on Yerba Maté   \n",
       "2566  1Yb5MjU38ng                                       Update on MSG   \n",
       "2567  lD2RzNJYGxQ                              Update on Juice Plus+®   \n",
       "2568  yEDHcD1DnCQ                                Update on Herbalife®   \n",
       "\n",
       "                                                                                                                                                                                                                                                                                                      description  \\\n",
       "0     Randomized controlled trials have found that pneumonia vaccines significantly reduce the risk of pneumococcal pneumonia in people 65 and older.\\n\\nIf you missed it, check out the previous video: Benefits and Side Effects of the Flu Vaccine (https://nutritionfacts.org/video/benefits-and-side-effe...   \n",
       "1     Flu shots can prevent more than just the flu. Randomized placebo-controlled trials show that they can be extraordinary lifesavers.\\n\\nStay tuned for the next two videos, which examine the benefits and side effects of the pneumonia (https://nutritionfacts.org/video/benefits-and-side-effects-of-th...   \n",
       "2     Help keep us ad- and sponsorship-free by making a donation today: https://nutritionfacts.app.neoncrm.com/forms/2024-spread-the-health\\n\\nNutritionFacts.org is an online health and nutrition hub, and our work is focused in the digital arena where we aim to reach as many people as possible with po...   \n",
       "3     Duct tape beat out cryotherapy (freezing) and ten other treatments for removal of warts in a randomized, controlled, head-to-head trial. Why isn’t it standard practice?\\n\\nThis includes the first and second videos in a three-part series on duct tape for wart removal. Check out the last one: Whic...   \n",
       "4     Turns out that hot flashes are not inevitable. This episode features audio from:\\nhttps://nutritionfacts.org/video/menopausal-hot-flashes-are-not-inevitable/\\nhttps://nutritionfacts.org/video/soy-foods-for-menopause-hot-flash-symptoms/\\nVisit the video pages for all sources and doctor's notes re...   \n",
       "...                                                                                                                                                                                                                                                                                                           ...   \n",
       "2564  New subscribers to our e-newsletter always receive a free gift. Get yours here: https://nutritionfacts.org/subscribe/\\n\\n\\n \\n\\n\\nDonate at \\nDESCRIPTION: More than a dozen herbal teas were compared for their antioxidant activity. Have a question about this video? Leave it in the comment section...   \n",
       "2565  New subscribers to our e-newsletter always receive a free gift. Get yours here: https://nutritionfacts.org/subscribe/\\n\\n\\n \\n\\nDESCRIPTION: Why this herbal tea may increase cancer risk. Have a question about this video? Leave it in the comment section at http://nutritionfacts.org/videos/update-...   \n",
       "2566  New subscribers to our e-newsletter always receive a free gift. Get yours here: https://nutritionfacts.org/subscribe/\\n\\n\\n \\n\\n\\nDonate at \\nDESCRIPTION: The reactions attributed to monosodium glutamate do not appear to hold up to scientific scrutiny. Have a question about this video? Leave it ...   \n",
       "2567  New subscribers to our e-newsletter always receive a free gift. Get yours here: https://nutritionfacts.org/subscribe/\\n\\n\\n \\n\\n\\nDonate at \\nDESCRIPTION: More evidence linking Juice Plus+® supplements with liver inflammation. Have a question about this video? Leave it in the comment section at ...   \n",
       "2568  New subscribers to our e-newsletter always receive a free gift. Get yours here: https://nutritionfacts.org/subscribe/\\n\\n\\n \\n\\n\\nDonate at \\nDESCRIPTION: The liver toxicity associated with Herbalife® supplements may be due to vitamin A toxicity. Have a question about this video? Leave it in the...   \n",
       "\n",
       "               publishedAt        date  year  \\\n",
       "0     2024-04-10T11:59:52Z  2024-04-10  2024   \n",
       "1     2024-04-08T11:59:55Z  2024-04-08  2024   \n",
       "2     2024-04-07T15:59:56Z  2024-04-07  2024   \n",
       "3     2024-04-05T11:59:52Z  2024-04-05  2024   \n",
       "4     2024-04-04T12:59:57Z  2024-04-04  2024   \n",
       "...                    ...         ...   ...   \n",
       "2564  2011-02-08T14:59:42Z  2011-02-08  2011   \n",
       "2565  2011-02-08T14:57:18Z  2011-02-08  2011   \n",
       "2566  2011-02-08T14:48:31Z  2011-02-08  2011   \n",
       "2567  2011-02-08T05:41:12Z  2011-02-08  2011   \n",
       "2568  2011-02-08T05:38:58Z  2011-02-08  2011   \n",
       "\n",
       "                                                                                                                                                                                                                                                                                                       transcript  \n",
       "0     \"Benefits and Side Effects of the Pneumonia Vaccine\" Vaccines are considered one of the greatest public health achievements of the last century, having eradicated smallpox, a scourge that killed hundreds of millions of people, and greatly reducing other major diseases, such as measles and polio....  \n",
       "1     In this 3-video series, I show the science behind the pros and cons of the flu vaccine, pneumonia vaccine, and shingles vaccine. \"Benefits and Side Effects of the Flu Vaccine\" Every year, influenza typically kills between 4,000 and 20,000 Americans, though the death toll for the 2017 to 2018 sea...  \n",
       "2     I’m Dr. Michael Greger and ever since I started prescribing my patients broccoli, they’ve seen incredible results… More energy. Better bowling. Better budgeting at the grocery store. More social media followers. Better dance moves. Ask your doctor if broccoli is right for you. Side effects inclu...  \n",
       "3     You can find home remedies for all sorts of ailments, but the science doesn’t always back them up. What does it have to say about using a common household product on warts? \"Removing Warts with Duct Tape\" When I was reviewing the science behind common over-the-counter remedies used in dermatolog...  \n",
       "4     I hear from lots of people every day who are concerned about how their diet is affecting their health. They need answers based on facts. In other words, in the peer-reviewed medical literature, and that is what I’m here for. Welcome to the Nutrition Facts Podcast. I’m your host, Dr. Michael Greg...  \n",
       "...                                                                                                                                                                                                                                                                                                           ...  \n",
       "2564  \"The Healthiest Herbal Tea\" Walking through the herbal  tea aisle can be daunting. Thankfully, last year,  this study was published, comparing the antioxidant activity of more than a dozen  different types of herbal tea. They’re all good for you, so the healthiest one is probably  the one you’ll...  \n",
       "2565  \"Update on Yerba Maté\" And finally, what about yerba maté, a Latin American herbal tea  that’s been linked to cancer? Should we continue to avoid it? Yes, an evaluation of the cytotoxic  and genotoxic activity of yerba maté on human white blood cells found it caused a significant  increase in th...  \n",
       "2566  \"Update on MSG\" What about MSG? The scientific consensus has been that MSG is generally harmless. But what’s the latest? Monosodium glutamate allergy— menace or myth? Myth. Despite concerns raised in the 1960s, “decades of research have failed to demonstrate a clear and consistent relationship b...  \n",
       "2567                                                           \"Update on Juice Plus+\" What about Juice Plus+ supplements (dubbed in the American Journal of Medicine as “toxicity plus”)? Here are indicators of liver inflammation before Juice Plus+, the huge spike, and then, coming down after stopping it.  \n",
       "2568  \"Update on Herbalife\" What about Herbalife supplements? We were concerned about liver toxicity, and we’re still concerned about liver toxicity. We think it may be because it has too much vitamin A. In fact, there have even been calls to have all animal-based vitamin A supplements just pulled fro...  \n",
       "\n",
       "[2569 rows x 7 columns]"
      ]
     },
     "execution_count": 17,
     "metadata": {},
     "output_type": "execute_result"
    }
   ],
   "source": [
    "df_transcripts = pd.read_csv('../data/transcripts_all_2024-04-10_cleaned', usecols=['videoId', 'title', 'description', 'publishedAt', 'date', 'year', 'transcript'])\n",
    "df_transcripts  "
   ]
  },
  {
   "cell_type": "markdown",
   "metadata": {},
   "source": [
    "# Vectorize and Persist ChromaDb"
   ]
  },
  {
   "cell_type": "code",
   "execution_count": 18,
   "metadata": {},
   "outputs": [],
   "source": [
    "loader = DataFrameLoader(df_transcripts, 'transcript')\n",
    "docs = loader.load()\n",
    "text_splitter = RecursiveCharacterTextSplitter(chunk_size=1000, chunk_overlap=200)\n",
    "splits = text_splitter.split_documents(docs)"
   ]
  },
  {
   "cell_type": "code",
   "execution_count": 19,
   "metadata": {},
   "outputs": [],
   "source": [
    "# save to disk\n",
    "db2 = Chroma.from_documents(docs, embeddings_model, persist_directory=\"./chroma_db\")\n",
    "# docs = db2.similarity_search(query)\n",
    "\n"
   ]
  },
  {
   "cell_type": "code",
   "execution_count": 23,
   "metadata": {},
   "outputs": [
    {
     "data": {
      "text/plain": [
       "[Document(page_content='\"Eliminating the #1 Cause of Death\" The #1 cause of death in the United  States, however, is heart disease. Late last year, a landmark review was  published on the cause of our #1 killer, by Dr. William Clifford Roberts. First of all, who is this guy? The head of Baylor\\'s  Cardiovascular Institute. he\\'s authored a mere  1,387 scientific publications, written more than a dozen  textbooks on cardiology, and has been the Editor in Chief of the American Journal  of Cardiology for 25 years. Well then, what is the  cause of atherosclerosis? Well, first of all, doesn\\'t  he mean causes, though? I mean, there are lots of things  that increase a risk of heart disease -- hypertension, diabetes, obesity,  inactivity, cigarette smoking. None of that matters, he says,  unless we have high cholesterol. All those things can speed the  buildup of plaque in our arteries, but if our cholesterol  level is low enough, there\\'s nothing our body  can build the plaque with. According to Dr. Roberts, atherosclerosis simply does not occur  if elevated cholesterol is not present, regardless of how high our blood  pressure is, our blood sugars, no matter how obese, how inactive,  or how many cigarettes we smoke. The plaque that builds  up in our arteries, choking off blood flow to our heart, to our brain, to the other  arteries in our body, is made out of cholesterol. If you don\\'t have enough  bricks and mortar to build a dam  choking off a river, the dam will not be built. Unless we have elevated  cholesterol levels, there simply isn\\'t enough  substrate to form these plaques throughout our arteries,  to trigger strokes, heart attacks, kill us,  make us impotent -- though not necessarily in that order. If cholesterol is the  cause of atherosclerosis, how low does one\\'s cholesterol have  to be to become heart attack proof? Ideally, our bad cholesterol,  LDL, should be under 70. If such a goal was created, the great scourge of the Western world  would be essentially eliminated. There are only two ways, he says,  to get it down that low -- put 100 million people on a  lifetime of high-dose statin drugs starting in one\\'s twenties, or be what he calls a  pure vegetarian fruit eater, which is just what he calls those  eating whole foods, vegan diets. Now, if we put everyone on drugs, then thousands of people  would suffer side effects, so, of course, a vegan diet is the  least expensive and safest means of achieving the plaque- preventing LDL goal, but few in the Western world are  willing to live on the herbivore diet. In his words, in a recent interview, the best way to prevent heart disease is to be a non-flesh eater,  a non-saturated fat eater. Because humans get atherosclerosis, and atherosclerosis is a disease  only of herbivores, he reasons, humans also must be herbivores. The cause of our #1 killer  is elevated cholesterol. So, according to probably  the most renowned cardiovascular pathologist in the world, that means the cause  of our #1 killer is -- not eating vegan.', metadata={'date': '2011-02-28', 'description': \"New subscribers to our e-newsletter always receive a free gift. Get yours here: https://nutritionfacts.org/subscribe/\\n\\n\\n \\nDESCRIPTION: How to essentially eliminate the great scourge of the Western world. Have a question about this video? Leave it in the comment section at http://nutritionfacts.org/videos/eliminating-the-1-cause-of-death/ and I'll try to answer it! And check out the other videos on heart disease (http://nutritionfacts.org/topics/heart-disease/). Also, there are 1,449 other subjects (http://nutritionfacts.org/topics/) covered in the rest of my videos--please feel free to explore them as well! \\n\\nImage credit: chriswong4238 / Flickr \\n\\n https://NutritionFacts.org\\n• Subscribe: https://nutritionfacts.org/subscribe\\n• Donate: https://nutritionfacts.org/donate\\n• Podcast : https://nutritionfacts.org/audio\\n• Facebook: www.facebook.com/NutritionFacts.org\\n• Twitter: www.twitter.com/nutrition_facts\\n• Instagram: www.instagram.com/nutrition_facts_org\\n• Books: https://nutritionfacts.org/books\\n• Shop: https://drgreger.org\", 'publishedAt': '2011-02-28T05:03:19Z', 'title': 'Eliminating the #1 Cause of Death', 'videoId': 'bY0UY3FwoW4', 'year': 2011}),\n",
       " Document(page_content='\"Heart Disease Starts in Childhood\" It was this landmark study  published in 1953 that radically changed our view  about the development of  heart disease forever.  A series of 300 autopsies performed  on U.S. battle casualties of the  Korean War, average age, 22.  22 years old, but 77% of their  hearts had gross evidence,  meaning visible to the eye evidence,  of coronary atherosclerosis,  hardening of their arteries. Some of them had vessels that  were clogged off 90% or more.  As an editorial in the  Journal of the   of the American Medical  Association concluded,  \"This widely cited publication  dramatically showed\"  \"that atherosclerotic changes appear  in the coronary arteries\" \"years and decades before the age at  which coronary heart disease (CHD)\" \"becomes a clinically  recognized problem\",  before symptoms arise.  Follow-up studies on the hearts  of thousands more soldiers  over the subsequent years  confirmed their results.  How young does it go?  Fatty streaks, the first  stage of atherosclerosis,  was found in the arteries of  100% of kids by age 10.  What\\'s accounting for this buildup  of plaque even in childhood?  In the 80s we got  our first clue,  the now famous Bogalusa heart  study looking at autopsies  of those dying between the ages  of 3 years old to age 26.  And the #1 risk factor  was cholesterol.  You could see the stepwise increase  in the amount of their arteries  covered in fatty streaks as the level of   bad cholesterol in the blood increased.  As powerful as this was, this was only looking at 30 kids.  So they decided  to study 3000. Three thousand accidental death  victims, ages 15 through 34.  After thousands of autopsies, they were  able to produce a scoring system, able to predict advanced  atherosclerotic lesions  in the coronary arteries  of young people.  The higher your score,  the higher the likelihood  you have these lesions  growing in your heart.  So if you\\'re in your teens, twenties,  early thirties and you smoke,  your risk goes up a point.  If you have high blood pressure  at such a young age,   that\\'s 4 points. If you\\'re an obese male - 6 points,  but high cholesterol was the worst.  If your non-HDL cholesterol,  meaning your total cholesterol minus your good cholesterol, is above like 220- that\\'s like 8 times  worse than smoking.  So, let\\'s say you\\'re a young woman  with relatively high cholesterol,  but you don\\'t smoke,  you\\'re not overweight,  your blood pressure and  blood sugars are fine. At your sweet 16, there\\'s  just a few percent chance you already have an advanced  atherosclerotic lesion in your heart,  but if you don\\'t improve your  diet by your 30th birthday,  there may be like a 1 in 5 chance  you have some serious heart disease,  and if you have really high cholesterol  it could be closer to 1 in 3.  Bringing your cholesterol down  to even just that of a  lacto-ovo vegetarian  and you\\'re down to here. And if you exercise  to boost your HDL  you can extrapolate down  a little further. \"So what this shows us is that  even in 15 to 19 year olds,\" \"atherosclerosis has begun in a  substantial number of individuals,\" \"and this observation suggests  beginning primary prevention\"  \"at least by the late teenage years\"  \"to ameliorate every  stage of atherosclerosis\" \"and to prevent or retard progression  to more advanced lesions.\" You start kids out on  a low saturated fat diet  and you may see a  significant improvement  in their arterial function  by 11 years old. \"Exposure to high serum  cholesterol even in childhood\" \"may accelerate the development  of atherosclerosis.\"  \"Consequently, the long-term  prevention of atherosclerosis\"  \"might be most effective when  initiated early in life\", as in 7-months of age. Atherosclerosis, hardening of the  arteries, begins in childhood.  Remember, by age 10, nearly  all kids have fatty streaks,  the first stage of the disease.  Then… the plaques start  forming in our 20s…  and get worse in our 30s ... and then can start killing us off. In our hearts,it\\'s a heart attack. In our brains,it\\'s a stroke.  In our extremities,  it can mean gangrene,  and in our aorta, an aneurism.  If there is anyone watching this video  that is older than 10 years of age,  the choice likely isn\\'t whether or not  to eat healthy to prevent heart disease,  it\\'s whether or not you want to reverse  the heart disease you already have. Ornish and Esselstyn proved  you can reverse heart disease  with a plant-based diet,  but we don\\'t have to wait  until our first heart attack to reverse the clogging  of our arteries. We can start reversing our  heart disease right now.  We can start reversing heart disease  in our kids, tonight.', metadata={'date': '2015-04-03', 'description': 'New subscribers to our e-newsletter always receive a free gift. Get yours here: https://nutritionfacts.org/subscribe/\\n\\n\\n \\n\\nDESCRIPTION: By age 10, nearly all kids have fatty streaks in their arteries This is the first sign of atherosclerosis, the leading cause of death in the United States. So the question for most of us is not whether or not we should eat healthy to prevent heart disease, but whether we want to reverse the heart disease we may already have.\\n\\nImage Credit: Rrrrred and Kevin Burkett via Flickr, and Nephron via Wikimedia.\\n\\nhttps://NutritionFacts.org\\n• Subscribe: https://nutritionfacts.org/subscribe\\n• Donate: https://nutritionfacts.org/donate\\n• Podcast : https://nutritionfacts.org/audio\\n• Facebook: www.facebook.com/NutritionFacts.org\\n• Twitter: www.twitter.com/nutrition_facts\\n• Instagram: www.instagram.com/nutrition_facts_org\\n• Books: https://nutritionfacts.org/books\\n• Shop: https://drgreger.org', 'publishedAt': '2015-04-03T21:53:34Z', 'title': 'Heart Disease Starts in Childhood', 'videoId': 'vlubvTMLrLM', 'year': 2015}),\n",
       " Document(page_content='\"China Study on Sudden Cardiac Death\" What exactly do they mean by sudden cardiac death? It’s defined as the sudden, unexpected natural death from a cardiac cause a short time (generally less than an hour) after the onset of symptoms in a person without any known previous condition. Most people know the number one killer of both men and women in the United States is heart disease. What people may not know, though, is that, according to the American Heart Association, for the majority of Americans that die of heart disease, their first symptom occurs not years before they die, but literally minutes before they die. In our last hour on this Earth, in agony, all the dietary change in the world isn’t going to reverse our course. Even if the paramedics snatch away our milkshake, refuse to stop at our favorite fast food joint en route to the hospital, it is too late. One moment we’re talking to our family, and less than an hour later, we could be gone forever. The number one cause of death in America is not just heart disease, but more specifically sudden cardiac death. People dropping dead in their 30s, 40s, 50s. Is that just what happens when you get old, though? Your ticker just conks out? Your pump just wears out on you? No. That’s why Dr. T. Colin Campbell’s work was so revolutionary. In fact, he’s the reason I chose Cornell. At the same time Ornish was studying what effect a plant-based diet was having on hundreds of people, Campbell and colleagues were studying hundreds of thousands. Here’s just one of the 894 pages of the Oxford-Cornell-China study. Let me share just one statistic. Guizhou county, in China, where, among a population of 246,000 men, over three years, there was not a single recorded death from coronary artery disease. If that was in the U.S., that many men, it would be thousands of recorded deaths. Instead, there were none. There’s nothing “natural” about heart disease. So, when Dr. Esselstyn talks about how most heart disease is a “toothless paper tiger that need never exist and if it does exist need never progress,” he’s not exaggerating. Nobody else has to die. Plant-based diets can prevent, successfully treat, and even reverse our number one killer.', metadata={'date': '2011-08-02', 'description': \"New subscribers to our e-newsletter always receive a free gift. Get yours here: https://nutritionfacts.org/subscribe/\\n\\n\\n \\nDESCRIPTION: The China-Oxford-Cornell Diet and Health Project directed by T. Colin Campbell and colleagues showed that chronic diseases such as heart disease are not inevitable consequences of aging. Have a question about this video? Leave it in the comment section at http://nutritionfacts.org/videos/china-study-on-sudden-cardiac-death/ and I'll try to answer it! Please feel free to post any ask-the-doctor type questions here in the comments section and I'd be happy to try to answer them. Be sure to check out Our number one killer can be stopped (http://nutritionfacts.org/video/our-number-one-killer-can-be-stopped/) as well as Resuscitating Medicare (http://nutritionfacts.org/video/resuscitating-medicare/), and don't forget all the other videos on heart health (http://nutritionfacts.org/topics/heart-health/) and heart disease (http://nutritionfacts.org/topics/heart-disease/). Also, there are 1,449 subjects (http://nutritionfacts.org/topics/) covered in my other videos--please feel free to explore them!\\n\\nhttps://NutritionFacts.org\\n• Subscribe: https://nutritionfacts.org/subscribe\\n• Donate: https://nutritionfacts.org/donate\\n• Podcast : https://nutritionfacts.org/audio\\n• Facebook: www.facebook.com/NutritionFacts.org\\n• Twitter: www.twitter.com/nutrition_facts\\n• Instagram: www.instagram.com/nutrition_facts_org\\n• Books: https://nutritionfacts.org/books\\n• Shop: https://drgreger.org\", 'publishedAt': '2011-08-02T23:58:43Z', 'title': 'China Study on sudden cardiac death', 'videoId': '2ohiWY_02gs', 'year': 2011}),\n",
       " Document(page_content='\"Our Number One Killer Can Be Stopped\" In the end, my grandma’s miraculous recovery from terminal heart disease through diet and exercise— remarkable as it was— was just one anecdote among many. Though it inspired me to pursue a career in medicine, I’ve always had a skeptical streak, and just wasn’t convinced until Ornish’s landmark study in 1990 clobbered me over the head with enough science to change my own diet forever. Pritikin had been reversing heart disease with a plant-based diet for years before Ornish came along. But here it was, in black and white, in one of the most prestigious medical journals in the world. Ornish proved you could not just slow heart disease—our number one killer, not just stop heart disease in its tracks, but actually reverse heart disease, open up clogged arteries— and without drugs, without surgery. Since then, millions upon millions have died totally unnecessary deaths. If my grandma didn’t have to die like that, no one’s grandmother has to die. We have the miracle cure, yet hardly anyone knows about it. Wait a second, though. If we can reverse heart disease without drugs, without surgery, then great. Doesn’t that mean we can eat whatever the heck we want, and then, as soon as we start feeling a little chest pain, we can get with the program, eat as healthy as we need to, and open our arteries back up? Getting to enjoy not only our grandchildren, but also happy memories of years of bacon and eggs, cheese, and fried chicken. Here’s the problem with the plan: sudden cardiac death. Our first symptom may be our last.', metadata={'date': '2011-08-02', 'description': \"New subscribers to our e-newsletter always receive a free gift. Get yours here: https://nutritionfacts.org/subscribe/\\n\\n\\n \\nDESCRIPTION: Dr. Dean Ornish proved decades ago that heart disease could be reversed solely with diet and lifestyle changes. Have a question about this video? Leave it in the comment section at http://nutritionfacts.org/videos/our-number-one-killer-can-be-stopped/ and I'll try to answer it! This is a continuation of a theme I started in yesterday's video (http://nutritionfacts.org/video/resuscitating-medicare/) about my personal journey into medicine. Please feel free to post any ask-the-doctor type questions here in the comments section and I'd be happy to try to answer them. Be sure to check out the other videos on heart health (http://nutritionfacts.org/topics/heart-health/) and heart disease (http://nutritionfacts.org/topics/heart-disease/). Also, there are 1,449 subjects (http://nutritionfacts.org/topics/) covered in my other videos--please feel free to explore them!\\n\\nhttps://NutritionFacts.org\\n• Subscribe: https://nutritionfacts.org/subscribe\\n• Donate: https://nutritionfacts.org/donate\\n• Podcast : https://nutritionfacts.org/audio\\n• Facebook: www.facebook.com/NutritionFacts.org\\n• Twitter: www.twitter.com/nutrition_facts\\n• Instagram: www.instagram.com/nutrition_facts_org\\n• Books: https://nutritionfacts.org/books\\n• Shop: https://drgreger.org\", 'publishedAt': '2011-08-02T23:52:47Z', 'title': 'Our number one killer can be stopped', 'videoId': 'WKRNbN4NvlM', 'year': 2011}),\n",
       " Document(page_content='\"Heart Disease Starts in Childhood\" It was this landmark study published in 1953  that radically  changed our view  about the development of  heart disease forever.  A series of  300 autopsies  performed on U.S. battle casualties  of the Korean War, average age, 22.  22 years old, but 77% of their  hearts had gross evidence,  meaning visible to  the eye evidence,  of coronary atherosclerosis,  hardening of their arteries. Some of them had vessels that  were clogged off 90% or more.  As an editorial in the Journal of the  American Medical Association concluded,  \"This widely cited publication  dramatically showed\" \"that atherosclerotic changes  appear in the coronary arteries\"  \"years and decades  before the age at which\"  \"coronary heart disease (CHD) becomes  a clinically recognized problem\", before symptoms arise.  Follow-up studies on the hearts  of thousands more soldiers over the subsequent years  confirmed their results.  How young does it go?  Fatty streaks, the first  stage of atherosclerosis,  was found in the arteries  of 100% of kids by age 10.  What\\'s accounting for this buildup  of plaque even in childhood? In the 80s we got  our first clue:  the now famous  Bogalusa heart study  looking at autopsies  of those dying  between the ages of  3 years old to age 26,  and the #1 risk  factor was cholesterol.  You could see the  stepwise increase  in the amount of their arteries  covered in fatty streaks  as the level of bad cholesterol  in the blood increased.  As powerful as this was,  this was only looking at 30 kids.  So they decided  to study 3000. 3,000 accidental death victims,  ages 15 through 34. After thousands  of autopsies,  they were able to produce  a scoring system,  able to predict advanced  atherosclerotic lesions  in the coronary arteries  of young people.  The higher your score,  the higher the likelihood  you have these lesions  growing in your heart. So, if you\\'re in your teens,  twenties, early thirties  and you smoke, your  risk goes up a point.  If you have high  blood pressure  at such a young age,  that\\'s 4 points.  If you\\'re an obese  male, 6 points, but high cholesterol  was the worst.  If your non-HDL  cholesterol,  meaning your total cholesterol  minus your good cholesterol, is above like 220,  that\\'s like 8 times  worse than smoking.  So, let\\'s say you\\'re  a young woman  with relatively  high cholesterol,  but you don\\'t smoke,  you\\'re not overweight,  your blood pressure and  blood sugars are fine.  At your sweet 16 there\\'s  just a few percent chance  you already have an advanced  atherosclerotic lesion in your heart. But if you don\\'t  improve your diet,  by your 30th  birthday,  there may be like a 1 in 5  chance you have  some serious  heart disease. And if you have really  high cholesterol  it could be closer  to 1 in 3.  Bringing your  cholesterol down  to even just that of  a lacto-ovo vegetarian  and you\\'re  down to here.  And if you exercise  to boost your HDL  you can extrapolate  down a little further.  So what this  shows us is that  even in 15 to  19-year olds,  atherosclerosis  has begun  in a substantial number  of individuals,  and this observation suggests  beginning primary prevention  at least by the  late teenage years  to ameliorate every stage  of atherosclerosis  and to prevent or retard progression  to more advanced lesions. You start kids out on a  low saturated fat diet  and you may see a  significant improvement  in their arterial function  by 11 years old!  Exposure to high serum cholesterol  even in childhood  may accelerate the development  of atherosclerosis.  Consequently, the long-term  prevention of atherosclerosis  might be most effective when  initiated early in life,  as in 7-months of age. Atherosclerosis,  hardening of the arteries,  begins in childhood.  Remember, by age 10,  nearly all kids  have fatty streaks,  the first stage  of the disease.  Then… the plaques start  forming in our 20s…  and get worse  in our 30s,  and then can start  killing us off. In our hearts it\\'s  a heart attack,  in our brains  it\\'s a stroke,  in our extremities it  can mean gangrene,  and in our aorta  an aneurysm.  If there is anyone  watching this video  that is older than  10 years of age,  the choice likely isn\\'t whether  or not to eat healthy to prevent heart disease,  it\\'s whether or not  you want reverse the heart disease  you ALREADY have. Ornish and Esselstyn  proved you can reverse heart disease with a  plant-based diet,  but we don\\'t have to wait  until our first heart attack  to reverse the clogging  of our arteries.  We can start reversing our  heart disease right now.  We can start reversing heart  disease in our kids, tonight.', metadata={'date': '2013-09-23', 'description': \"New subscribers to our e-newsletter always receive a free gift. Get yours here: https://nutritionfacts.org/subscribe/\\n\\n\\n \\n\\nDESCRIPTION: By age 10, nearly all kids have fatty streaks in their arteries This is the first sign of atherosclerosis, the leading cause of death in the United States. So the question for most of us is not whether we should eat healthy to prevent heart disease, but whether we want to reverse the heart disease we may already have.\\n\\nGiven the importance of this message, I encourage folks to please share this video with those in your circles. I know it's scary, but hope it's empowering at the same time. The bottom line is that we have tremendous control over our medical destinies.\\n\\nHow do we go about reversing our heart disease? I address that exact question in my new live annual review presentation More Than an Apple a Day (http://nutritionfacts.org/video/more-than-an-apple-a-day-preventing-our-most-common-diseases/). Or, for shorter snippets:\\n\\n• Resuscitating Medicare (http://nutritionfacts.org/video/resuscitating-medicare/)\\n• Eliminating the #1 Cause of Death (http://nutritionfacts.org/video/eliminating-the-1-cause-of-death/)\\n• China Study on Sudden Cardiac Death (http://nutritionfacts.org/video/china-study-on-sudden-cardiac-death/)\\n• Our Number One Killer Can Be Stopped (http://nutritionfacts.org/video/our-number-one-killer-can-be-stopped/)\\n• Heart Attacks and Cholesterol: Purely a Question of Diet (http://nutritionfacts.org/video/heart-attacks-and-cholesterol-purely-a-question-of-diet/)\\n• Trans Fat, Saturated Fat, and Cholesterol: Tolerable Upper Intake of Zero (http://nutritionfacts.org/video/trans-fat-saturated-fat-and-cholesterol-tolerable-upper-intake-of-zero/)\\n\\nHeart disease is a choice.\\n\\nHave a question for Dr. Greger about this video? Leave it in the comment section at http://nutritionfacts.org/video/heart-disease-starts-in-childhood/ and he'll try to answer it!\\n\\nImage Credit: Rrrrred and Kevin Burkett via Flickr, and Nephron via Wikimedia.\\n\\nhttps://NutritionFacts.org\\n• Subscribe: https://nutritionfacts.org/subscribe\\n• Donate: https://nutritionfacts.org/donate\\n• Podcast : https://nutritionfacts.org/audio\\n• Facebook: www.facebook.com/NutritionFacts.org\\n• Twitter: www.twitter.com/nutrition_facts\\n• Instagram: www.instagram.com/nutrition_facts_org\\n• Books: https://nutritionfacts.org/books\\n• Shop: https://drgreger.org\", 'publishedAt': '2013-09-23T11:13:14Z', 'title': 'Heart Disease Starts in Childhood', 'videoId': 'AkWd0R05ZEs', 'year': 2013})]"
      ]
     },
     "execution_count": 23,
     "metadata": {},
     "output_type": "execute_result"
    }
   ],
   "source": [
    "# Test it out\n",
    "docs = db2.similarity_search(\"heart disease\", k=5)\n",
    "docs"
   ]
  },
  {
   "cell_type": "code",
   "execution_count": 31,
   "metadata": {},
   "outputs": [
    {
     "data": {
      "text/plain": [
       "[Document(page_content='\"Eliminating the #1 Cause of Death\" The #1 cause of death in the United  States, however, is heart disease. Late last year, a landmark review was  published on the cause of our #1 killer, by Dr. William Clifford Roberts. First of all, who is this guy? The head of Baylor\\'s  Cardiovascular Institute. he\\'s authored a mere  1,387 scientific publications, written more than a dozen  textbooks on cardiology, and has been the Editor in Chief of the American Journal  of Cardiology for 25 years. Well then, what is the  cause of atherosclerosis? Well, first of all, doesn\\'t  he mean causes, though? I mean, there are lots of things  that increase a risk of heart disease -- hypertension, diabetes, obesity,  inactivity, cigarette smoking. None of that matters, he says,  unless we have high cholesterol. All those things can speed the  buildup of plaque in our arteries, but if our cholesterol  level is low enough, there\\'s nothing our body  can build the plaque with. According to Dr. Roberts, atherosclerosis simply does not occur  if elevated cholesterol is not present, regardless of how high our blood  pressure is, our blood sugars, no matter how obese, how inactive,  or how many cigarettes we smoke. The plaque that builds  up in our arteries, choking off blood flow to our heart, to our brain, to the other  arteries in our body, is made out of cholesterol. If you don\\'t have enough  bricks and mortar to build a dam  choking off a river, the dam will not be built. Unless we have elevated  cholesterol levels, there simply isn\\'t enough  substrate to form these plaques throughout our arteries,  to trigger strokes, heart attacks, kill us,  make us impotent -- though not necessarily in that order. If cholesterol is the  cause of atherosclerosis, how low does one\\'s cholesterol have  to be to become heart attack proof? Ideally, our bad cholesterol,  LDL, should be under 70. If such a goal was created, the great scourge of the Western world  would be essentially eliminated. There are only two ways, he says,  to get it down that low -- put 100 million people on a  lifetime of high-dose statin drugs starting in one\\'s twenties, or be what he calls a  pure vegetarian fruit eater, which is just what he calls those  eating whole foods, vegan diets. Now, if we put everyone on drugs, then thousands of people  would suffer side effects, so, of course, a vegan diet is the  least expensive and safest means of achieving the plaque- preventing LDL goal, but few in the Western world are  willing to live on the herbivore diet. In his words, in a recent interview, the best way to prevent heart disease is to be a non-flesh eater,  a non-saturated fat eater. Because humans get atherosclerosis, and atherosclerosis is a disease  only of herbivores, he reasons, humans also must be herbivores. The cause of our #1 killer  is elevated cholesterol. So, according to probably  the most renowned cardiovascular pathologist in the world, that means the cause  of our #1 killer is -- not eating vegan.', metadata={'date': '2011-02-28', 'description': \"New subscribers to our e-newsletter always receive a free gift. Get yours here: https://nutritionfacts.org/subscribe/\\n\\n\\n \\nDESCRIPTION: How to essentially eliminate the great scourge of the Western world. Have a question about this video? Leave it in the comment section at http://nutritionfacts.org/videos/eliminating-the-1-cause-of-death/ and I'll try to answer it! And check out the other videos on heart disease (http://nutritionfacts.org/topics/heart-disease/). Also, there are 1,449 other subjects (http://nutritionfacts.org/topics/) covered in the rest of my videos--please feel free to explore them as well! \\n\\nImage credit: chriswong4238 / Flickr \\n\\n https://NutritionFacts.org\\n• Subscribe: https://nutritionfacts.org/subscribe\\n• Donate: https://nutritionfacts.org/donate\\n• Podcast : https://nutritionfacts.org/audio\\n• Facebook: www.facebook.com/NutritionFacts.org\\n• Twitter: www.twitter.com/nutrition_facts\\n• Instagram: www.instagram.com/nutrition_facts_org\\n• Books: https://nutritionfacts.org/books\\n• Shop: https://drgreger.org\", 'publishedAt': '2011-02-28T05:03:19Z', 'title': 'Eliminating the #1 Cause of Death', 'videoId': 'bY0UY3FwoW4', 'year': 2011}),\n",
       " Document(page_content='\"Heart Disease Starts in Childhood\" It was this landmark study  published in 1953 that radically changed our view  about the development of  heart disease forever.  A series of 300 autopsies performed  on U.S. battle casualties of the  Korean War, average age, 22.  22 years old, but 77% of their  hearts had gross evidence,  meaning visible to the eye evidence,  of coronary atherosclerosis,  hardening of their arteries. Some of them had vessels that  were clogged off 90% or more.  As an editorial in the  Journal of the   of the American Medical  Association concluded,  \"This widely cited publication  dramatically showed\"  \"that atherosclerotic changes appear  in the coronary arteries\" \"years and decades before the age at  which coronary heart disease (CHD)\" \"becomes a clinically  recognized problem\",  before symptoms arise.  Follow-up studies on the hearts  of thousands more soldiers  over the subsequent years  confirmed their results.  How young does it go?  Fatty streaks, the first  stage of atherosclerosis,  was found in the arteries of  100% of kids by age 10.  What\\'s accounting for this buildup  of plaque even in childhood?  In the 80s we got  our first clue,  the now famous Bogalusa heart  study looking at autopsies  of those dying between the ages  of 3 years old to age 26.  And the #1 risk factor  was cholesterol.  You could see the stepwise increase  in the amount of their arteries  covered in fatty streaks as the level of   bad cholesterol in the blood increased.  As powerful as this was, this was only looking at 30 kids.  So they decided  to study 3000. Three thousand accidental death  victims, ages 15 through 34.  After thousands of autopsies, they were  able to produce a scoring system, able to predict advanced  atherosclerotic lesions  in the coronary arteries  of young people.  The higher your score,  the higher the likelihood  you have these lesions  growing in your heart.  So if you\\'re in your teens, twenties,  early thirties and you smoke,  your risk goes up a point.  If you have high blood pressure  at such a young age,   that\\'s 4 points. If you\\'re an obese male - 6 points,  but high cholesterol was the worst.  If your non-HDL cholesterol,  meaning your total cholesterol minus your good cholesterol, is above like 220- that\\'s like 8 times  worse than smoking.  So, let\\'s say you\\'re a young woman  with relatively high cholesterol,  but you don\\'t smoke,  you\\'re not overweight,  your blood pressure and  blood sugars are fine. At your sweet 16, there\\'s  just a few percent chance you already have an advanced  atherosclerotic lesion in your heart,  but if you don\\'t improve your  diet by your 30th birthday,  there may be like a 1 in 5 chance  you have some serious heart disease,  and if you have really high cholesterol  it could be closer to 1 in 3.  Bringing your cholesterol down  to even just that of a  lacto-ovo vegetarian  and you\\'re down to here. And if you exercise  to boost your HDL  you can extrapolate down  a little further. \"So what this shows us is that  even in 15 to 19 year olds,\" \"atherosclerosis has begun in a  substantial number of individuals,\" \"and this observation suggests  beginning primary prevention\"  \"at least by the late teenage years\"  \"to ameliorate every  stage of atherosclerosis\" \"and to prevent or retard progression  to more advanced lesions.\" You start kids out on  a low saturated fat diet  and you may see a  significant improvement  in their arterial function  by 11 years old. \"Exposure to high serum  cholesterol even in childhood\" \"may accelerate the development  of atherosclerosis.\"  \"Consequently, the long-term  prevention of atherosclerosis\"  \"might be most effective when  initiated early in life\", as in 7-months of age. Atherosclerosis, hardening of the  arteries, begins in childhood.  Remember, by age 10, nearly  all kids have fatty streaks,  the first stage of the disease.  Then… the plaques start  forming in our 20s…  and get worse in our 30s ... and then can start killing us off. In our hearts,it\\'s a heart attack. In our brains,it\\'s a stroke.  In our extremities,  it can mean gangrene,  and in our aorta, an aneurism.  If there is anyone watching this video  that is older than 10 years of age,  the choice likely isn\\'t whether or not  to eat healthy to prevent heart disease,  it\\'s whether or not you want to reverse  the heart disease you already have. Ornish and Esselstyn proved  you can reverse heart disease  with a plant-based diet,  but we don\\'t have to wait  until our first heart attack to reverse the clogging  of our arteries. We can start reversing our  heart disease right now.  We can start reversing heart disease  in our kids, tonight.', metadata={'date': '2015-04-03', 'description': 'New subscribers to our e-newsletter always receive a free gift. Get yours here: https://nutritionfacts.org/subscribe/\\n\\n\\n \\n\\nDESCRIPTION: By age 10, nearly all kids have fatty streaks in their arteries This is the first sign of atherosclerosis, the leading cause of death in the United States. So the question for most of us is not whether or not we should eat healthy to prevent heart disease, but whether we want to reverse the heart disease we may already have.\\n\\nImage Credit: Rrrrred and Kevin Burkett via Flickr, and Nephron via Wikimedia.\\n\\nhttps://NutritionFacts.org\\n• Subscribe: https://nutritionfacts.org/subscribe\\n• Donate: https://nutritionfacts.org/donate\\n• Podcast : https://nutritionfacts.org/audio\\n• Facebook: www.facebook.com/NutritionFacts.org\\n• Twitter: www.twitter.com/nutrition_facts\\n• Instagram: www.instagram.com/nutrition_facts_org\\n• Books: https://nutritionfacts.org/books\\n• Shop: https://drgreger.org', 'publishedAt': '2015-04-03T21:53:34Z', 'title': 'Heart Disease Starts in Childhood', 'videoId': 'vlubvTMLrLM', 'year': 2015}),\n",
       " Document(page_content='\"China Study on Sudden Cardiac Death\" What exactly do they mean by sudden cardiac death? It’s defined as the sudden, unexpected natural death from a cardiac cause a short time (generally less than an hour) after the onset of symptoms in a person without any known previous condition. Most people know the number one killer of both men and women in the United States is heart disease. What people may not know, though, is that, according to the American Heart Association, for the majority of Americans that die of heart disease, their first symptom occurs not years before they die, but literally minutes before they die. In our last hour on this Earth, in agony, all the dietary change in the world isn’t going to reverse our course. Even if the paramedics snatch away our milkshake, refuse to stop at our favorite fast food joint en route to the hospital, it is too late. One moment we’re talking to our family, and less than an hour later, we could be gone forever. The number one cause of death in America is not just heart disease, but more specifically sudden cardiac death. People dropping dead in their 30s, 40s, 50s. Is that just what happens when you get old, though? Your ticker just conks out? Your pump just wears out on you? No. That’s why Dr. T. Colin Campbell’s work was so revolutionary. In fact, he’s the reason I chose Cornell. At the same time Ornish was studying what effect a plant-based diet was having on hundreds of people, Campbell and colleagues were studying hundreds of thousands. Here’s just one of the 894 pages of the Oxford-Cornell-China study. Let me share just one statistic. Guizhou county, in China, where, among a population of 246,000 men, over three years, there was not a single recorded death from coronary artery disease. If that was in the U.S., that many men, it would be thousands of recorded deaths. Instead, there were none. There’s nothing “natural” about heart disease. So, when Dr. Esselstyn talks about how most heart disease is a “toothless paper tiger that need never exist and if it does exist need never progress,” he’s not exaggerating. Nobody else has to die. Plant-based diets can prevent, successfully treat, and even reverse our number one killer.', metadata={'date': '2011-08-02', 'description': \"New subscribers to our e-newsletter always receive a free gift. Get yours here: https://nutritionfacts.org/subscribe/\\n\\n\\n \\nDESCRIPTION: The China-Oxford-Cornell Diet and Health Project directed by T. Colin Campbell and colleagues showed that chronic diseases such as heart disease are not inevitable consequences of aging. Have a question about this video? Leave it in the comment section at http://nutritionfacts.org/videos/china-study-on-sudden-cardiac-death/ and I'll try to answer it! Please feel free to post any ask-the-doctor type questions here in the comments section and I'd be happy to try to answer them. Be sure to check out Our number one killer can be stopped (http://nutritionfacts.org/video/our-number-one-killer-can-be-stopped/) as well as Resuscitating Medicare (http://nutritionfacts.org/video/resuscitating-medicare/), and don't forget all the other videos on heart health (http://nutritionfacts.org/topics/heart-health/) and heart disease (http://nutritionfacts.org/topics/heart-disease/). Also, there are 1,449 subjects (http://nutritionfacts.org/topics/) covered in my other videos--please feel free to explore them!\\n\\nhttps://NutritionFacts.org\\n• Subscribe: https://nutritionfacts.org/subscribe\\n• Donate: https://nutritionfacts.org/donate\\n• Podcast : https://nutritionfacts.org/audio\\n• Facebook: www.facebook.com/NutritionFacts.org\\n• Twitter: www.twitter.com/nutrition_facts\\n• Instagram: www.instagram.com/nutrition_facts_org\\n• Books: https://nutritionfacts.org/books\\n• Shop: https://drgreger.org\", 'publishedAt': '2011-08-02T23:58:43Z', 'title': 'China Study on sudden cardiac death', 'videoId': '2ohiWY_02gs', 'year': 2011}),\n",
       " Document(page_content='\"Our Number One Killer Can Be Stopped\" In the end, my grandma’s miraculous recovery from terminal heart disease through diet and exercise— remarkable as it was— was just one anecdote among many. Though it inspired me to pursue a career in medicine, I’ve always had a skeptical streak, and just wasn’t convinced until Ornish’s landmark study in 1990 clobbered me over the head with enough science to change my own diet forever. Pritikin had been reversing heart disease with a plant-based diet for years before Ornish came along. But here it was, in black and white, in one of the most prestigious medical journals in the world. Ornish proved you could not just slow heart disease—our number one killer, not just stop heart disease in its tracks, but actually reverse heart disease, open up clogged arteries— and without drugs, without surgery. Since then, millions upon millions have died totally unnecessary deaths. If my grandma didn’t have to die like that, no one’s grandmother has to die. We have the miracle cure, yet hardly anyone knows about it. Wait a second, though. If we can reverse heart disease without drugs, without surgery, then great. Doesn’t that mean we can eat whatever the heck we want, and then, as soon as we start feeling a little chest pain, we can get with the program, eat as healthy as we need to, and open our arteries back up? Getting to enjoy not only our grandchildren, but also happy memories of years of bacon and eggs, cheese, and fried chicken. Here’s the problem with the plan: sudden cardiac death. Our first symptom may be our last.', metadata={'date': '2011-08-02', 'description': \"New subscribers to our e-newsletter always receive a free gift. Get yours here: https://nutritionfacts.org/subscribe/\\n\\n\\n \\nDESCRIPTION: Dr. Dean Ornish proved decades ago that heart disease could be reversed solely with diet and lifestyle changes. Have a question about this video? Leave it in the comment section at http://nutritionfacts.org/videos/our-number-one-killer-can-be-stopped/ and I'll try to answer it! This is a continuation of a theme I started in yesterday's video (http://nutritionfacts.org/video/resuscitating-medicare/) about my personal journey into medicine. Please feel free to post any ask-the-doctor type questions here in the comments section and I'd be happy to try to answer them. Be sure to check out the other videos on heart health (http://nutritionfacts.org/topics/heart-health/) and heart disease (http://nutritionfacts.org/topics/heart-disease/). Also, there are 1,449 subjects (http://nutritionfacts.org/topics/) covered in my other videos--please feel free to explore them!\\n\\nhttps://NutritionFacts.org\\n• Subscribe: https://nutritionfacts.org/subscribe\\n• Donate: https://nutritionfacts.org/donate\\n• Podcast : https://nutritionfacts.org/audio\\n• Facebook: www.facebook.com/NutritionFacts.org\\n• Twitter: www.twitter.com/nutrition_facts\\n• Instagram: www.instagram.com/nutrition_facts_org\\n• Books: https://nutritionfacts.org/books\\n• Shop: https://drgreger.org\", 'publishedAt': '2011-08-02T23:52:47Z', 'title': 'Our number one killer can be stopped', 'videoId': 'WKRNbN4NvlM', 'year': 2011}),\n",
       " Document(page_content='\"Heart Disease Starts in Childhood\" It was this landmark study published in 1953  that radically  changed our view  about the development of  heart disease forever.  A series of  300 autopsies  performed on U.S. battle casualties  of the Korean War, average age, 22.  22 years old, but 77% of their  hearts had gross evidence,  meaning visible to  the eye evidence,  of coronary atherosclerosis,  hardening of their arteries. Some of them had vessels that  were clogged off 90% or more.  As an editorial in the Journal of the  American Medical Association concluded,  \"This widely cited publication  dramatically showed\" \"that atherosclerotic changes  appear in the coronary arteries\"  \"years and decades  before the age at which\"  \"coronary heart disease (CHD) becomes  a clinically recognized problem\", before symptoms arise.  Follow-up studies on the hearts  of thousands more soldiers over the subsequent years  confirmed their results.  How young does it go?  Fatty streaks, the first  stage of atherosclerosis,  was found in the arteries  of 100% of kids by age 10.  What\\'s accounting for this buildup  of plaque even in childhood? In the 80s we got  our first clue:  the now famous  Bogalusa heart study  looking at autopsies  of those dying  between the ages of  3 years old to age 26,  and the #1 risk  factor was cholesterol.  You could see the  stepwise increase  in the amount of their arteries  covered in fatty streaks  as the level of bad cholesterol  in the blood increased.  As powerful as this was,  this was only looking at 30 kids.  So they decided  to study 3000. 3,000 accidental death victims,  ages 15 through 34. After thousands  of autopsies,  they were able to produce  a scoring system,  able to predict advanced  atherosclerotic lesions  in the coronary arteries  of young people.  The higher your score,  the higher the likelihood  you have these lesions  growing in your heart. So, if you\\'re in your teens,  twenties, early thirties  and you smoke, your  risk goes up a point.  If you have high  blood pressure  at such a young age,  that\\'s 4 points.  If you\\'re an obese  male, 6 points, but high cholesterol  was the worst.  If your non-HDL  cholesterol,  meaning your total cholesterol  minus your good cholesterol, is above like 220,  that\\'s like 8 times  worse than smoking.  So, let\\'s say you\\'re  a young woman  with relatively  high cholesterol,  but you don\\'t smoke,  you\\'re not overweight,  your blood pressure and  blood sugars are fine.  At your sweet 16 there\\'s  just a few percent chance  you already have an advanced  atherosclerotic lesion in your heart. But if you don\\'t  improve your diet,  by your 30th  birthday,  there may be like a 1 in 5  chance you have  some serious  heart disease. And if you have really  high cholesterol  it could be closer  to 1 in 3.  Bringing your  cholesterol down  to even just that of  a lacto-ovo vegetarian  and you\\'re  down to here.  And if you exercise  to boost your HDL  you can extrapolate  down a little further.  So what this  shows us is that  even in 15 to  19-year olds,  atherosclerosis  has begun  in a substantial number  of individuals,  and this observation suggests  beginning primary prevention  at least by the  late teenage years  to ameliorate every stage  of atherosclerosis  and to prevent or retard progression  to more advanced lesions. You start kids out on a  low saturated fat diet  and you may see a  significant improvement  in their arterial function  by 11 years old!  Exposure to high serum cholesterol  even in childhood  may accelerate the development  of atherosclerosis.  Consequently, the long-term  prevention of atherosclerosis  might be most effective when  initiated early in life,  as in 7-months of age. Atherosclerosis,  hardening of the arteries,  begins in childhood.  Remember, by age 10,  nearly all kids  have fatty streaks,  the first stage  of the disease.  Then… the plaques start  forming in our 20s…  and get worse  in our 30s,  and then can start  killing us off. In our hearts it\\'s  a heart attack,  in our brains  it\\'s a stroke,  in our extremities it  can mean gangrene,  and in our aorta  an aneurysm.  If there is anyone  watching this video  that is older than  10 years of age,  the choice likely isn\\'t whether  or not to eat healthy to prevent heart disease,  it\\'s whether or not  you want reverse the heart disease  you ALREADY have. Ornish and Esselstyn  proved you can reverse heart disease with a  plant-based diet,  but we don\\'t have to wait  until our first heart attack  to reverse the clogging  of our arteries.  We can start reversing our  heart disease right now.  We can start reversing heart  disease in our kids, tonight.', metadata={'date': '2013-09-23', 'description': \"New subscribers to our e-newsletter always receive a free gift. Get yours here: https://nutritionfacts.org/subscribe/\\n\\n\\n \\n\\nDESCRIPTION: By age 10, nearly all kids have fatty streaks in their arteries This is the first sign of atherosclerosis, the leading cause of death in the United States. So the question for most of us is not whether we should eat healthy to prevent heart disease, but whether we want to reverse the heart disease we may already have.\\n\\nGiven the importance of this message, I encourage folks to please share this video with those in your circles. I know it's scary, but hope it's empowering at the same time. The bottom line is that we have tremendous control over our medical destinies.\\n\\nHow do we go about reversing our heart disease? I address that exact question in my new live annual review presentation More Than an Apple a Day (http://nutritionfacts.org/video/more-than-an-apple-a-day-preventing-our-most-common-diseases/). Or, for shorter snippets:\\n\\n• Resuscitating Medicare (http://nutritionfacts.org/video/resuscitating-medicare/)\\n• Eliminating the #1 Cause of Death (http://nutritionfacts.org/video/eliminating-the-1-cause-of-death/)\\n• China Study on Sudden Cardiac Death (http://nutritionfacts.org/video/china-study-on-sudden-cardiac-death/)\\n• Our Number One Killer Can Be Stopped (http://nutritionfacts.org/video/our-number-one-killer-can-be-stopped/)\\n• Heart Attacks and Cholesterol: Purely a Question of Diet (http://nutritionfacts.org/video/heart-attacks-and-cholesterol-purely-a-question-of-diet/)\\n• Trans Fat, Saturated Fat, and Cholesterol: Tolerable Upper Intake of Zero (http://nutritionfacts.org/video/trans-fat-saturated-fat-and-cholesterol-tolerable-upper-intake-of-zero/)\\n\\nHeart disease is a choice.\\n\\nHave a question for Dr. Greger about this video? Leave it in the comment section at http://nutritionfacts.org/video/heart-disease-starts-in-childhood/ and he'll try to answer it!\\n\\nImage Credit: Rrrrred and Kevin Burkett via Flickr, and Nephron via Wikimedia.\\n\\nhttps://NutritionFacts.org\\n• Subscribe: https://nutritionfacts.org/subscribe\\n• Donate: https://nutritionfacts.org/donate\\n• Podcast : https://nutritionfacts.org/audio\\n• Facebook: www.facebook.com/NutritionFacts.org\\n• Twitter: www.twitter.com/nutrition_facts\\n• Instagram: www.instagram.com/nutrition_facts_org\\n• Books: https://nutritionfacts.org/books\\n• Shop: https://drgreger.org\", 'publishedAt': '2013-09-23T11:13:14Z', 'title': 'Heart Disease Starts in Childhood', 'videoId': 'AkWd0R05ZEs', 'year': 2013})]"
      ]
     },
     "execution_count": 31,
     "metadata": {},
     "output_type": "execute_result"
    }
   ],
   "source": [
    "# # load from disk\n",
    "db3 = Chroma(persist_directory=\"./chroma_db\", embedding_function=embeddings_model)\n",
    "docs = db3.similarity_search(\"heart disease\", k=5)\n",
    "docs"
   ]
  },
  {
   "cell_type": "markdown",
   "metadata": {},
   "source": [
    "It works!"
   ]
  },
  {
   "cell_type": "markdown",
   "metadata": {},
   "source": []
  }
 ],
 "metadata": {
  "kernelspec": {
   "display_name": "nutritionfacts_chat-G3oMJuqJ",
   "language": "python",
   "name": "python3"
  },
  "language_info": {
   "codemirror_mode": {
    "name": "ipython",
    "version": 3
   },
   "file_extension": ".py",
   "mimetype": "text/x-python",
   "name": "python",
   "nbconvert_exporter": "python",
   "pygments_lexer": "ipython3",
   "version": "3.12.1"
  }
 },
 "nbformat": 4,
 "nbformat_minor": 2
}

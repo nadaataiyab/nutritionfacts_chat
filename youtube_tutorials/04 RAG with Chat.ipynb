{
 "cells": [
  {
   "cell_type": "code",
   "execution_count": 1,
   "metadata": {},
   "outputs": [],
   "source": [
    "import pandas as pd\n",
    "import numpy as np\n",
    "import os\n",
    "import gradio as gr\n",
    "from dotenv import load_dotenv\n",
    "\n",
    "from langchain_openai import ChatOpenAI, OpenAIEmbeddings\n",
    "from langchain.prompts import ChatPromptTemplate, MessagesPlaceholder\n",
    "from langchain.vectorstores import Chroma\n",
    "from langchain_core.output_parsers import StrOutputParser\n",
    "from langchain.document_loaders import DataFrameLoader\n",
    "from langchain.text_splitter import RecursiveCharacterTextSplitter\n",
    "from langchain import hub\n",
    "from langchain.schema import AIMessage, HumanMessage, SystemMessage\n",
    "\n",
    "from langchain_core.runnables import (\n",
    "    ConfigurableField,\n",
    "    RunnableBinding,\n",
    "    RunnableLambda,\n",
    "    RunnablePassthrough,\n",
    "    RunnableParallel\n",
    ")\n",
    "\n",
    "pd.set_option('display.max_colwidth', 300)  # Or use a large number if 'None' does not work in some environments\n",
    "pd.set_option('display.max_columns', 300)  # Show all columns\n",
    "pd.set_option('display.max_rows', 20)  # Show all row\n",
    "\n",
    "load_dotenv()\n",
    "OPENAI_APIKEY = os.environ['OPENAI_APIKEY']"
   ]
  },
  {
   "cell_type": "markdown",
   "metadata": {},
   "source": [
    "# Set up Chain"
   ]
  },
  {
   "cell_type": "code",
   "execution_count": 3,
   "metadata": {},
   "outputs": [],
   "source": [
    "# Instantiate models\n",
    "embeddings_model = OpenAIEmbeddings(api_key=OPENAI_APIKEY, model='text-embedding-3-large', max_retries=100, chunk_size=16, show_progress_bar=False)\n",
    "chat_model_4 = ChatOpenAI(api_key=OPENAI_APIKEY, temperature=0.5, model='gpt-4-turbo-2024-04-09')\n",
    "# Load chroma from disk\n",
    "vectorstore = Chroma(persist_directory=\"../chroma_db\", embedding_function=embeddings_model)\n",
    "# Set up the vectorstore to be the retriever\n",
    "num_results = 5\n",
    "retriever = vectorstore.as_retriever(search_kwargs={'k': num_results})"
   ]
  },
  {
   "cell_type": "code",
   "execution_count": 4,
   "metadata": {},
   "outputs": [],
   "source": [
    "def format_chat_history(chat_history):\n",
    "    chat_history_langchain_format = []\n",
    "    for human, ai in chat_history:\n",
    "        chat_history_langchain_format.append(HumanMessage(content=human))\n",
    "        chat_history_langchain_format.append(AIMessage(content=ai))\n",
    "    \n",
    "    return chat_history_langchain_format"
   ]
  },
  {
   "cell_type": "code",
   "execution_count": 5,
   "metadata": {},
   "outputs": [],
   "source": [
    "contextualize_q_system_prompt = \"\"\"Given a chat history and the latest user question \\\n",
    "which might reference context in the chat history, formulate a standalone question \\\n",
    "which can be understood without the chat history. Do NOT answer the question, \\\n",
    "just reformulate it if needed and otherwise return it as is.\"\"\"\n",
    "\n",
    "contextualize_q_prompt = ChatPromptTemplate.from_messages(\n",
    "    [\n",
    "        (\"system\", contextualize_q_system_prompt),\n",
    "        MessagesPlaceholder(\"chat_history\", optional=True),\n",
    "        (\"human\", \"{question}\"),\n",
    "    ]\n",
    ")\n",
    "\n",
    "contextualize_chain = contextualize_q_prompt | chat_model_4 | StrOutputParser()\n",
    "\n",
    "template = \"\"\"You are an assistant for question-answering tasks regarding\n",
    "plant-based nutrition to prevent and reverse disease and nutrition science. \n",
    "The following are snippets of transcripts from Dr Michael Greger's nutrition facts\n",
    "videos that you are going to use to to answer the question.\n",
    "\n",
    "If you don't know the answer, just say that you don't know.\n",
    "Ask follow-up questions if appropriate. \n",
    "\n",
    "Context: {context}\n",
    "\n",
    "Question: {contextualized_question}\n",
    "\n",
    "Answer: \n",
    "\n",
    "\"\"\"\n",
    "\n",
    "answer_prompt = ChatPromptTemplate.from_template(template)\n",
    "\n",
    "qa_chain = answer_prompt | chat_model_4 | StrOutputParser()\n",
    "\n",
    "\n"
   ]
  },
  {
   "cell_type": "code",
   "execution_count": 6,
   "metadata": {},
   "outputs": [],
   "source": [
    "chat_history = [[\"Is juice bad for me?\", \"It's better to avoid juice and drink water\"],\n",
    "                [\"Should I drink filtered water?\", \"Filtered water is usually saafer\"],\n",
    "                [\"How much water should I drink a day?\", \"5-7 cups\"]]\n",
    "question = \"But how much for children?.\""
   ]
  },
  {
   "cell_type": "code",
   "execution_count": 7,
   "metadata": {},
   "outputs": [
    {
     "data": {
      "text/plain": [
       "[HumanMessage(content='Is juice bad for me?'),\n",
       " AIMessage(content=\"It's better to avoid juice and drink water\"),\n",
       " HumanMessage(content='Should I drink filtered water?'),\n",
       " AIMessage(content='Filtered water is usually saafer'),\n",
       " HumanMessage(content='How much water should I drink a day?'),\n",
       " AIMessage(content='5-7 cups')]"
      ]
     },
     "execution_count": 7,
     "metadata": {},
     "output_type": "execute_result"
    }
   ],
   "source": [
    "langchain_chat_history = format_chat_history(chat_history)\n",
    "langchain_chat_history"
   ]
  },
  {
   "cell_type": "code",
   "execution_count": 8,
   "metadata": {},
   "outputs": [
    {
     "data": {
      "text/plain": [
       "'How much water should children drink per day?'"
      ]
     },
     "execution_count": 8,
     "metadata": {},
     "output_type": "execute_result"
    }
   ],
   "source": [
    "\n",
    "contextualized_question = contextualize_chain.invoke({'chat_history': langchain_chat_history, 'question': question})\n",
    "contextualized_question\n"
   ]
  },
  {
   "cell_type": "code",
   "execution_count": 9,
   "metadata": {},
   "outputs": [
    {
     "data": {
      "text/plain": [
       "['What Is the Safest Metabolism Booster?',\n",
       " 'What Is the Safest Metabolism Booster?',\n",
       " 'How Many Glasses of Water Should We Drink a Day?',\n",
       " 'How Many Glasses of Water Should We Drink a Day?',\n",
       " 'Podcast: Boosting Our Metabolism']"
      ]
     },
     "execution_count": 9,
     "metadata": {},
     "output_type": "execute_result"
    }
   ],
   "source": [
    "context = retriever.invoke(contextualized_question)\n",
    "[c.metadata['title'] for c in context]"
   ]
  },
  {
   "cell_type": "code",
   "execution_count": 10,
   "metadata": {},
   "outputs": [
    {
     "data": {
      "text/plain": [
       "\"The recommended daily adequate intake of water for children varies by age. For children ages 4 through 8, it is recommended that they drink about 7 cups of water a day. For ages 9 through 13, the recommendation is 8 cups a day for girls and 10 cups a day for boys. These recommendations may offer more than just hydration benefits, as some research suggests possible increases in metabolic rate associated with water consumption. However, it's important to note that not all research teams were able to replicate these findings consistently.\""
      ]
     },
     "execution_count": 10,
     "metadata": {},
     "output_type": "execute_result"
    }
   ],
   "source": [
    "answer = qa_chain.invoke({ 'context': context, 'contextualized_question': contextualized_question})\n",
    "answer"
   ]
  },
  {
   "cell_type": "code",
   "execution_count": 11,
   "metadata": {},
   "outputs": [],
   "source": [
    "def format_result(answer, context):\n",
    "    # Extract unique pairs of titles and video IDs from the context\n",
    "    unique_videos = set((doc.metadata['title'], doc.metadata['videoId']) for doc in context)\n",
    "    \n",
    "    # Create a plain text string where each title is followed by its URL\n",
    "    titles_with_links = [\n",
    "        f\"{title}: https://www.youtube.com/watch?v={video_id}\" for title, video_id in unique_videos\n",
    "    ]\n",
    "    \n",
    "    # Join these entries with line breaks to form a clear list\n",
    "    titles_string = '\\n'.join(titles_with_links)\n",
    "    titles_formatted = f\"Relevant Videos:\\n{titles_string}\"\n",
    "    \n",
    "    # Combine the answer from the result with the formatted list of video links\n",
    "    response = f\"{answer}\\n\\n{titles_formatted}\"\n",
    "\n",
    "    return response"
   ]
  },
  {
   "cell_type": "code",
   "execution_count": 12,
   "metadata": {},
   "outputs": [
    {
     "name": "stdout",
     "output_type": "stream",
     "text": [
      "The recommended daily adequate intake of water for children varies by age. For children ages 4 through 8, it is recommended that they drink about 7 cups of water a day. For ages 9 through 13, the recommendation is 8 cups a day for girls and 10 cups a day for boys. These recommendations may offer more than just hydration benefits, as some research suggests possible increases in metabolic rate associated with water consumption. However, it's important to note that not all research teams were able to replicate these findings consistently.\n",
      "\n",
      "Relevant Videos:\n",
      "What Is the Safest Metabolism Booster?: https://www.youtube.com/watch?v=WGlENiyN4Dw\n",
      "Podcast: Boosting Our Metabolism: https://www.youtube.com/watch?v=HyuXNzLzKYM\n",
      "How Many Glasses of Water Should We Drink a Day?: https://www.youtube.com/watch?v=qrzSLIBOauM\n"
     ]
    }
   ],
   "source": [
    "print(format_result(answer, context))"
   ]
  },
  {
   "cell_type": "code",
   "execution_count": null,
   "metadata": {},
   "outputs": [],
   "source": []
  },
  {
   "cell_type": "code",
   "execution_count": null,
   "metadata": {},
   "outputs": [],
   "source": []
  },
  {
   "cell_type": "code",
   "execution_count": null,
   "metadata": {},
   "outputs": [],
   "source": []
  },
  {
   "cell_type": "code",
   "execution_count": null,
   "metadata": {},
   "outputs": [],
   "source": []
  }
 ],
 "metadata": {
  "kernelspec": {
   "display_name": "nutritionfacts_chat-G3oMJuqJ",
   "language": "python",
   "name": "python3"
  },
  "language_info": {
   "codemirror_mode": {
    "name": "ipython",
    "version": 3
   },
   "file_extension": ".py",
   "mimetype": "text/x-python",
   "name": "python",
   "nbconvert_exporter": "python",
   "pygments_lexer": "ipython3",
   "version": "3.12.1"
  }
 },
 "nbformat": 4,
 "nbformat_minor": 2
}

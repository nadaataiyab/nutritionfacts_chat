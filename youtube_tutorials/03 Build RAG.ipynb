{
 "cells": [
  {
   "cell_type": "markdown",
   "metadata": {},
   "source": [
    "# About\n",
    "- Build basic RAG chain\n",
    "- Build RAG chain that also returns the sources"
   ]
  },
  {
   "cell_type": "markdown",
   "metadata": {},
   "source": [
    "# Imports and Settings"
   ]
  },
  {
   "cell_type": "code",
   "execution_count": 2,
   "metadata": {},
   "outputs": [],
   "source": [
    "import os\n",
    "import gradio as gr\n",
    "\n",
    "from langchain_openai import ChatOpenAI, OpenAIEmbeddings\n",
    "from langchain.vectorstores import Chroma\n",
    "from langchain_core.output_parsers import StrOutputParser\n",
    "from langchain import hub\n",
    "from langchain_core.runnables import RunnablePassthrough\n",
    "\n",
    "from dotenv import load_dotenv\n",
    "load_dotenv()\n",
    "OPENAI_APIKEY = os.environ['OPENAI_APIKEY']"
   ]
  },
  {
   "cell_type": "markdown",
   "metadata": {},
   "source": [
    "# Create Basic RAG Chain"
   ]
  },
  {
   "cell_type": "code",
   "execution_count": 46,
   "metadata": {},
   "outputs": [],
   "source": [
    "# Instantiate embeddings model\n",
    "embeddings_model = OpenAIEmbeddings(api_key=OPENAI_APIKEY, model='text-embedding-3-large', max_retries=100, chunk_size=16, show_progress_bar=False)\n",
    "\n",
    "# Instantiate chat model\n",
    "chat_model_4 = ChatOpenAI(api_key=OPENAI_APIKEY, temperature=0.5, model='gpt-4-turbo-2024-04-09')\n"
   ]
  },
  {
   "cell_type": "code",
   "execution_count": 50,
   "metadata": {},
   "outputs": [],
   "source": [
    "# Load chroma from disk\n",
    "vectorstore = Chroma(persist_directory=\"../chroma_db/\", embedding_function=embeddings_model)\n",
    "\n",
    "# Set up the vectorstore to be the retriever\n",
    "k = 5\n",
    "retriever = vectorstore.as_retriever(search_kwargs={\"k\":k})\n",
    "\n",
    "# Format docs function\n",
    "def format_docs(docs):\n",
    "    return \"\\n\\n\".join(doc.page_content for doc in docs)"
   ]
  },
  {
   "cell_type": "markdown",
   "metadata": {},
   "source": [
    "## Test out the retriever"
   ]
  },
  {
   "cell_type": "code",
   "execution_count": 51,
   "metadata": {},
   "outputs": [],
   "source": [
    "# Test out the retriever\n",
    "query = \"eggs and diabetes\"\n",
    "results = retriever.invoke(query)"
   ]
  },
  {
   "cell_type": "code",
   "execution_count": 53,
   "metadata": {},
   "outputs": [
    {
     "name": "stdout",
     "output_type": "stream",
     "text": [
      "\"Eggs and Diabetes\" Type 2 diabetes is becoming  a world pandemic. We know the consumption  of eggs is related to the development of some  other chronic diseases... what about diabetes? Researchers found a stepwise  increase in risk the more and more  eggs people ate. Eating just a single  egg a week appeared to increase the odds  of diabetes by 76%. Two eggs a week appeared  to double the odds, and just a single egg  a day tripled the odds. Three times greater  risk of type 2 diabetes, one of the leading causes  of death and amputation, blindness, and kidney failure. This is not the  first time a link between eggs and diabetes  has been reported. In 2009, Harvard researchers found  that a single egg a day or more was associated with  an increased risk of type 2 diabetes  in men and women, and that finding has since  also been confirmed in other populations:  Asia in 2011 and Europe in 2012. And the \"high\" consumption of eggs associated with diabetes risk  was less than one a day,\n",
      "\n",
      "and that finding has since  also been confirmed in other populations:  Asia in 2011 and Europe in 2012. And the \"high\" consumption of eggs associated with diabetes risk  was less than one a day, though it appears you  have to start early— once you get into your 70s  avoiding eggs may not help. Once we then have diabetes,  eggs may hasten our death. Eating one egg  a day or more appears to shorten  anyone's lifespan, but may double the  all-cause mortality for those with diabetes. Not good news for  the egg industry. From a transcript  of a closed meeting I got through the Freedom  of Information Act: \"Given the rate at which obesity  and incidence of type II diabetes is growing in the US, any association between dietary  cholesterol and type II diabetes could be a 'showstopper'  that could overshadow the positive attributes (of) eggs.”\n",
      "\n",
      "contre le diabète. Ceci explique pourquoi les femmes enceintes  suivant une alimentation végétarienne semble être à un risque significativement  plus bas de développer du diabète.  Mais cette étude à été faite en Inde,  où la majorité des végétariens ne  mangent pas d’œufs non plus.  Une recherche plus récente  à Harvard à démontré qu'un apport plus élevé en gras  animal et en cholestérol, avant  la grossesse, était associé à  une augmentation du risque  de diabète de grossesse.  Remplacer 5% de gras animal  par 5% de glucides était associé à une augmentation de 13%  du risque de diabète de grossesse. Mais s'il ne s'agit pas simplement du gras  animal, mais également du cholestérol,  on s'attendrait à ce que les œufs augmentent le   risque de diabète durant la grossesse également.  Mais ça n'avait jamais été porté à  l'étude spécifiquement...jusqu'à maintenant. Le risque de diabète de grossesse en  relation à l'apport en œufs de la mère.  Apparemment, plus les femmes mangent des\n",
      "\n",
      "like a heart attack.  So do eggs increase our risk of  cardiovascular disease or not?  Here’s the latest meta-analysis,  the latest compilation of all the best studies  on egg consumption and risk of  heart disease going back to 1930.  When you put them all together, what do we find?  Overall, those that ate the most eggs  had a 19% increased risk of cardiovascular disease,  a 68% increased risk of diabetes,  and then once you get diabetes, an 85%  increased risk of heart disease.  And it didn’t take much.  Less than a single egg a day was associated  with a significantly increased risk of heart disease.  Just over a half an egg a day may increase  heart disease risk between 6 and 40%,  and the risk of diabetes 29%.  They conclude that their findings support  the American Heart Association dietary guidelines,  which advise restricted egg consumption in adults  for preventing cardiometabolic diseases  like diabetes, our seventh leading cause of death,  and heart disease, killer number\n",
      "\n",
      "\"Bacon, Eggs, and Gestational  Diabetes During Pregnancy\" Le diabète de grossesse, c'est-à-dire  un haut taux de sucre sanguin  se développant lors de la grossesse, est une des plus fréquentes complications  lors de la grossesse. Cette maladie est associée à une  croissance anormale du fœtus,  la mortalité infantile, la pre-eclampsie  (ce qui peut mettre la santé de la mère à risque), et d'autres malformations  congénitales majeures. Y-a-t'il quoi que ce soit qui puisse  être fait pour le prévenir ? Et bien, la recherche \"Harvard Nurses Health\"  à déterminée que  manger de la viande avant la grossesse  semblait augmenter le risque de diabète  durant la grossesse. Ils suggèrent que les  nitrosamines cancérigènes dans le bacon et d'autres formes de  viandes transformées pourrait être toxic aux cellules produisant de l'insuline. C'est peut être pour cette raison que  le jambon, et autres viandes froides,  pourrait jouer un rôle dans  l'imitation du diabète de type 1, mais un risque accru\n"
     ]
    }
   ],
   "source": [
    "# How would the formatted documents be rendered in the query?\n",
    "print(format_docs(results))"
   ]
  },
  {
   "cell_type": "markdown",
   "metadata": {},
   "source": [
    "Might be nice to also have the title!"
   ]
  },
  {
   "cell_type": "code",
   "execution_count": 55,
   "metadata": {},
   "outputs": [],
   "source": [
    "# Format docs function with the addition of the title\n",
    "def format_docs(docs):\n",
    "    return \"\\n\\n\".join((doc.metadata['title'] + '\\n' + doc.page_content) for doc in docs)"
   ]
  },
  {
   "cell_type": "code",
   "execution_count": 56,
   "metadata": {},
   "outputs": [
    {
     "name": "stdout",
     "output_type": "stream",
     "text": [
      "Eggs and Diabetes\n",
      "\"Eggs and Diabetes\" Type 2 diabetes is becoming  a world pandemic. We know the consumption  of eggs is related to the development of some  other chronic diseases... what about diabetes? Researchers found a stepwise  increase in risk the more and more  eggs people ate. Eating just a single  egg a week appeared to increase the odds  of diabetes by 76%. Two eggs a week appeared  to double the odds, and just a single egg  a day tripled the odds. Three times greater  risk of type 2 diabetes, one of the leading causes  of death and amputation, blindness, and kidney failure. This is not the  first time a link between eggs and diabetes  has been reported. In 2009, Harvard researchers found  that a single egg a day or more was associated with  an increased risk of type 2 diabetes  in men and women, and that finding has since  also been confirmed in other populations:  Asia in 2011 and Europe in 2012. And the \"high\" consumption of eggs associated with diabetes risk  was less than one a day,\n",
      "\n",
      "Eggs and Diabetes\n",
      "and that finding has since  also been confirmed in other populations:  Asia in 2011 and Europe in 2012. And the \"high\" consumption of eggs associated with diabetes risk  was less than one a day, though it appears you  have to start early— once you get into your 70s  avoiding eggs may not help. Once we then have diabetes,  eggs may hasten our death. Eating one egg  a day or more appears to shorten  anyone's lifespan, but may double the  all-cause mortality for those with diabetes. Not good news for  the egg industry. From a transcript  of a closed meeting I got through the Freedom  of Information Act: \"Given the rate at which obesity  and incidence of type II diabetes is growing in the US, any association between dietary  cholesterol and type II diabetes could be a 'showstopper'  that could overshadow the positive attributes (of) eggs.”\n",
      "\n",
      "Bacon, Eggs, and Gestational Diabetes During Pregnancy\n",
      "contre le diabète. Ceci explique pourquoi les femmes enceintes  suivant une alimentation végétarienne semble être à un risque significativement  plus bas de développer du diabète.  Mais cette étude à été faite en Inde,  où la majorité des végétariens ne  mangent pas d’œufs non plus.  Une recherche plus récente  à Harvard à démontré qu'un apport plus élevé en gras  animal et en cholestérol, avant  la grossesse, était associé à  une augmentation du risque  de diabète de grossesse.  Remplacer 5% de gras animal  par 5% de glucides était associé à une augmentation de 13%  du risque de diabète de grossesse. Mais s'il ne s'agit pas simplement du gras  animal, mais également du cholestérol,  on s'attendrait à ce que les œufs augmentent le   risque de diabète durant la grossesse également.  Mais ça n'avait jamais été porté à  l'étude spécifiquement...jusqu'à maintenant. Le risque de diabète de grossesse en  relation à l'apport en œufs de la mère.  Apparemment, plus les femmes mangent des\n",
      "\n",
      "Debunking Egg Industry Myths\n",
      "like a heart attack.  So do eggs increase our risk of  cardiovascular disease or not?  Here’s the latest meta-analysis,  the latest compilation of all the best studies  on egg consumption and risk of  heart disease going back to 1930.  When you put them all together, what do we find?  Overall, those that ate the most eggs  had a 19% increased risk of cardiovascular disease,  a 68% increased risk of diabetes,  and then once you get diabetes, an 85%  increased risk of heart disease.  And it didn’t take much.  Less than a single egg a day was associated  with a significantly increased risk of heart disease.  Just over a half an egg a day may increase  heart disease risk between 6 and 40%,  and the risk of diabetes 29%.  They conclude that their findings support  the American Heart Association dietary guidelines,  which advise restricted egg consumption in adults  for preventing cardiometabolic diseases  like diabetes, our seventh leading cause of death,  and heart disease, killer number\n",
      "\n",
      "Bacon, Eggs, and Gestational Diabetes During Pregnancy\n",
      "\"Bacon, Eggs, and Gestational  Diabetes During Pregnancy\" Le diabète de grossesse, c'est-à-dire  un haut taux de sucre sanguin  se développant lors de la grossesse, est une des plus fréquentes complications  lors de la grossesse. Cette maladie est associée à une  croissance anormale du fœtus,  la mortalité infantile, la pre-eclampsie  (ce qui peut mettre la santé de la mère à risque), et d'autres malformations  congénitales majeures. Y-a-t'il quoi que ce soit qui puisse  être fait pour le prévenir ? Et bien, la recherche \"Harvard Nurses Health\"  à déterminée que  manger de la viande avant la grossesse  semblait augmenter le risque de diabète  durant la grossesse. Ils suggèrent que les  nitrosamines cancérigènes dans le bacon et d'autres formes de  viandes transformées pourrait être toxic aux cellules produisant de l'insuline. C'est peut être pour cette raison que  le jambon, et autres viandes froides,  pourrait jouer un rôle dans  l'imitation du diabète de type 1, mais un risque accru\n"
     ]
    }
   ],
   "source": [
    "print(format_docs(results))"
   ]
  },
  {
   "cell_type": "code",
   "execution_count": 59,
   "metadata": {},
   "outputs": [],
   "source": [
    "# Get the prompt from the langchain hub. Or you could write your own!\n",
    "prompt = hub.pull(\"rlm/rag-prompt\")"
   ]
  },
  {
   "cell_type": "code",
   "execution_count": 60,
   "metadata": {},
   "outputs": [
    {
     "data": {
      "text/plain": [
       "ChatPromptTemplate(input_variables=['context', 'question'], metadata={'lc_hub_owner': 'rlm', 'lc_hub_repo': 'rag-prompt', 'lc_hub_commit_hash': '50442af133e61576e74536c6556cefe1fac147cad032f4377b60c436e6cdcb6e'}, messages=[HumanMessagePromptTemplate(prompt=PromptTemplate(input_variables=['context', 'question'], template=\"You are an assistant for question-answering tasks. Use the following pieces of retrieved context to answer the question. If you don't know the answer, just say that you don't know. Use three sentences maximum and keep the answer concise.\\nQuestion: {question} \\nContext: {context} \\nAnswer:\"))])"
      ]
     },
     "execution_count": 60,
     "metadata": {},
     "output_type": "execute_result"
    }
   ],
   "source": [
    "prompt"
   ]
  },
  {
   "cell_type": "markdown",
   "metadata": {},
   "source": [
    "## Test out the RAG_Chain"
   ]
  },
  {
   "cell_type": "code",
   "execution_count": 61,
   "metadata": {},
   "outputs": [],
   "source": [
    "# Create RAG Chain\n",
    "rag_chain = (\n",
    "    {\"context\": retriever | format_docs, \"question\": RunnablePassthrough()}\n",
    "    | prompt\n",
    "    | chat_model_4\n",
    "    | StrOutputParser())"
   ]
  },
  {
   "cell_type": "code",
   "execution_count": 62,
   "metadata": {},
   "outputs": [
    {
     "data": {
      "text/plain": [
       "'Research indicates that higher consumption of eggs is associated with an increased risk of type 2 diabetes. Studies have shown that even consuming less than one egg per day can elevate the risk, and the risk increases progressively with the number of eggs consumed. Additionally, for individuals with diabetes, consuming eggs may accelerate mortality and other health complications.'"
      ]
     },
     "execution_count": 62,
     "metadata": {},
     "output_type": "execute_result"
    }
   ],
   "source": [
    "query = \"eggs and diaetes\"\n",
    "rag_chain.invoke(query)"
   ]
  },
  {
   "cell_type": "markdown",
   "metadata": {},
   "source": [
    "# Create simple gradio answer bot"
   ]
  },
  {
   "cell_type": "code",
   "execution_count": 65,
   "metadata": {},
   "outputs": [],
   "source": [
    "# Function to generate answer\n",
    "def generate_answer(message, history):\n",
    "    return rag_chain.invoke(message)"
   ]
  },
  {
   "cell_type": "code",
   "execution_count": 66,
   "metadata": {},
   "outputs": [],
   "source": [
    "# Set up chat bot interface\n",
    "answer_bot = gr.ChatInterface(\n",
    "                            generate_answer,\n",
    "                            chatbot=gr.Chatbot(height=300),\n",
    "                            textbox=gr.Textbox(placeholder=\"Ask me a question about nutrition and health\", container=False, scale=7),\n",
    "                            title=\"Nutrition Facts ChatBot\",\n",
    "                            description=\"Ask Dr Michael McGregor's Nutrition Facts videos any questions!\",\n",
    "                            theme=\"soft\",\n",
    "                            examples=[\"diverticulosis\", \"heart disease\", \"low carb diets\", \"diabetes\", \"green tea\"],\n",
    "                            cache_examples=False,\n",
    "                            retry_btn=None,\n",
    "                            undo_btn=None,\n",
    "                            clear_btn=None,\n",
    "                            submit_btn=\"Ask\"\n",
    "                        )"
   ]
  },
  {
   "cell_type": "code",
   "execution_count": 67,
   "metadata": {},
   "outputs": [
    {
     "name": "stdout",
     "output_type": "stream",
     "text": [
      "Running on local URL:  http://127.0.0.1:7860\n",
      "\n",
      "To create a public link, set `share=True` in `launch()`.\n"
     ]
    },
    {
     "data": {
      "text/html": [
       "<div><iframe src=\"http://127.0.0.1:7860/\" width=\"100%\" height=\"500\" allow=\"autoplay; camera; microphone; clipboard-read; clipboard-write;\" frameborder=\"0\" allowfullscreen></iframe></div>"
      ],
      "text/plain": [
       "<IPython.core.display.HTML object>"
      ]
     },
     "metadata": {},
     "output_type": "display_data"
    },
    {
     "data": {
      "text/plain": []
     },
     "execution_count": 67,
     "metadata": {},
     "output_type": "execute_result"
    }
   ],
   "source": [
    "\n",
    "answer_bot.launch()"
   ]
  },
  {
   "cell_type": "code",
   "execution_count": null,
   "metadata": {},
   "outputs": [],
   "source": []
  }
 ],
 "metadata": {
  "kernelspec": {
   "display_name": "nutritionfacts_chat-G3oMJuqJ",
   "language": "python",
   "name": "python3"
  },
  "language_info": {
   "codemirror_mode": {
    "name": "ipython",
    "version": 3
   },
   "file_extension": ".py",
   "mimetype": "text/x-python",
   "name": "python",
   "nbconvert_exporter": "python",
   "pygments_lexer": "ipython3",
   "version": "3.12.1"
  }
 },
 "nbformat": 4,
 "nbformat_minor": 2
}

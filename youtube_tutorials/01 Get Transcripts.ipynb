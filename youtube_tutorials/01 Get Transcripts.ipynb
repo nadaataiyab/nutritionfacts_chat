{
 "cells": [
  {
   "cell_type": "markdown",
   "metadata": {},
   "source": [
    "# About\n",
    "- Get list of youtube videos in the nutrition facts channel\n",
    "- Download the transcripts of the videos"
   ]
  },
  {
   "cell_type": "code",
   "execution_count": 4,
   "metadata": {},
   "outputs": [],
   "source": [
    "import os\n",
    "import pandas as pd\n",
    "\n",
    "from googleapiclient.discovery import build\n",
    "from youtube_transcript_api import YouTubeTranscriptApi\n",
    "from youtube_transcript_api._errors import TranscriptsDisabled\n",
    "from dotenv import load_dotenv\n",
    "\n",
    "# Get api keys\n",
    "load_dotenv()\n",
    "YOUTUBE_APIKEY = os.environ['YOUTUBE_APIKEY']"
   ]
  },
  {
   "cell_type": "code",
   "execution_count": 5,
   "metadata": {},
   "outputs": [],
   "source": [
    "# Initialiaze youtube api client\n",
    "youtube = build('youtube', 'v3', developerKey=YOUTUBE_APIKEY)"
   ]
  },
  {
   "cell_type": "markdown",
   "metadata": {},
   "source": [
    "# Get Channel ID and List of Videos + Metadata"
   ]
  },
  {
   "cell_type": "code",
   "execution_count": 6,
   "metadata": {},
   "outputs": [
    {
     "data": {
      "text/plain": [
       "{'kind': 'youtube#channelListResponse',\n",
       " 'etag': 'y2wbGNYxO1mQLSW8NgLvKwMoFvQ',\n",
       " 'pageInfo': {'totalResults': 1, 'resultsPerPage': 5},\n",
       " 'items': [{'kind': 'youtube#channel',\n",
       "   'etag': 'QrBFR4pa4iZJUXj0kXL8bnskofE',\n",
       "   'id': 'UCddn8dUxYdgJz3Qr5mjADtA'}]}"
      ]
     },
     "execution_count": 6,
     "metadata": {},
     "output_type": "execute_result"
    }
   ],
   "source": [
    "# Let's see what's available in the channels list api\n",
    "#https://developers.google.com/youtube/v3/docs/channels/list\n",
    "username = 'NutritionFactsOrg'\n",
    "request = youtube.channels().list(\n",
    "        part=\"id\",\n",
    "        forUsername=username\n",
    "    )\n",
    "response = request.execute()\n",
    "response"
   ]
  },
  {
   "cell_type": "code",
   "execution_count": 7,
   "metadata": {},
   "outputs": [
    {
     "data": {
      "text/plain": [
       "{'kind': 'youtube#channelListResponse',\n",
       " 'etag': 'bk07A_MmcK-D8v4d6W2F1D19VD8',\n",
       " 'pageInfo': {'totalResults': 1, 'resultsPerPage': 5},\n",
       " 'items': [{'kind': 'youtube#channel',\n",
       "   'etag': '_j4yiMQau7n8ehX3SVIcA0aP4Ag',\n",
       "   'id': 'UCddn8dUxYdgJz3Qr5mjADtA',\n",
       "   'statistics': {'viewCount': '240451872',\n",
       "    'subscriberCount': '1120000',\n",
       "    'hiddenSubscriberCount': False,\n",
       "    'videoCount': '2603'}}]}"
      ]
     },
     "execution_count": 7,
     "metadata": {},
     "output_type": "execute_result"
    }
   ],
   "source": [
    "# Let's see what's available in the channels list api\n",
    "username = 'NutritionFactsOrg'\n",
    "request = youtube.channels().list(\n",
    "        part=\"statistics\",\n",
    "        forUsername=username\n",
    "    )\n",
    "response = request.execute()\n",
    "response"
   ]
  },
  {
   "cell_type": "code",
   "execution_count": 11,
   "metadata": {},
   "outputs": [
    {
     "data": {
      "text/plain": [
       "'UCddn8dUxYdgJz3Qr5mjADtA'"
      ]
     },
     "execution_count": 11,
     "metadata": {},
     "output_type": "execute_result"
    }
   ],
   "source": [
    "# Get the channel ID\n",
    "channel_id = response['items'][0]['id']\n",
    "channel_id"
   ]
  },
  {
   "cell_type": "code",
   "execution_count": 12,
   "metadata": {},
   "outputs": [
    {
     "data": {
      "text/html": [
       "<div>\n",
       "<style scoped>\n",
       "    .dataframe tbody tr th:only-of-type {\n",
       "        vertical-align: middle;\n",
       "    }\n",
       "\n",
       "    .dataframe tbody tr th {\n",
       "        vertical-align: top;\n",
       "    }\n",
       "\n",
       "    .dataframe thead th {\n",
       "        text-align: right;\n",
       "    }\n",
       "</style>\n",
       "<table border=\"1\" class=\"dataframe\">\n",
       "  <thead>\n",
       "    <tr style=\"text-align: right;\">\n",
       "      <th></th>\n",
       "      <th>videoId</th>\n",
       "      <th>title</th>\n",
       "      <th>description</th>\n",
       "      <th>publishedAt</th>\n",
       "    </tr>\n",
       "  </thead>\n",
       "  <tbody>\n",
       "    <tr>\n",
       "      <th>0</th>\n",
       "      <td>7niWR9iARhE</td>\n",
       "      <td>Podcast: How to Die a Good Death</td>\n",
       "      <td>Retaining dignity, privacy, and relief from pa...</td>\n",
       "      <td>2024-04-18T12:59:47Z</td>\n",
       "    </tr>\n",
       "    <tr>\n",
       "      <th>1</th>\n",
       "      <td>E-72zyo4wRg</td>\n",
       "      <td>Three Reasons Why Fruits and Vegetables May Re...</td>\n",
       "      <td>Osteoporosis and diet: Even just a single extr...</td>\n",
       "      <td>2024-04-17T11:59:47Z</td>\n",
       "    </tr>\n",
       "    <tr>\n",
       "      <th>2</th>\n",
       "      <td>Rr0rKZ3M-CA</td>\n",
       "      <td>Dark green leafy vegetables are packed with lu...</td>\n",
       "      <td>New subscribers to our e-newsletter always rec...</td>\n",
       "      <td>2024-04-16T18:00:14Z</td>\n",
       "    </tr>\n",
       "    <tr>\n",
       "      <th>3</th>\n",
       "      <td>SXzVlreNIY4</td>\n",
       "      <td>Benefits and Side Effects of the Shingles Vaccine</td>\n",
       "      <td>How does the new shingles vaccine compare to t...</td>\n",
       "      <td>2024-04-15T11:59:49Z</td>\n",
       "    </tr>\n",
       "    <tr>\n",
       "      <th>4</th>\n",
       "      <td>T7WDjPLAzc4</td>\n",
       "      <td>Your challenge this week is to add at least tw...</td>\n",
       "      <td>New subscribers to our e-newsletter always rec...</td>\n",
       "      <td>2024-04-12T22:00:20Z</td>\n",
       "    </tr>\n",
       "    <tr>\n",
       "      <th>...</th>\n",
       "      <td>...</td>\n",
       "      <td>...</td>\n",
       "      <td>...</td>\n",
       "      <td>...</td>\n",
       "    </tr>\n",
       "    <tr>\n",
       "      <th>2599</th>\n",
       "      <td>P_X3exQtuGA</td>\n",
       "      <td>The Healthiest Herbal Tea</td>\n",
       "      <td>New subscribers to our e-newsletter always rec...</td>\n",
       "      <td>2011-02-08T14:59:42Z</td>\n",
       "    </tr>\n",
       "    <tr>\n",
       "      <th>2600</th>\n",
       "      <td>ce-pvksbiwM</td>\n",
       "      <td>Update on Yerba Maté</td>\n",
       "      <td>New subscribers to our e-newsletter always rec...</td>\n",
       "      <td>2011-02-08T14:57:18Z</td>\n",
       "    </tr>\n",
       "    <tr>\n",
       "      <th>2601</th>\n",
       "      <td>1Yb5MjU38ng</td>\n",
       "      <td>Update on MSG</td>\n",
       "      <td>New subscribers to our e-newsletter always rec...</td>\n",
       "      <td>2011-02-08T14:48:31Z</td>\n",
       "    </tr>\n",
       "    <tr>\n",
       "      <th>2602</th>\n",
       "      <td>lD2RzNJYGxQ</td>\n",
       "      <td>Update on Juice Plus+®</td>\n",
       "      <td>New subscribers to our e-newsletter always rec...</td>\n",
       "      <td>2011-02-08T05:41:12Z</td>\n",
       "    </tr>\n",
       "    <tr>\n",
       "      <th>2603</th>\n",
       "      <td>yEDHcD1DnCQ</td>\n",
       "      <td>Update on Herbalife®</td>\n",
       "      <td>New subscribers to our e-newsletter always rec...</td>\n",
       "      <td>2011-02-08T05:38:58Z</td>\n",
       "    </tr>\n",
       "  </tbody>\n",
       "</table>\n",
       "<p>2604 rows × 4 columns</p>\n",
       "</div>"
      ],
      "text/plain": [
       "          videoId                                              title  \\\n",
       "0     7niWR9iARhE                   Podcast: How to Die a Good Death   \n",
       "1     E-72zyo4wRg  Three Reasons Why Fruits and Vegetables May Re...   \n",
       "2     Rr0rKZ3M-CA  Dark green leafy vegetables are packed with lu...   \n",
       "3     SXzVlreNIY4  Benefits and Side Effects of the Shingles Vaccine   \n",
       "4     T7WDjPLAzc4  Your challenge this week is to add at least tw...   \n",
       "...           ...                                                ...   \n",
       "2599  P_X3exQtuGA                          The Healthiest Herbal Tea   \n",
       "2600  ce-pvksbiwM                               Update on Yerba Maté   \n",
       "2601  1Yb5MjU38ng                                      Update on MSG   \n",
       "2602  lD2RzNJYGxQ                             Update on Juice Plus+®   \n",
       "2603  yEDHcD1DnCQ                               Update on Herbalife®   \n",
       "\n",
       "                                            description           publishedAt  \n",
       "0     Retaining dignity, privacy, and relief from pa...  2024-04-18T12:59:47Z  \n",
       "1     Osteoporosis and diet: Even just a single extr...  2024-04-17T11:59:47Z  \n",
       "2     New subscribers to our e-newsletter always rec...  2024-04-16T18:00:14Z  \n",
       "3     How does the new shingles vaccine compare to t...  2024-04-15T11:59:49Z  \n",
       "4     New subscribers to our e-newsletter always rec...  2024-04-12T22:00:20Z  \n",
       "...                                                 ...                   ...  \n",
       "2599  New subscribers to our e-newsletter always rec...  2011-02-08T14:59:42Z  \n",
       "2600  New subscribers to our e-newsletter always rec...  2011-02-08T14:57:18Z  \n",
       "2601  New subscribers to our e-newsletter always rec...  2011-02-08T14:48:31Z  \n",
       "2602  New subscribers to our e-newsletter always rec...  2011-02-08T05:41:12Z  \n",
       "2603  New subscribers to our e-newsletter always rec...  2011-02-08T05:38:58Z  \n",
       "\n",
       "[2604 rows x 4 columns]"
      ]
     },
     "execution_count": 12,
     "metadata": {},
     "output_type": "execute_result"
    }
   ],
   "source": [
    "# Get a list of videos in the given channel\n",
    "response = youtube.channels().list(part='contentDetails', id=channel_id).execute()\n",
    "playlist_id = response['items'][0]['contentDetails']['relatedPlaylists']['uploads']\n",
    "\n",
    "# Get a list of videos in the channel's uploads playlist\n",
    "videos = []\n",
    "next_page_token = None\n",
    "while True:\n",
    "    if next_page_token is None:\n",
    "        response = youtube.playlistItems().list(part='snippet', playlistId=playlist_id, maxResults=50).execute()\n",
    "    else:\n",
    "        response = youtube.playlistItems().list(part='snippet', playlistId=playlist_id, maxResults=50, pageToken=next_page_token).execute()\n",
    "\n",
    "    for item in response['items']:\n",
    "        videos.append({\n",
    "            'videoId': item['snippet']['resourceId']['videoId'],\n",
    "            'title': item['snippet']['title'],\n",
    "            'description': item['snippet']['description'],\n",
    "            'publishedAt': item['snippet']['publishedAt']\n",
    "        })\n",
    "\n",
    "    next_page_token = response.get('nextPageToken')\n",
    "    if next_page_token is None:\n",
    "        break\n",
    "\n",
    "# Create a DataFrame from the list of videos\n",
    "df = pd.DataFrame(videos)\n",
    "\n",
    "df"
   ]
  },
  {
   "cell_type": "markdown",
   "metadata": {},
   "source": [
    "# Get the transcripts"
   ]
  },
  {
   "cell_type": "code",
   "execution_count": 17,
   "metadata": {},
   "outputs": [],
   "source": [
    "def get_transcript(video_id):\n",
    "    try:\n",
    "        transcript_list = YouTubeTranscriptApi.get_transcript(video_id, languages=['en', \"English\"])\n",
    "        # Combine the text of all segments into one large string\n",
    "        transcript_text = ' '.join([segment['text'].replace('\\n',' ') for segment in transcript_list])\n",
    "        return transcript_text\n",
    "    except Exception as e:\n",
    "        print(f\"Error for video {video_id}: {e}\")\n",
    "        return None"
   ]
  },
  {
   "cell_type": "code",
   "execution_count": 18,
   "metadata": {},
   "outputs": [
    {
     "name": "stdout",
     "output_type": "stream",
     "text": [
      "Error for video Oc8T8OGKnZ8: \n",
      "Could not retrieve a transcript for the video https://www.youtube.com/watch?v=Oc8T8OGKnZ8! This is most likely caused by:\n",
      "\n",
      "Subtitles are disabled for this video\n",
      "\n",
      "If you are sure that the described cause is not responsible for this error and that a transcript should be retrievable, please create an issue at https://github.com/jdepoix/youtube-transcript-api/issues. Please add which version of youtube_transcript_api you are using and provide the information needed to replicate the error. Also make sure that there are no open issues which already describe your problem!\n",
      "Error for video P1IGY-UYETE: \n",
      "Could not retrieve a transcript for the video https://www.youtube.com/watch?v=P1IGY-UYETE! This is most likely caused by:\n",
      "\n",
      "Subtitles are disabled for this video\n",
      "\n",
      "If you are sure that the described cause is not responsible for this error and that a transcript should be retrievable, please create an issue at https://github.com/jdepoix/youtube-transcript-api/issues. Please add which version of youtube_transcript_api you are using and provide the information needed to replicate the error. Also make sure that there are no open issues which already describe your problem!\n"
     ]
    }
   ],
   "source": [
    "# Get all the transcripts for 2020 - present\n",
    "df['transcript'] = df['videoId'].apply(get_transcript)\n",
    "# Save the transcripts\n",
    "df.to_csv('../data/transcripts_all_2024-04-18')"
   ]
  },
  {
   "cell_type": "code",
   "execution_count": null,
   "metadata": {},
   "outputs": [],
   "source": []
  }
 ],
 "metadata": {
  "kernelspec": {
   "display_name": "nutritionfacts_chat-G3oMJuqJ",
   "language": "python",
   "name": "python3"
  },
  "language_info": {
   "codemirror_mode": {
    "name": "ipython",
    "version": 3
   },
   "file_extension": ".py",
   "mimetype": "text/x-python",
   "name": "python",
   "nbconvert_exporter": "python",
   "pygments_lexer": "ipython3",
   "version": "3.12.1"
  }
 },
 "nbformat": 4,
 "nbformat_minor": 2
}

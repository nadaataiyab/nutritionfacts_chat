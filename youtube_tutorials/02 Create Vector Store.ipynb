{
 "cells": [
  {
   "cell_type": "markdown",
   "metadata": {},
   "source": [
    "# About\n",
    "- Load transcript data\n",
    "- Create and persist a chromadb"
   ]
  },
  {
   "cell_type": "markdown",
   "metadata": {},
   "source": [
    "# Imports and Settings"
   ]
  },
  {
   "cell_type": "code",
   "execution_count": 21,
   "metadata": {},
   "outputs": [],
   "source": [
    "import pandas as pd\n",
    "import os\n",
    "from dotenv import load_dotenv\n",
    "\n",
    "from langchain_openai.embeddings import OpenAIEmbeddings\n",
    "from langchain.vectorstores import Chroma\n",
    "from langchain.document_loaders import DataFrameLoader\n",
    "from langchain.text_splitter import RecursiveCharacterTextSplitter\n",
    "\n",
    "\n",
    "load_dotenv()\n",
    "OPENAI_APIKEY = os.environ['OPENAI_APIKEY']"
   ]
  },
  {
   "cell_type": "markdown",
   "metadata": {},
   "source": [
    "# Create Vector Store"
   ]
  },
  {
   "cell_type": "code",
   "execution_count": 22,
   "metadata": {},
   "outputs": [],
   "source": [
    "\n",
    "# Instantiate the embeddings model\n",
    "# OpenAI embeddings models: https://platform.openai.com/docs/models/embeddings\n",
    "# OpenAI pricing: https://openai.com/pricing\n",
    "# Documentation on LangChain: https://python.langchain.com/docs/modules/data_connection/text_embedding/ ; https://python.langchain.com/docs/integrations/text_embedding/openai/\n",
    "embeddings_model = OpenAIEmbeddings(api_key=OPENAI_APIKEY, model='text-embedding-3-large', max_retries=100, chunk_size=16, show_progress_bar=False)\n"
   ]
  },
  {
   "cell_type": "code",
   "execution_count": 23,
   "metadata": {},
   "outputs": [
    {
     "data": {
      "text/html": [
       "<div>\n",
       "<style scoped>\n",
       "    .dataframe tbody tr th:only-of-type {\n",
       "        vertical-align: middle;\n",
       "    }\n",
       "\n",
       "    .dataframe tbody tr th {\n",
       "        vertical-align: top;\n",
       "    }\n",
       "\n",
       "    .dataframe thead th {\n",
       "        text-align: right;\n",
       "    }\n",
       "</style>\n",
       "<table border=\"1\" class=\"dataframe\">\n",
       "  <thead>\n",
       "    <tr style=\"text-align: right;\">\n",
       "      <th></th>\n",
       "      <th>Unnamed: 0.1</th>\n",
       "      <th>Unnamed: 0</th>\n",
       "      <th>videoId</th>\n",
       "      <th>title</th>\n",
       "      <th>description</th>\n",
       "      <th>publishedAt</th>\n",
       "      <th>transcript</th>\n",
       "      <th>num_tokens</th>\n",
       "    </tr>\n",
       "  </thead>\n",
       "  <tbody>\n",
       "    <tr>\n",
       "      <th>0</th>\n",
       "      <td>0</td>\n",
       "      <td>0</td>\n",
       "      <td>7niWR9iARhE</td>\n",
       "      <td>Podcast: How to Die a Good Death</td>\n",
       "      <td>Retaining dignity, privacy, and relief from pa...</td>\n",
       "      <td>2024-04-18T12:59:47Z</td>\n",
       "      <td>I hear from lots of people every day who are c...</td>\n",
       "      <td>2412</td>\n",
       "    </tr>\n",
       "    <tr>\n",
       "      <th>1</th>\n",
       "      <td>1</td>\n",
       "      <td>1</td>\n",
       "      <td>E-72zyo4wRg</td>\n",
       "      <td>Three Reasons Why Fruits and Vegetables May Re...</td>\n",
       "      <td>Osteoporosis and diet: Even just a single extr...</td>\n",
       "      <td>2024-04-17T11:59:47Z</td>\n",
       "      <td>\"Three Reasons Fruits and Vegetables May Reduc...</td>\n",
       "      <td>590</td>\n",
       "    </tr>\n",
       "    <tr>\n",
       "      <th>2</th>\n",
       "      <td>2</td>\n",
       "      <td>2</td>\n",
       "      <td>Rr0rKZ3M-CA</td>\n",
       "      <td>Dark green leafy vegetables are packed with lu...</td>\n",
       "      <td>New subscribers to our e-newsletter always rec...</td>\n",
       "      <td>2024-04-16T18:00:14Z</td>\n",
       "      <td>here's the rate of cognitive decline in elderl...</td>\n",
       "      <td>141</td>\n",
       "    </tr>\n",
       "  </tbody>\n",
       "</table>\n",
       "</div>"
      ],
      "text/plain": [
       "   Unnamed: 0.1  Unnamed: 0      videoId  \\\n",
       "0             0           0  7niWR9iARhE   \n",
       "1             1           1  E-72zyo4wRg   \n",
       "2             2           2  Rr0rKZ3M-CA   \n",
       "\n",
       "                                               title  \\\n",
       "0                   Podcast: How to Die a Good Death   \n",
       "1  Three Reasons Why Fruits and Vegetables May Re...   \n",
       "2  Dark green leafy vegetables are packed with lu...   \n",
       "\n",
       "                                         description           publishedAt  \\\n",
       "0  Retaining dignity, privacy, and relief from pa...  2024-04-18T12:59:47Z   \n",
       "1  Osteoporosis and diet: Even just a single extr...  2024-04-17T11:59:47Z   \n",
       "2  New subscribers to our e-newsletter always rec...  2024-04-16T18:00:14Z   \n",
       "\n",
       "                                          transcript  num_tokens  \n",
       "0  I hear from lots of people every day who are c...        2412  \n",
       "1  \"Three Reasons Fruits and Vegetables May Reduc...         590  \n",
       "2  here's the rate of cognitive decline in elderl...         141  "
      ]
     },
     "execution_count": 23,
     "metadata": {},
     "output_type": "execute_result"
    }
   ],
   "source": [
    "# Load the data\n",
    "df_transcripts = pd.read_csv('../data/transcripts_all_2024-04-18_cleaned.csv')\n",
    "df_transcripts.head(3)"
   ]
  },
  {
   "cell_type": "code",
   "execution_count": 24,
   "metadata": {},
   "outputs": [
    {
     "data": {
      "text/plain": [
       "2577"
      ]
     },
     "execution_count": 24,
     "metadata": {},
     "output_type": "execute_result"
    }
   ],
   "source": [
    "df_transcripts.shape[0]"
   ]
  },
  {
   "cell_type": "code",
   "execution_count": 26,
   "metadata": {},
   "outputs": [
    {
     "data": {
      "text/html": [
       "<div>\n",
       "<style scoped>\n",
       "    .dataframe tbody tr th:only-of-type {\n",
       "        vertical-align: middle;\n",
       "    }\n",
       "\n",
       "    .dataframe tbody tr th {\n",
       "        vertical-align: top;\n",
       "    }\n",
       "\n",
       "    .dataframe thead th {\n",
       "        text-align: right;\n",
       "    }\n",
       "</style>\n",
       "<table border=\"1\" class=\"dataframe\">\n",
       "  <thead>\n",
       "    <tr style=\"text-align: right;\">\n",
       "      <th></th>\n",
       "      <th>videoId</th>\n",
       "      <th>title</th>\n",
       "      <th>description</th>\n",
       "      <th>publishedAt</th>\n",
       "      <th>transcript</th>\n",
       "    </tr>\n",
       "  </thead>\n",
       "  <tbody>\n",
       "    <tr>\n",
       "      <th>0</th>\n",
       "      <td>7niWR9iARhE</td>\n",
       "      <td>Podcast: How to Die a Good Death</td>\n",
       "      <td>Retaining dignity, privacy, and relief from pa...</td>\n",
       "      <td>2024-04-18T12:59:47Z</td>\n",
       "      <td>I hear from lots of people every day who are c...</td>\n",
       "    </tr>\n",
       "    <tr>\n",
       "      <th>1</th>\n",
       "      <td>E-72zyo4wRg</td>\n",
       "      <td>Three Reasons Why Fruits and Vegetables May Re...</td>\n",
       "      <td>Osteoporosis and diet: Even just a single extr...</td>\n",
       "      <td>2024-04-17T11:59:47Z</td>\n",
       "      <td>\"Three Reasons Fruits and Vegetables May Reduc...</td>\n",
       "    </tr>\n",
       "    <tr>\n",
       "      <th>2</th>\n",
       "      <td>Rr0rKZ3M-CA</td>\n",
       "      <td>Dark green leafy vegetables are packed with lu...</td>\n",
       "      <td>New subscribers to our e-newsletter always rec...</td>\n",
       "      <td>2024-04-16T18:00:14Z</td>\n",
       "      <td>here's the rate of cognitive decline in elderl...</td>\n",
       "    </tr>\n",
       "  </tbody>\n",
       "</table>\n",
       "</div>"
      ],
      "text/plain": [
       "       videoId                                              title  \\\n",
       "0  7niWR9iARhE                   Podcast: How to Die a Good Death   \n",
       "1  E-72zyo4wRg  Three Reasons Why Fruits and Vegetables May Re...   \n",
       "2  Rr0rKZ3M-CA  Dark green leafy vegetables are packed with lu...   \n",
       "\n",
       "                                         description           publishedAt  \\\n",
       "0  Retaining dignity, privacy, and relief from pa...  2024-04-18T12:59:47Z   \n",
       "1  Osteoporosis and diet: Even just a single extr...  2024-04-17T11:59:47Z   \n",
       "2  New subscribers to our e-newsletter always rec...  2024-04-16T18:00:14Z   \n",
       "\n",
       "                                          transcript  \n",
       "0  I hear from lots of people every day who are c...  \n",
       "1  \"Three Reasons Fruits and Vegetables May Reduc...  \n",
       "2  here's the rate of cognitive decline in elderl...  "
      ]
     },
     "execution_count": 26,
     "metadata": {},
     "output_type": "execute_result"
    }
   ],
   "source": [
    "# Let's keep the columns we want to include in the metadata\n",
    "cols_keep = ['videoId', 'title', 'description', 'publishedAt', 'transcript']\n",
    "df_transcripts = df_transcripts[cols_keep]\n",
    "df_transcripts.head(3)"
   ]
  },
  {
   "cell_type": "code",
   "execution_count": 27,
   "metadata": {},
   "outputs": [],
   "source": [
    "# Langchain documentation: \n",
    "# Intanstiate and run the dataframe loader to load the documents. You must include the column name that has the text\n",
    "#https://python.langchain.com/docs/modules/data_connection/document_loaders/\n",
    "loader = DataFrameLoader(df_transcripts, 'transcript')\n",
    "docs = loader.load()"
   ]
  },
  {
   "cell_type": "code",
   "execution_count": 28,
   "metadata": {},
   "outputs": [
    {
     "data": {
      "text/plain": [
       "'Podcast: How to Die a Good Death'"
      ]
     },
     "execution_count": 28,
     "metadata": {},
     "output_type": "execute_result"
    }
   ],
   "source": [
    "docs[0].metadata['title']"
   ]
  },
  {
   "cell_type": "code",
   "execution_count": 29,
   "metadata": {},
   "outputs": [
    {
     "data": {
      "text/plain": [
       "dict_keys(['videoId', 'title', 'description', 'publishedAt'])"
      ]
     },
     "execution_count": 29,
     "metadata": {},
     "output_type": "execute_result"
    }
   ],
   "source": [
    "docs[0].metadata.keys()"
   ]
  },
  {
   "cell_type": "code",
   "execution_count": 30,
   "metadata": {},
   "outputs": [],
   "source": [
    "# Split the transcripts into smaller chunks\n",
    "# https://python.langchain.com/docs/modules/data_connection/document_transformers/\n",
    "text_splitter = RecursiveCharacterTextSplitter(chunk_size=1000, chunk_overlap=200)\n",
    "splits = text_splitter.split_documents(docs)\n"
   ]
  },
  {
   "cell_type": "code",
   "execution_count": 31,
   "metadata": {},
   "outputs": [
    {
     "data": {
      "text/plain": [
       "2577"
      ]
     },
     "execution_count": 31,
     "metadata": {},
     "output_type": "execute_result"
    }
   ],
   "source": [
    "len(docs)"
   ]
  },
  {
   "cell_type": "code",
   "execution_count": 32,
   "metadata": {},
   "outputs": [
    {
     "data": {
      "text/plain": [
       "17857"
      ]
     },
     "execution_count": 32,
     "metadata": {},
     "output_type": "execute_result"
    }
   ],
   "source": [
    "len(splits)"
   ]
  },
  {
   "cell_type": "code",
   "execution_count": 33,
   "metadata": {},
   "outputs": [
    {
     "data": {
      "text/plain": [
       "Document(page_content='I hear from lots of people every day who are concerned about how their diet is affecting their health. They need answers based on facts. In other words, in the peer-reviewed medical literature, and that is what I’m here for. Welcome to the Nutrition Facts Podcast. I’m your host, Dr. Michael Greger. Today we explore the possibilities of how we might have control over our own death— retaining dignity, privacy, and pain relief. And we start with a close look at hospice. We have all sorts of detailed stats about dying, but little about the experience of death. For the minority who die under the care of palliative care teams one’s death could probably be described as good, but there’s a suspicion that for the majority who die in hospitals or nursing homes the experience is bad. And that’s where most people die. In spite of widespread preference to die at home, in almost all populations, most deaths occur in institutions. And this doesn’t just have consequences for the patient, but for the', metadata={'videoId': '7niWR9iARhE', 'title': 'Podcast: How to Die a Good Death', 'description': \"Retaining dignity, privacy, and relief from pain at the end of life. This episode features audio from:\\nhttps://nutritionfacts.org/video/how-to-die-a-good-death/\\nhttps://nutritionfacts.org/video/vsed-the-benefits-of-fasting-for-ending-life/\\nVisit the video pages for all sources and doctor's notes related to this podcast.\\n\\nhttps://NutritionFacts.org\\n• Subscribe: https://nutritionfacts.org/subscribe\\n• Donate: https://nutritionfacts.org/donate\\n• Podcast : https://nutritionfacts.org/audio\\n• Books: https://nutritionfacts.org/books\\n• Shop: https://drgreger.org\\n• Facebook: https://www.facebook.com/NutritionFacts.org\\n• Twitter: https://twitter.com/nutrition_facts\\n• Instagram: https://www.instagram.com/nutrition_facts_org\", 'publishedAt': '2024-04-18T12:59:47Z'})"
      ]
     },
     "execution_count": 33,
     "metadata": {},
     "output_type": "execute_result"
    }
   ],
   "source": [
    "splits[0]"
   ]
  },
  {
   "cell_type": "code",
   "execution_count": 34,
   "metadata": {},
   "outputs": [],
   "source": [
    "# Create and persist a Chroma vector store\n",
    "# https://python.langchain.com/docs/modules/data_connection/vectorstores/\n",
    "vectorstore = Chroma.from_documents(documents=splits, embedding=embeddings_model, persist_directory=\"../chroma_db\")\n"
   ]
  },
  {
   "cell_type": "markdown",
   "metadata": {},
   "source": [
    "# Test it out with some queries!"
   ]
  },
  {
   "cell_type": "code",
   "execution_count": 15,
   "metadata": {},
   "outputs": [],
   "source": [
    "# Read it back from disk just to make sure it is working properly\n",
    "vectorstore2 = Chroma(persist_directory=\"../chroma_db\", embedding_function=embeddings_model)\n"
   ]
  },
  {
   "cell_type": "code",
   "execution_count": 16,
   "metadata": {},
   "outputs": [
    {
     "data": {
      "text/plain": [
       "[('Eggs and Diabetes', 0.6323911411905252),\n",
       " ('Eggs and Diabetes', 0.6323001039977417),\n",
       " ('Eggs and Diabetes', 0.5619727767544027),\n",
       " ('Eggs and Diabetes', 0.5618286345324954),\n",
       " ('Bacon, Eggs, and Gestational Diabetes During Pregnancy',\n",
       "  0.4246965714975093),\n",
       " ('Bacon, Eggs, and Gestational Diabetes During Pregnancy',\n",
       "  0.4243575843949362),\n",
       " ('Debunking Egg Industry Myths', 0.41192523346173815),\n",
       " ('Debunking Egg Industry Myths', 0.41148863425801385),\n",
       " ('Bacon, Eggs, and Gestational Diabetes During Pregnancy',\n",
       "  0.4008350489193696),\n",
       " ('Bacon, Eggs, and Gestational Diabetes During Pregnancy',\n",
       "  0.40055894491477473)]"
      ]
     },
     "execution_count": 16,
     "metadata": {},
     "output_type": "execute_result"
    }
   ],
   "source": [
    "# Create a test query\n",
    "query = \"eggs and diabetes\"\n",
    "k = 10\n",
    "results = vectorstore2.similarity_search_with_relevance_scores(query, k=k)\n",
    "# Print out just the video titles\n",
    "[(r[0].metadata['title'], r[1]) for r in results]"
   ]
  },
  {
   "cell_type": "code",
   "execution_count": 17,
   "metadata": {},
   "outputs": [],
   "source": [
    "# Create the \"retreiver\", including how many results you want it to produce\n",
    "# Will be using this in the rag \"chain\" we are going to create so let's just make sure it is working as expected\n",
    "# https://python.langchain.com/docs/modules/data_connection/retrievers/vectorstore/\n",
    "retriever = vectorstore2.as_retriever(search_kwargs={\"k\":k})"
   ]
  },
  {
   "cell_type": "code",
   "execution_count": 18,
   "metadata": {},
   "outputs": [
    {
     "data": {
      "text/plain": [
       "['Eggs and Diabetes',\n",
       " 'Eggs and Diabetes',\n",
       " 'Eggs and Diabetes',\n",
       " 'Eggs and Diabetes',\n",
       " 'Bacon, Eggs, and Gestational Diabetes During Pregnancy',\n",
       " 'Bacon, Eggs, and Gestational Diabetes During Pregnancy',\n",
       " 'Debunking Egg Industry Myths',\n",
       " 'Debunking Egg Industry Myths',\n",
       " 'Bacon, Eggs, and Gestational Diabetes During Pregnancy',\n",
       " 'Bacon, Eggs, and Gestational Diabetes During Pregnancy']"
      ]
     },
     "execution_count": 18,
     "metadata": {},
     "output_type": "execute_result"
    }
   ],
   "source": [
    "# Run a test\n",
    "results = retriever.invoke(query)\n",
    "[r.metadata['title'] for r in results]\n"
   ]
  },
  {
   "cell_type": "code",
   "execution_count": 19,
   "metadata": {},
   "outputs": [
    {
     "data": {
      "text/plain": [
       "10"
      ]
     },
     "execution_count": 19,
     "metadata": {},
     "output_type": "execute_result"
    }
   ],
   "source": [
    "len(results)"
   ]
  },
  {
   "cell_type": "code",
   "execution_count": 20,
   "metadata": {},
   "outputs": [
    {
     "data": {
      "text/plain": [
       "[Document(page_content='\"Eggs and Diabetes\" Type 2 diabetes is becoming  a world pandemic. We know the consumption  of eggs is related to the development of some  other chronic diseases... what about diabetes? Researchers found a stepwise  increase in risk the more and more  eggs people ate. Eating just a single  egg a week appeared to increase the odds  of diabetes by 76%. Two eggs a week appeared  to double the odds, and just a single egg  a day tripled the odds. Three times greater  risk of type 2 diabetes, one of the leading causes  of death and amputation, blindness, and kidney failure. This is not the  first time a link between eggs and diabetes  has been reported. In 2009, Harvard researchers found  that a single egg a day or more was associated with  an increased risk of type 2 diabetes  in men and women, and that finding has since  also been confirmed in other populations:  Asia in 2011 and Europe in 2012. And the \"high\" consumption of eggs associated with diabetes risk  was less than one a day,', metadata={'Unnamed: 0': 2018, 'Unnamed: 0.1': 2018, 'description': 'Even just a single egg a week may increase the risk of diabetes, the leading cause of lower-limb amputations, kidney failure, and new cases of blindness.\\n\\nNew subscribers to our e-newsletter always receive a free gift. Get yours here: https://nutritionfacts.org/subscribe/\\n\\nMore Freedom of Information Act insights into the egg industry can be found in:\\n\\n• Eggs and Cholesterol: Patently False and Misleading Claims (http://nutritionfacts.org/video/eggs-and-cholesterol-patently-false-and-misleading-claims/)\\n• Eggs and Choline: Something Fishy (http://nutritionfacts.org/video/eggs-and-choline-something-fishy/)\\n• Eggs vs. Cigarettes in Atherosclerosis (http://nutritionfacts.org/video/eggs-vs-cigarettes-in-atherosclerosis/)\\n• More Than an Apple a Day: Combating Common Diseases (http://nutritionfacts.org/video/more-than-an-apple-a-day-preventing-our-most-common-diseases/)\\n\\nFlax seeds may help control blood sugars (Flaxseeds for Diabetes, http://nutritionfacts.org/2013/10/08/flaxseeds-for-diabetes/) as well as Indian gooseberries (Amla Versus Diabetes, http://nutritionfacts.org/video/amla-versus-diabetes/), but our best bet may be a diet composed entirely of plants (How to Prevent Diabetes, http://nutritionfacts.org/video/how-to-prevent-diabetes/ and How to Treat Diabetes, http://nutritionfacts.org/video/how-to-treat-diabetes/).\\n\\nhttps://NutritionFacts.org\\n• Subscribe: https://nutritionfacts.org/subscribe\\n• Donate: https://nutritionfacts.org/donate\\n• Podcast : https://nutritionfacts.org/audio\\n• Facebook: www.facebook.com/NutritionFacts.org\\n• Twitter: www.twitter.com/nutrition_facts\\n• Instagram: www.instagram.com/nutrition_facts_org\\n• Books: https://nutritionfacts.org/books\\n• Shop: https://drgreger.org', 'num_tokens': 376, 'publishedAt': '2013-12-09T12:34:54Z', 'title': 'Eggs and Diabetes', 'videoId': 'y96iiU31ySs'}),\n",
       " Document(page_content='\"Eggs and Diabetes\" Type 2 diabetes is becoming  a world pandemic. We know the consumption  of eggs is related to the development of some  other chronic diseases... what about diabetes? Researchers found a stepwise  increase in risk the more and more  eggs people ate. Eating just a single  egg a week appeared to increase the odds  of diabetes by 76%. Two eggs a week appeared  to double the odds, and just a single egg  a day tripled the odds. Three times greater  risk of type 2 diabetes, one of the leading causes  of death and amputation, blindness, and kidney failure. This is not the  first time a link between eggs and diabetes  has been reported. In 2009, Harvard researchers found  that a single egg a day or more was associated with  an increased risk of type 2 diabetes  in men and women, and that finding has since  also been confirmed in other populations:  Asia in 2011 and Europe in 2012. And the \"high\" consumption of eggs associated with diabetes risk  was less than one a day,', metadata={'date': '2013-12-09', 'description': 'Even just a single egg a week may increase the risk of diabetes, the leading cause of lower-limb amputations, kidney failure, and new cases of blindness.\\n\\nNew subscribers to our e-newsletter always receive a free gift. Get yours here: https://nutritionfacts.org/subscribe/\\n\\nMore Freedom of Information Act insights into the egg industry can be found in:\\n\\n• Eggs and Cholesterol: Patently False and Misleading Claims (http://nutritionfacts.org/video/eggs-and-cholesterol-patently-false-and-misleading-claims/)\\n• Eggs and Choline: Something Fishy (http://nutritionfacts.org/video/eggs-and-choline-something-fishy/)\\n• Eggs vs. Cigarettes in Atherosclerosis (http://nutritionfacts.org/video/eggs-vs-cigarettes-in-atherosclerosis/)\\n• More Than an Apple a Day: Combating Common Diseases (http://nutritionfacts.org/video/more-than-an-apple-a-day-preventing-our-most-common-diseases/)\\n\\nFlax seeds may help control blood sugars (Flaxseeds for Diabetes, http://nutritionfacts.org/2013/10/08/flaxseeds-for-diabetes/) as well as Indian gooseberries (Amla Versus Diabetes, http://nutritionfacts.org/video/amla-versus-diabetes/), but our best bet may be a diet composed entirely of plants (How to Prevent Diabetes, http://nutritionfacts.org/video/how-to-prevent-diabetes/ and How to Treat Diabetes, http://nutritionfacts.org/video/how-to-treat-diabetes/).\\n\\nhttps://NutritionFacts.org\\n• Subscribe: https://nutritionfacts.org/subscribe\\n• Donate: https://nutritionfacts.org/donate\\n• Podcast : https://nutritionfacts.org/audio\\n• Facebook: www.facebook.com/NutritionFacts.org\\n• Twitter: www.twitter.com/nutrition_facts\\n• Instagram: www.instagram.com/nutrition_facts_org\\n• Books: https://nutritionfacts.org/books\\n• Shop: https://drgreger.org', 'publishedAt': '2013-12-09T12:34:54Z', 'title': 'Eggs and Diabetes', 'videoId': 'y96iiU31ySs', 'year': 2013}),\n",
       " Document(page_content='and that finding has since  also been confirmed in other populations:  Asia in 2011 and Europe in 2012. And the \"high\" consumption of eggs associated with diabetes risk  was less than one a day, though it appears you  have to start early— once you get into your 70s  avoiding eggs may not help. Once we then have diabetes,  eggs may hasten our death. Eating one egg  a day or more appears to shorten  anyone\\'s lifespan, but may double the  all-cause mortality for those with diabetes. Not good news for  the egg industry. From a transcript  of a closed meeting I got through the Freedom  of Information Act: \"Given the rate at which obesity  and incidence of type II diabetes is growing in the US, any association between dietary  cholesterol and type II diabetes could be a \\'showstopper\\'  that could overshadow the positive attributes (of) eggs.”', metadata={'date': '2013-12-09', 'description': 'Even just a single egg a week may increase the risk of diabetes, the leading cause of lower-limb amputations, kidney failure, and new cases of blindness.\\n\\nNew subscribers to our e-newsletter always receive a free gift. Get yours here: https://nutritionfacts.org/subscribe/\\n\\nMore Freedom of Information Act insights into the egg industry can be found in:\\n\\n• Eggs and Cholesterol: Patently False and Misleading Claims (http://nutritionfacts.org/video/eggs-and-cholesterol-patently-false-and-misleading-claims/)\\n• Eggs and Choline: Something Fishy (http://nutritionfacts.org/video/eggs-and-choline-something-fishy/)\\n• Eggs vs. Cigarettes in Atherosclerosis (http://nutritionfacts.org/video/eggs-vs-cigarettes-in-atherosclerosis/)\\n• More Than an Apple a Day: Combating Common Diseases (http://nutritionfacts.org/video/more-than-an-apple-a-day-preventing-our-most-common-diseases/)\\n\\nFlax seeds may help control blood sugars (Flaxseeds for Diabetes, http://nutritionfacts.org/2013/10/08/flaxseeds-for-diabetes/) as well as Indian gooseberries (Amla Versus Diabetes, http://nutritionfacts.org/video/amla-versus-diabetes/), but our best bet may be a diet composed entirely of plants (How to Prevent Diabetes, http://nutritionfacts.org/video/how-to-prevent-diabetes/ and How to Treat Diabetes, http://nutritionfacts.org/video/how-to-treat-diabetes/).\\n\\nhttps://NutritionFacts.org\\n• Subscribe: https://nutritionfacts.org/subscribe\\n• Donate: https://nutritionfacts.org/donate\\n• Podcast : https://nutritionfacts.org/audio\\n• Facebook: www.facebook.com/NutritionFacts.org\\n• Twitter: www.twitter.com/nutrition_facts\\n• Instagram: www.instagram.com/nutrition_facts_org\\n• Books: https://nutritionfacts.org/books\\n• Shop: https://drgreger.org', 'publishedAt': '2013-12-09T12:34:54Z', 'title': 'Eggs and Diabetes', 'videoId': 'y96iiU31ySs', 'year': 2013}),\n",
       " Document(page_content='and that finding has since  also been confirmed in other populations:  Asia in 2011 and Europe in 2012. And the \"high\" consumption of eggs associated with diabetes risk  was less than one a day, though it appears you  have to start early— once you get into your 70s  avoiding eggs may not help. Once we then have diabetes,  eggs may hasten our death. Eating one egg  a day or more appears to shorten  anyone\\'s lifespan, but may double the  all-cause mortality for those with diabetes. Not good news for  the egg industry. From a transcript  of a closed meeting I got through the Freedom  of Information Act: \"Given the rate at which obesity  and incidence of type II diabetes is growing in the US, any association between dietary  cholesterol and type II diabetes could be a \\'showstopper\\'  that could overshadow the positive attributes (of) eggs.”', metadata={'Unnamed: 0': 2018, 'Unnamed: 0.1': 2018, 'description': 'Even just a single egg a week may increase the risk of diabetes, the leading cause of lower-limb amputations, kidney failure, and new cases of blindness.\\n\\nNew subscribers to our e-newsletter always receive a free gift. Get yours here: https://nutritionfacts.org/subscribe/\\n\\nMore Freedom of Information Act insights into the egg industry can be found in:\\n\\n• Eggs and Cholesterol: Patently False and Misleading Claims (http://nutritionfacts.org/video/eggs-and-cholesterol-patently-false-and-misleading-claims/)\\n• Eggs and Choline: Something Fishy (http://nutritionfacts.org/video/eggs-and-choline-something-fishy/)\\n• Eggs vs. Cigarettes in Atherosclerosis (http://nutritionfacts.org/video/eggs-vs-cigarettes-in-atherosclerosis/)\\n• More Than an Apple a Day: Combating Common Diseases (http://nutritionfacts.org/video/more-than-an-apple-a-day-preventing-our-most-common-diseases/)\\n\\nFlax seeds may help control blood sugars (Flaxseeds for Diabetes, http://nutritionfacts.org/2013/10/08/flaxseeds-for-diabetes/) as well as Indian gooseberries (Amla Versus Diabetes, http://nutritionfacts.org/video/amla-versus-diabetes/), but our best bet may be a diet composed entirely of plants (How to Prevent Diabetes, http://nutritionfacts.org/video/how-to-prevent-diabetes/ and How to Treat Diabetes, http://nutritionfacts.org/video/how-to-treat-diabetes/).\\n\\nhttps://NutritionFacts.org\\n• Subscribe: https://nutritionfacts.org/subscribe\\n• Donate: https://nutritionfacts.org/donate\\n• Podcast : https://nutritionfacts.org/audio\\n• Facebook: www.facebook.com/NutritionFacts.org\\n• Twitter: www.twitter.com/nutrition_facts\\n• Instagram: www.instagram.com/nutrition_facts_org\\n• Books: https://nutritionfacts.org/books\\n• Shop: https://drgreger.org', 'num_tokens': 376, 'publishedAt': '2013-12-09T12:34:54Z', 'title': 'Eggs and Diabetes', 'videoId': 'y96iiU31ySs'}),\n",
       " Document(page_content=\"contre le diabète. Ceci explique pourquoi les femmes enceintes  suivant une alimentation végétarienne semble être à un risque significativement  plus bas de développer du diabète.  Mais cette étude à été faite en Inde,  où la majorité des végétariens ne  mangent pas d’œufs non plus.  Une recherche plus récente  à Harvard à démontré qu'un apport plus élevé en gras  animal et en cholestérol, avant  la grossesse, était associé à  une augmentation du risque  de diabète de grossesse.  Remplacer 5% de gras animal  par 5% de glucides était associé à une augmentation de 13%  du risque de diabète de grossesse. Mais s'il ne s'agit pas simplement du gras  animal, mais également du cholestérol,  on s'attendrait à ce que les œufs augmentent le   risque de diabète durant la grossesse également.  Mais ça n'avait jamais été porté à  l'étude spécifiquement...jusqu'à maintenant. Le risque de diabète de grossesse en  relation à l'apport en œufs de la mère.  Apparemment, plus les femmes mangent des\", metadata={'date': '2014-01-06', 'description': \"Eating meat or eggs before pregnancy may increase the risk of gestational diabetes.\\n\\nNew subscribers to our e-newsletter always receive a free gift. Get yours here: https://nutritionfacts.org/subscribe/\\n\\nI covered eggs and type 2 diabetes in my video Eggs and Diabetes (http://nutritionfacts.org/video/eggs-and-diabetes).\\n\\nMore on advanced glycation end products in Glycotoxins (http://nutritionfacts.org/video/glycotoxins/) and Avoiding a Sugary Grave (http://nutritionfacts.org/video/avoiding-a-sugary-grave/).\\n\\nThe heme iron in animal products is one of the toxic components the meat industry is trying to develop strategies to mediate. See Meat Additives to Diminish Toxicity (http://nutritionfacts.org/video/meat-additives-to-diminish-toxicity/). More on heme versus nonheme iron in Risk Associated With Iron Supplements (http://nutritionfacts.org/video/risk-associated-with-iron-supplements/).\\n\\nWhat else has the Harvard Nurses Health Study shown us? See:\\n\\n• Harvard's Meat and Mortality Studies (http://nutritionfacts.org/video/harvards-meat-and-mortality-studies/)\\n• Breast Cancer and Alcohol: How Much is Safe? (http://nutritionfacts.org/video/breast-cancer-and-alcohol-what-much-is-safe/)\\n• What Women Should Eat to Live Longer (http://nutritionfacts.org/video/what-women-should-eat-to-live-longer/)\\n\\nFor other cautionary pregnancy tales, see: \\n\\n• Chamomile Tea May Not Be Safe During Pregnancy (http://nutritionfacts.org/video/chamomile-tea-may-not-be-safe-during-pregnancy) \\n• What About the Caffeine? (http://nutritionfacts.org/video/what-about-the-caffeine/)\\n• Is Licorice Good For You? (http://nutritionfacts.org/video/is-licorice-good-for-you/)\\n• Iron During Pregnancy (http://nutritionfacts.org/video/iron-during-pregnancy/)\\n• Maternal Mercury Levels (http://nutritionfacts.org/video/maternal-mercury-levels/)\\n• Pregnant Vegans at Risk for Iodine Deficiency (http://nutritionfacts.org/video/pregnant-vegans-at-risk-for-iodine-deficiency-2/)\\n• American Vegans Placing Babies at Risk (http://nutritionfacts.org/video/american-vegans-placing-babies-at-risk/)\\n• Chicken Consumption and the Feminization of Male Genitalia (http://nutritionfacts.org/video/chicken-consumption-and-the-feminization-of-male-genitalia/)\\n\\nhttps://NutritionFacts.org\\n• Subscribe: https://nutritionfacts.org/subscribe\\n• Donate: https://nutritionfacts.org/donate\\n• Podcast : https://nutritionfacts.org/audio\\n• Facebook: www.facebook.com/NutritionFacts.org\\n• Twitter: www.twitter.com/nutrition_facts\\n• Instagram: www.instagram.com/nutrition_facts_org\\n• Books: https://nutritionfacts.org/books\\n• Shop: https://drgreger.org\", 'publishedAt': '2014-01-06T12:05:49Z', 'title': 'Bacon, Eggs, and Gestational Diabetes During Pregnancy', 'videoId': 'ysCuZT2t7XM', 'year': 2014}),\n",
       " Document(page_content=\"contre le diabète. Ceci explique pourquoi les femmes enceintes  suivant une alimentation végétarienne semble être à un risque significativement  plus bas de développer du diabète.  Mais cette étude à été faite en Inde,  où la majorité des végétariens ne  mangent pas d’œufs non plus.  Une recherche plus récente  à Harvard à démontré qu'un apport plus élevé en gras  animal et en cholestérol, avant  la grossesse, était associé à  une augmentation du risque  de diabète de grossesse.  Remplacer 5% de gras animal  par 5% de glucides était associé à une augmentation de 13%  du risque de diabète de grossesse. Mais s'il ne s'agit pas simplement du gras  animal, mais également du cholestérol,  on s'attendrait à ce que les œufs augmentent le   risque de diabète durant la grossesse également.  Mais ça n'avait jamais été porté à  l'étude spécifiquement...jusqu'à maintenant. Le risque de diabète de grossesse en  relation à l'apport en œufs de la mère.  Apparemment, plus les femmes mangent des\", metadata={'Unnamed: 0': 2006, 'Unnamed: 0.1': 2006, 'description': \"Eating meat or eggs before pregnancy may increase the risk of gestational diabetes.\\n\\nNew subscribers to our e-newsletter always receive a free gift. Get yours here: https://nutritionfacts.org/subscribe/\\n\\nI covered eggs and type 2 diabetes in my video Eggs and Diabetes (http://nutritionfacts.org/video/eggs-and-diabetes).\\n\\nMore on advanced glycation end products in Glycotoxins (http://nutritionfacts.org/video/glycotoxins/) and Avoiding a Sugary Grave (http://nutritionfacts.org/video/avoiding-a-sugary-grave/).\\n\\nThe heme iron in animal products is one of the toxic components the meat industry is trying to develop strategies to mediate. See Meat Additives to Diminish Toxicity (http://nutritionfacts.org/video/meat-additives-to-diminish-toxicity/). More on heme versus nonheme iron in Risk Associated With Iron Supplements (http://nutritionfacts.org/video/risk-associated-with-iron-supplements/).\\n\\nWhat else has the Harvard Nurses Health Study shown us? See:\\n\\n• Harvard's Meat and Mortality Studies (http://nutritionfacts.org/video/harvards-meat-and-mortality-studies/)\\n• Breast Cancer and Alcohol: How Much is Safe? (http://nutritionfacts.org/video/breast-cancer-and-alcohol-what-much-is-safe/)\\n• What Women Should Eat to Live Longer (http://nutritionfacts.org/video/what-women-should-eat-to-live-longer/)\\n\\nFor other cautionary pregnancy tales, see: \\n\\n• Chamomile Tea May Not Be Safe During Pregnancy (http://nutritionfacts.org/video/chamomile-tea-may-not-be-safe-during-pregnancy) \\n• What About the Caffeine? (http://nutritionfacts.org/video/what-about-the-caffeine/)\\n• Is Licorice Good For You? (http://nutritionfacts.org/video/is-licorice-good-for-you/)\\n• Iron During Pregnancy (http://nutritionfacts.org/video/iron-during-pregnancy/)\\n• Maternal Mercury Levels (http://nutritionfacts.org/video/maternal-mercury-levels/)\\n• Pregnant Vegans at Risk for Iodine Deficiency (http://nutritionfacts.org/video/pregnant-vegans-at-risk-for-iodine-deficiency-2/)\\n• American Vegans Placing Babies at Risk (http://nutritionfacts.org/video/american-vegans-placing-babies-at-risk/)\\n• Chicken Consumption and the Feminization of Male Genitalia (http://nutritionfacts.org/video/chicken-consumption-and-the-feminization-of-male-genitalia/)\\n\\nhttps://NutritionFacts.org\\n• Subscribe: https://nutritionfacts.org/subscribe\\n• Donate: https://nutritionfacts.org/donate\\n• Podcast : https://nutritionfacts.org/audio\\n• Facebook: www.facebook.com/NutritionFacts.org\\n• Twitter: www.twitter.com/nutrition_facts\\n• Instagram: www.instagram.com/nutrition_facts_org\\n• Books: https://nutritionfacts.org/books\\n• Shop: https://drgreger.org\", 'num_tokens': 1274, 'publishedAt': '2014-01-06T12:05:49Z', 'title': 'Bacon, Eggs, and Gestational Diabetes During Pregnancy', 'videoId': 'ysCuZT2t7XM'}),\n",
       " Document(page_content='like a heart attack.  So do eggs increase our risk of  cardiovascular disease or not?  Here’s the latest meta-analysis,  the latest compilation of all the best studies  on egg consumption and risk of  heart disease going back to 1930.  When you put them all together, what do we find?  Overall, those that ate the most eggs  had a 19% increased risk of cardiovascular disease,  a 68% increased risk of diabetes,  and then once you get diabetes, an 85%  increased risk of heart disease.  And it didn’t take much.  Less than a single egg a day was associated  with a significantly increased risk of heart disease.  Just over a half an egg a day may increase  heart disease risk between 6 and 40%,  and the risk of diabetes 29%.  They conclude that their findings support  the American Heart Association dietary guidelines,  which advise restricted egg consumption in adults  for preventing cardiometabolic diseases  like diabetes, our seventh leading cause of death,  and heart disease, killer number', metadata={'date': '2014-05-12', 'description': \"New subscribers to our e-newsletter always receive a free gift. Get yours here: https://nutritionfacts.org/subscribe/\\n\\n\\n \\n\\nDESCRIPTION: The latest meta-analysis of studies on egg consumption and heart disease risk found that even less than a single egg a day is associated with increased risk of both cardiovascular disease and diabetes. \\n\\nThe link to the smoking video is here: Eggs vs. Cigarettes in Atherosclerosis (http://nutritionfacts.org/video/eggs-vs-cigarettes-in-atherosclerosis/)\\n\\nMore on the diabetes connection in Eggs and Diabetes (http://nutritionfacts.org/video/eggs-and-diabetes/) and Bacon, Eggs, and Gestational Diabetes During Pregnancy (http://nutritionfacts.org/video/bacon-eggs-and-gestational-diabetes-during-pregnancy-2/).\\n\\nMore on eggs and the egg industry in general:\\n• Egg Industry Blind Spot (http://nutritionfacts.org/video/egg-industry-blind-spot/)\\n• Eggs and Cholesterol: Patently False and Misleading Claims (http://nutritionfacts.org/video/eggs-and-cholesterol-patently-false-and-misleading-claims/)\\n• Eggs, Choline, and Cancer (http://nutritionfacts.org/video/eggs-choline-and-cancer/)\\n• Who Says Eggs Aren't Healthy or Safe? (http://nutritionfacts.org/video/who-says-eggs-arent-healthy-or-safe/)\\n\\nThere's more to heart disease than just cholesterol buildup. In my next video, Eggs and Arterial Function (http://nutritionfacts.org/video/eggs-and-arterial-function/), I'll explore what effect egg consumption has on endothelial function, the ability of our arteries to relax normally.\\n\\nHave a question for Dr. Greger about this video? Leave it in the comment section at http://nutritionfacts.org/video/debunking-egg-industry-myths/ and he'll try to answer it!\\n\\nImage Credit: wilkeshe via Flickr.\\n\\nhttps://NutritionFacts.org\\n• Subscribe: https://nutritionfacts.org/subscribe\\n• Donate: https://nutritionfacts.org/donate\\n• Podcast : https://nutritionfacts.org/audio\\n• Facebook: www.facebook.com/NutritionFacts.org\\n• Twitter: www.twitter.com/nutrition_facts\\n• Instagram: www.instagram.com/nutrition_facts_org\\n• Books: https://nutritionfacts.org/books\\n• Shop: https://drgreger.org\", 'publishedAt': '2014-05-12T11:23:14Z', 'title': 'Debunking Egg Industry Myths', 'videoId': 'nZPulhmNEDs', 'year': 2014}),\n",
       " Document(page_content='like a heart attack.  So do eggs increase our risk of  cardiovascular disease or not?  Here’s the latest meta-analysis,  the latest compilation of all the best studies  on egg consumption and risk of  heart disease going back to 1930.  When you put them all together, what do we find?  Overall, those that ate the most eggs  had a 19% increased risk of cardiovascular disease,  a 68% increased risk of diabetes,  and then once you get diabetes, an 85%  increased risk of heart disease.  And it didn’t take much.  Less than a single egg a day was associated  with a significantly increased risk of heart disease.  Just over a half an egg a day may increase  heart disease risk between 6 and 40%,  and the risk of diabetes 29%.  They conclude that their findings support  the American Heart Association dietary guidelines,  which advise restricted egg consumption in adults  for preventing cardiometabolic diseases  like diabetes, our seventh leading cause of death,  and heart disease, killer number', metadata={'Unnamed: 0': 1952, 'Unnamed: 0.1': 1952, 'description': \"New subscribers to our e-newsletter always receive a free gift. Get yours here: https://nutritionfacts.org/subscribe/\\n\\n\\n \\n\\nDESCRIPTION: The latest meta-analysis of studies on egg consumption and heart disease risk found that even less than a single egg a day is associated with increased risk of both cardiovascular disease and diabetes. \\n\\nThe link to the smoking video is here: Eggs vs. Cigarettes in Atherosclerosis (http://nutritionfacts.org/video/eggs-vs-cigarettes-in-atherosclerosis/)\\n\\nMore on the diabetes connection in Eggs and Diabetes (http://nutritionfacts.org/video/eggs-and-diabetes/) and Bacon, Eggs, and Gestational Diabetes During Pregnancy (http://nutritionfacts.org/video/bacon-eggs-and-gestational-diabetes-during-pregnancy-2/).\\n\\nMore on eggs and the egg industry in general:\\n• Egg Industry Blind Spot (http://nutritionfacts.org/video/egg-industry-blind-spot/)\\n• Eggs and Cholesterol: Patently False and Misleading Claims (http://nutritionfacts.org/video/eggs-and-cholesterol-patently-false-and-misleading-claims/)\\n• Eggs, Choline, and Cancer (http://nutritionfacts.org/video/eggs-choline-and-cancer/)\\n• Who Says Eggs Aren't Healthy or Safe? (http://nutritionfacts.org/video/who-says-eggs-arent-healthy-or-safe/)\\n\\nThere's more to heart disease than just cholesterol buildup. In my next video, Eggs and Arterial Function (http://nutritionfacts.org/video/eggs-and-arterial-function/), I'll explore what effect egg consumption has on endothelial function, the ability of our arteries to relax normally.\\n\\nHave a question for Dr. Greger about this video? Leave it in the comment section at http://nutritionfacts.org/video/debunking-egg-industry-myths/ and he'll try to answer it!\\n\\nImage Credit: wilkeshe via Flickr.\\n\\nhttps://NutritionFacts.org\\n• Subscribe: https://nutritionfacts.org/subscribe\\n• Donate: https://nutritionfacts.org/donate\\n• Podcast : https://nutritionfacts.org/audio\\n• Facebook: www.facebook.com/NutritionFacts.org\\n• Twitter: www.twitter.com/nutrition_facts\\n• Instagram: www.instagram.com/nutrition_facts_org\\n• Books: https://nutritionfacts.org/books\\n• Shop: https://drgreger.org\", 'num_tokens': 590, 'publishedAt': '2014-05-12T11:23:14Z', 'title': 'Debunking Egg Industry Myths', 'videoId': 'nZPulhmNEDs'}),\n",
       " Document(page_content='\"Bacon, Eggs, and Gestational  Diabetes During Pregnancy\" Le diabète de grossesse, c\\'est-à-dire  un haut taux de sucre sanguin  se développant lors de la grossesse, est une des plus fréquentes complications  lors de la grossesse. Cette maladie est associée à une  croissance anormale du fœtus,  la mortalité infantile, la pre-eclampsie  (ce qui peut mettre la santé de la mère à risque), et d\\'autres malformations  congénitales majeures. Y-a-t\\'il quoi que ce soit qui puisse  être fait pour le prévenir ? Et bien, la recherche \"Harvard Nurses Health\"  à déterminée que  manger de la viande avant la grossesse  semblait augmenter le risque de diabète  durant la grossesse. Ils suggèrent que les  nitrosamines cancérigènes dans le bacon et d\\'autres formes de  viandes transformées pourrait être toxic aux cellules produisant de l\\'insuline. C\\'est peut être pour cette raison que  le jambon, et autres viandes froides,  pourrait jouer un rôle dans  l\\'imitation du diabète de type 1, mais un risque accru', metadata={'Unnamed: 0': 2006, 'Unnamed: 0.1': 2006, 'description': \"Eating meat or eggs before pregnancy may increase the risk of gestational diabetes.\\n\\nNew subscribers to our e-newsletter always receive a free gift. Get yours here: https://nutritionfacts.org/subscribe/\\n\\nI covered eggs and type 2 diabetes in my video Eggs and Diabetes (http://nutritionfacts.org/video/eggs-and-diabetes).\\n\\nMore on advanced glycation end products in Glycotoxins (http://nutritionfacts.org/video/glycotoxins/) and Avoiding a Sugary Grave (http://nutritionfacts.org/video/avoiding-a-sugary-grave/).\\n\\nThe heme iron in animal products is one of the toxic components the meat industry is trying to develop strategies to mediate. See Meat Additives to Diminish Toxicity (http://nutritionfacts.org/video/meat-additives-to-diminish-toxicity/). More on heme versus nonheme iron in Risk Associated With Iron Supplements (http://nutritionfacts.org/video/risk-associated-with-iron-supplements/).\\n\\nWhat else has the Harvard Nurses Health Study shown us? See:\\n\\n• Harvard's Meat and Mortality Studies (http://nutritionfacts.org/video/harvards-meat-and-mortality-studies/)\\n• Breast Cancer and Alcohol: How Much is Safe? (http://nutritionfacts.org/video/breast-cancer-and-alcohol-what-much-is-safe/)\\n• What Women Should Eat to Live Longer (http://nutritionfacts.org/video/what-women-should-eat-to-live-longer/)\\n\\nFor other cautionary pregnancy tales, see: \\n\\n• Chamomile Tea May Not Be Safe During Pregnancy (http://nutritionfacts.org/video/chamomile-tea-may-not-be-safe-during-pregnancy) \\n• What About the Caffeine? (http://nutritionfacts.org/video/what-about-the-caffeine/)\\n• Is Licorice Good For You? (http://nutritionfacts.org/video/is-licorice-good-for-you/)\\n• Iron During Pregnancy (http://nutritionfacts.org/video/iron-during-pregnancy/)\\n• Maternal Mercury Levels (http://nutritionfacts.org/video/maternal-mercury-levels/)\\n• Pregnant Vegans at Risk for Iodine Deficiency (http://nutritionfacts.org/video/pregnant-vegans-at-risk-for-iodine-deficiency-2/)\\n• American Vegans Placing Babies at Risk (http://nutritionfacts.org/video/american-vegans-placing-babies-at-risk/)\\n• Chicken Consumption and the Feminization of Male Genitalia (http://nutritionfacts.org/video/chicken-consumption-and-the-feminization-of-male-genitalia/)\\n\\nhttps://NutritionFacts.org\\n• Subscribe: https://nutritionfacts.org/subscribe\\n• Donate: https://nutritionfacts.org/donate\\n• Podcast : https://nutritionfacts.org/audio\\n• Facebook: www.facebook.com/NutritionFacts.org\\n• Twitter: www.twitter.com/nutrition_facts\\n• Instagram: www.instagram.com/nutrition_facts_org\\n• Books: https://nutritionfacts.org/books\\n• Shop: https://drgreger.org\", 'num_tokens': 1274, 'publishedAt': '2014-01-06T12:05:49Z', 'title': 'Bacon, Eggs, and Gestational Diabetes During Pregnancy', 'videoId': 'ysCuZT2t7XM'}),\n",
       " Document(page_content='\"Bacon, Eggs, and Gestational  Diabetes During Pregnancy\" Le diabète de grossesse, c\\'est-à-dire  un haut taux de sucre sanguin  se développant lors de la grossesse, est une des plus fréquentes complications  lors de la grossesse. Cette maladie est associée à une  croissance anormale du fœtus,  la mortalité infantile, la pre-eclampsie  (ce qui peut mettre la santé de la mère à risque), et d\\'autres malformations  congénitales majeures. Y-a-t\\'il quoi que ce soit qui puisse  être fait pour le prévenir ? Et bien, la recherche \"Harvard Nurses Health\"  à déterminée que  manger de la viande avant la grossesse  semblait augmenter le risque de diabète  durant la grossesse. Ils suggèrent que les  nitrosamines cancérigènes dans le bacon et d\\'autres formes de  viandes transformées pourrait être toxic aux cellules produisant de l\\'insuline. C\\'est peut être pour cette raison que  le jambon, et autres viandes froides,  pourrait jouer un rôle dans  l\\'imitation du diabète de type 1, mais un risque accru', metadata={'date': '2014-01-06', 'description': \"Eating meat or eggs before pregnancy may increase the risk of gestational diabetes.\\n\\nNew subscribers to our e-newsletter always receive a free gift. Get yours here: https://nutritionfacts.org/subscribe/\\n\\nI covered eggs and type 2 diabetes in my video Eggs and Diabetes (http://nutritionfacts.org/video/eggs-and-diabetes).\\n\\nMore on advanced glycation end products in Glycotoxins (http://nutritionfacts.org/video/glycotoxins/) and Avoiding a Sugary Grave (http://nutritionfacts.org/video/avoiding-a-sugary-grave/).\\n\\nThe heme iron in animal products is one of the toxic components the meat industry is trying to develop strategies to mediate. See Meat Additives to Diminish Toxicity (http://nutritionfacts.org/video/meat-additives-to-diminish-toxicity/). More on heme versus nonheme iron in Risk Associated With Iron Supplements (http://nutritionfacts.org/video/risk-associated-with-iron-supplements/).\\n\\nWhat else has the Harvard Nurses Health Study shown us? See:\\n\\n• Harvard's Meat and Mortality Studies (http://nutritionfacts.org/video/harvards-meat-and-mortality-studies/)\\n• Breast Cancer and Alcohol: How Much is Safe? (http://nutritionfacts.org/video/breast-cancer-and-alcohol-what-much-is-safe/)\\n• What Women Should Eat to Live Longer (http://nutritionfacts.org/video/what-women-should-eat-to-live-longer/)\\n\\nFor other cautionary pregnancy tales, see: \\n\\n• Chamomile Tea May Not Be Safe During Pregnancy (http://nutritionfacts.org/video/chamomile-tea-may-not-be-safe-during-pregnancy) \\n• What About the Caffeine? (http://nutritionfacts.org/video/what-about-the-caffeine/)\\n• Is Licorice Good For You? (http://nutritionfacts.org/video/is-licorice-good-for-you/)\\n• Iron During Pregnancy (http://nutritionfacts.org/video/iron-during-pregnancy/)\\n• Maternal Mercury Levels (http://nutritionfacts.org/video/maternal-mercury-levels/)\\n• Pregnant Vegans at Risk for Iodine Deficiency (http://nutritionfacts.org/video/pregnant-vegans-at-risk-for-iodine-deficiency-2/)\\n• American Vegans Placing Babies at Risk (http://nutritionfacts.org/video/american-vegans-placing-babies-at-risk/)\\n• Chicken Consumption and the Feminization of Male Genitalia (http://nutritionfacts.org/video/chicken-consumption-and-the-feminization-of-male-genitalia/)\\n\\nhttps://NutritionFacts.org\\n• Subscribe: https://nutritionfacts.org/subscribe\\n• Donate: https://nutritionfacts.org/donate\\n• Podcast : https://nutritionfacts.org/audio\\n• Facebook: www.facebook.com/NutritionFacts.org\\n• Twitter: www.twitter.com/nutrition_facts\\n• Instagram: www.instagram.com/nutrition_facts_org\\n• Books: https://nutritionfacts.org/books\\n• Shop: https://drgreger.org\", 'publishedAt': '2014-01-06T12:05:49Z', 'title': 'Bacon, Eggs, and Gestational Diabetes During Pregnancy', 'videoId': 'ysCuZT2t7XM', 'year': 2014})]"
      ]
     },
     "execution_count": 20,
     "metadata": {},
     "output_type": "execute_result"
    }
   ],
   "source": [
    "results"
   ]
  },
  {
   "cell_type": "markdown",
   "metadata": {},
   "source": [
    "# Discussion"
   ]
  },
  {
   "cell_type": "markdown",
   "metadata": {},
   "source": [
    "This is very, very basic! You may also want to do the following (which we will cover in the future):\n",
    "- Search on the small chunks but retrieve the full \"parent\" document to include in the context of the LLM query\n",
    "- Vectorize summaries of each document and the retrieve the summary or the full parent document\n",
    "- Vectorize questions a person might have about the documents and then retrieve the full parent document\n",
    "- Optimize the chunk size\n",
    "- Use different types of retrievers\n",
    "- ...and more!!"
   ]
  },
  {
   "cell_type": "code",
   "execution_count": null,
   "metadata": {},
   "outputs": [],
   "source": []
  }
 ],
 "metadata": {
  "kernelspec": {
   "display_name": "nutritionfacts_chat-G3oMJuqJ",
   "language": "python",
   "name": "python3"
  },
  "language_info": {
   "codemirror_mode": {
    "name": "ipython",
    "version": 3
   },
   "file_extension": ".py",
   "mimetype": "text/x-python",
   "name": "python",
   "nbconvert_exporter": "python",
   "pygments_lexer": "ipython3",
   "version": "3.12.1"
  }
 },
 "nbformat": 4,
 "nbformat_minor": 2
}
